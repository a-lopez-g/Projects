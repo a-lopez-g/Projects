{
 "cells": [
  {
   "cell_type": "code",
   "execution_count": 5,
   "id": "5680ed01",
   "metadata": {},
   "outputs": [],
   "source": [
    "import anndata\n",
    "import rpy2.robjects as ro\n",
    "from rpy2.robjects import pandas2ri\n",
    "from rpy2.robjects.packages import importr\n",
    "from rpy2.robjects.conversion import localconverter"
   ]
  },
  {
   "cell_type": "code",
   "execution_count": 4,
   "id": "f79381fb",
   "metadata": {},
   "outputs": [],
   "source": [
    "liger = importr('rliger')"
   ]
  },
  {
   "cell_type": "code",
   "execution_count": 7,
   "id": "3496c7b0",
   "metadata": {},
   "outputs": [
    {
     "name": "stdout",
     "output_type": "stream",
     "text": [
      "Data loaded (Raw): (10328, 32738) cells x genes\n",
      "Data loaded (Filtered + HVG): (10101, 919) cells x genes\n",
      "Data loaded (Filtered + HVG + ZScore): (10101, 919) cells x genes\n"
     ]
    }
   ],
   "source": [
    "# Load AnnData objects\n",
    "raw_data = anndata.read_h5ad(\"2023_06_Guan_Chemical-induced_epigenome_resetting_for_regeneration/data/adata.h5ad.gz\")\n",
    "print(f\"Data loaded (Raw): {raw_data.shape} cells x genes\")\n",
    "HVG_data = anndata.read_h5ad(\"2023_06_Guan_Chemical-induced_epigenome_resetting_for_regeneration//data/HVG_data.h5ad.gz\")\n",
    "print(f\"Data loaded (Filtered + HVG): {HVG_data.shape} cells x genes\")\n",
    "pcHVG_data = anndata.read_h5ad(\"2023_06_Guan_Chemical-induced_epigenome_resetting_for_regeneration//data/pcHVG_data.h5ad.gz\")\n",
    "print(f\"Data loaded (Filtered + HVG + ZScore): {pcHVG_data.shape} cells x genes\")"
   ]
  },
  {
   "cell_type": "code",
   "execution_count": 25,
   "id": "599f2b1f",
   "metadata": {},
   "outputs": [],
   "source": [
    "# HACERLO PARA CADA EXPERIMENTO\n",
    "# Convertir el objeto AnnData a un DataFrame de pandas\n",
    "somatic_data = HVG_data[HVG_data.obs.cell_state==\"somatic\",:].to_df()\n",
    "# Activar la conversión automática entre pandas y R\n",
    "pandas2ri.activate()\n",
    "# Convertir el DataFrame de pandas a un DataFrame de R\n",
    "with localconverter(ro.default_converter + pandas2ri.converter):\n",
    "    r_data_somatic = ro.conversion.py2rpy(somatic_data)\n",
    "# Crear un objeto liger en R\n",
    "ro.globalenv['r_data_somatic'] = r_data_somatic\n",
    "ro.r('r_data_sparse_somatic <- as(as.matrix(r_data_somatic), \"dgCMatrix\")')\n",
    "\n",
    "# Convertir el objeto AnnData a un DataFrame de pandas\n",
    "reprogramming_data = HVG_data[HVG_data.obs.cell_state==\"intermediate plastic state with a regeneration-like program\", :].to_df()\n",
    "# Activar la conversión automática entre pandas y R\n",
    "pandas2ri.activate()\n",
    "# Convertir el DataFrame de pandas a un DataFrame de R\n",
    "with localconverter(ro.default_converter + pandas2ri.converter):\n",
    "    r_data_reprogramming = ro.conversion.py2rpy(reprogramming_data)\n",
    "# Crear un objeto liger en R\n",
    "ro.globalenv['r_data_reprogramming'] = r_data_reprogramming\n",
    "ro.r('r_data_sparse_reprogramming <- as(as.matrix(r_data_reprogramming), \"dgCMatrix\")')\n"
   ]
  },
  {
   "cell_type": "code",
   "execution_count": 31,
   "id": "baadd9a0",
   "metadata": {},
   "outputs": [
    {
     "name": "stdout",
     "output_type": "stream",
     "text": [
      "ℹ calculating QC for dataset \"batch1\"\n"
     ]
    },
    {
     "name": "stdout",
     "output_type": "stream",
     "text": [
      "✔ calculating QC for dataset \"batch1\" ... done\n",
      "\n",
      "ℹ calculating QC for dataset \"batch2\"\n",
      "✔ calculating QC for dataset \"batch2\" ... done\n",
      "\n",
      "ℹ Removing missing in dataset: \"batch1\"\n",
      "ℹ Normalizing datasets \"batch1\"\n",
      "ℹ Normalizing datasets \"batch2\"\n",
      "✔ Normalizing datasets \"batch2\" ... done\n",
      "\n",
      "✔ Normalizing datasets \"batch1\" ... done\n",
      "\n",
      "ℹ Selecting variable features for dataset \"batch1\"\n",
      "✔ ... 0 features selected out of 0 shared features.\n",
      "ℹ Selecting variable features for dataset \"batch2\"\n",
      "✔ ... 0 features selected out of 0 shared features.\n",
      "✖ No genes were selected. Lower `thresh` values or set `combine = 'union'`\n",
      "Error in `scaleNotCenter()`:\n",
      "! No variable feature specified. Run `selectGenes()` first.\n",
      "Run `rlang::last_trace()` to see where the error occurred.\n"
     ]
    },
    {
     "ename": "RRuntimeError",
     "evalue": "Error in scaleNotCenter(liger_object) : \n",
     "output_type": "error",
     "traceback": [
      "\u001b[0;31m---------------------------------------------------------------------------\u001b[0m",
      "\u001b[0;31mRRuntimeError\u001b[0m                             Traceback (most recent call last)",
      "Cell \u001b[0;32mIn[31], line 7\u001b[0m\n\u001b[1;32m      5\u001b[0m \u001b[38;5;66;03m# Seleccionar características variables -> he bajado el umbral + combine porque no seleccionaba ningun gen -> por que?\u001b[39;00m\n\u001b[1;32m      6\u001b[0m ro\u001b[38;5;241m.\u001b[39mr(\u001b[38;5;124m'\u001b[39m\u001b[38;5;124mliger_object <- selectGenes(liger_object, combine = \u001b[39m\u001b[38;5;124m\"\u001b[39m\u001b[38;5;124munion\u001b[39m\u001b[38;5;124m\"\u001b[39m\u001b[38;5;124m, thresh = 0.1)\u001b[39m\u001b[38;5;124m'\u001b[39m)\n\u001b[0;32m----> 7\u001b[0m ro\u001b[38;5;241m.\u001b[39mr(\u001b[38;5;124m'\u001b[39m\u001b[38;5;124mliger_object <- scaleNotCenter(liger_object)\u001b[39m\u001b[38;5;124m'\u001b[39m)\n\u001b[1;32m      9\u001b[0m \u001b[38;5;66;03m# Realizar la integración con liger\u001b[39;00m\n\u001b[1;32m     10\u001b[0m ro\u001b[38;5;241m.\u001b[39mr(\u001b[38;5;124m'\u001b[39m\u001b[38;5;124mliger_object <- optimizeALS(liger_object, k = 20)\u001b[39m\u001b[38;5;124m'\u001b[39m)\n",
      "File \u001b[0;32m~/anaconda3/envs/r_env/lib/python3.11/site-packages/rpy2/robjects/__init__.py:509\u001b[0m, in \u001b[0;36mR.__call__\u001b[0;34m(self, string, invisible, print_r_warnings)\u001b[0m\n\u001b[1;32m    507\u001b[0m     invisible \u001b[38;5;241m=\u001b[39m \u001b[38;5;28mself\u001b[39m\u001b[38;5;241m.\u001b[39m_invisible\n\u001b[1;32m    508\u001b[0m \u001b[38;5;28;01mif\u001b[39;00m invisible:\n\u001b[0;32m--> 509\u001b[0m     res, visible \u001b[38;5;241m=\u001b[39m rinterface\u001b[38;5;241m.\u001b[39mevalr_expr_with_visible(   \u001b[38;5;66;03m# type: ignore\u001b[39;00m\n\u001b[1;32m    510\u001b[0m         r_expr\n\u001b[1;32m    511\u001b[0m     )\n\u001b[1;32m    512\u001b[0m     \u001b[38;5;28;01mif\u001b[39;00m \u001b[38;5;129;01mnot\u001b[39;00m visible[\u001b[38;5;241m0\u001b[39m]:  \u001b[38;5;66;03m# type: ignore\u001b[39;00m\n\u001b[1;32m    513\u001b[0m         res \u001b[38;5;241m=\u001b[39m \u001b[38;5;28;01mNone\u001b[39;00m\n",
      "File \u001b[0;32m~/anaconda3/envs/r_env/lib/python3.11/site-packages/rpy2/rinterface.py:192\u001b[0m, in \u001b[0;36mevalr_expr_with_visible\u001b[0;34m(expr, envir)\u001b[0m\n\u001b[1;32m    185\u001b[0m r_res \u001b[38;5;241m=\u001b[39m rmemory\u001b[38;5;241m.\u001b[39mprotect(\n\u001b[1;32m    186\u001b[0m         openrlib\u001b[38;5;241m.\u001b[39mrlib\u001b[38;5;241m.\u001b[39mR_tryEval(\n\u001b[1;32m    187\u001b[0m             r_call,\n\u001b[1;32m    188\u001b[0m             envir\u001b[38;5;241m.\u001b[39m__sexp__\u001b[38;5;241m.\u001b[39m_cdata,  \u001b[38;5;66;03m# call context.\u001b[39;00m\n\u001b[1;32m    189\u001b[0m             error_occured)\n\u001b[1;32m    190\u001b[0m )\n\u001b[1;32m    191\u001b[0m \u001b[38;5;28;01mif\u001b[39;00m error_occured[\u001b[38;5;241m0\u001b[39m]:\n\u001b[0;32m--> 192\u001b[0m     \u001b[38;5;28;01mraise\u001b[39;00m embedded\u001b[38;5;241m.\u001b[39mRRuntimeError(_rinterface\u001b[38;5;241m.\u001b[39m_geterrmessage())\n\u001b[1;32m    193\u001b[0m res \u001b[38;5;241m=\u001b[39m conversion\u001b[38;5;241m.\u001b[39m_cdata_to_rinterface(r_res)\n\u001b[1;32m    194\u001b[0m \u001b[38;5;28;01massert\u001b[39;00m \u001b[38;5;28misinstance\u001b[39m(res, ListSexpVector)\n",
      "\u001b[0;31mRRuntimeError\u001b[0m: Error in scaleNotCenter(liger_object) : \n"
     ]
    }
   ],
   "source": [
    "# Crear un objeto liger en R con la matriz esparsa\n",
    "ro.r('liger_object <- createLiger(list(batch1 = r_data_sparse_somatic, batch2 = r_data_sparse_reprogramming))')\n",
    "# Normalización y escalado de datos\n",
    "ro.r('liger_object <- normalize(liger_object)')\n",
    "# Seleccionar características variables -> he bajado el umbral + combine porque no seleccionaba ningun gen -> por que?\n",
    "ro.r('liger_object <- selectGenes(liger_object, combine = \"union\", thresh = 0.1)')\n",
    "ro.r('liger_object <- scaleNotCenter(liger_object)')\n",
    "\n",
    "# Realizar la integración con liger\n",
    "ro.r('liger_object <- optimizeALS(liger_object, k = 20)')\n",
    "ro.r('liger_object <- quantileAlignSNF(liger_object)')\n",
    "\n",
    "# Obtener los resultados de la integración\n",
    "ro.r('integrated_matrix <- liger_object@H.norm')\n",
    "\n",
    "# Realizar el clustering de Louvain\n",
    "ro.r('liger_object <- clusterLouvainJaccard(liger_object, resolution = 1)')\n",
    "\n",
    "# Realizar UMAP para la visualización\n",
    "ro.r('liger_object <- runUMAP(liger_object, distance = \"cosine\", n_neighbors = 30, min_dist = 0.3)')\n",
    "\n",
    "# Obtener los resultados de UMAP y clustering\n",
    "umap_results = ro.r('liger_object@umap.coords')\n",
    "clusters = ro.r('liger_object@clusters')\n",
    "# Convertir la matriz integrada de R a pandas\n",
    "integrated_matrix = ro.conversion.rpy2py(ro.r('integrated_matrix'))"
   ]
  },
  {
   "cell_type": "code",
   "execution_count": null,
   "id": "8e7006ce",
   "metadata": {},
   "outputs": [],
   "source": [
    "import matplotlib.pyplot as plt\n",
    "import seaborn as sns\n",
    "import pandas as pd\n",
    "\n",
    "# Convertir resultados de R a DataFrame de pandas\n",
    "umap_df = pd.DataFrame(umap_results, columns=['UMAP1', 'UMAP2'])\n",
    "umap_df['Cluster'] = clusters\n",
    "\n",
    "# Visualización con seaborn\n",
    "plt.figure(figsize=(10, 8))\n",
    "sns.scatterplot(data=umap_df, x='UMAP1', y='UMAP2', hue='Cluster', palette='tab10', s=100)\n",
    "plt.title('UMAP visualization of Louvain Clusters')\n",
    "plt.show()"
   ]
  },
  {
   "cell_type": "code",
   "execution_count": 1,
   "id": "550dea56-87a6-48a3-8a1f-e43e156f177e",
   "metadata": {},
   "outputs": [
    {
     "ename": "ERROR",
     "evalue": "Error in parse(text = x, srcfile = src): <text>:1:8: unexpected symbol\n1: import anndata\n           ^\n",
     "output_type": "error",
     "traceback": [
      "Error in parse(text = x, srcfile = src): <text>:1:8: unexpected symbol\n1: import anndata\n           ^\nTraceback:\n"
     ]
    }
   ],
   "source": [
    "# Cargar los datos de scRNA-seq en una matriz AnnData\n",
    "adata = ad.read_h5ad('2023_06_Guan_Chemical-induced_epigenome_resetting_for_regeneration/data/adata.h5ad.gz')\n",
    "\n",
    "# Convertir el objeto AnnData a un DataFrame de pandas\n",
    "data = adata.to_df()\n",
    "\n",
    "# Activar la conversión automática entre pandas y R\n",
    "pandas2ri.activate()\n",
    "\n",
    "# Importar liger en R\n",
    "liger = importr('liger')\n",
    "\n",
    "# Convertir el DataFrame de pandas a un DataFrame de R\n",
    "with localconverter(ro.default_converter + pandas2ri.converter):\n",
    "    r_data = ro.conversion.py2rpy(data)\n",
    "\n",
    "# Crear un objeto liger en R\n",
    "ro.globalenv['r_data'] = r_data\n",
    "ro.r('liger_object <- createLiger(list(batch1 = r_data))')\n",
    "\n",
    "# Normalización y escalado de datos\n",
    "ro.r('liger_object <- normalize(liger_object)')\n",
    "ro.r('liger_object <- scaleNotCenter(liger_object)')\n",
    "\n",
    "# Realizar la integración con liger\n",
    "ro.r('liger_object <- optimizeALS(liger_object, k = 20)')\n",
    "ro.r('liger_object <- quantileAlignSNF(liger_object)')\n",
    "\n",
    "# Obtener los resultados de la integración\n",
    "ro.r('integrated_matrix <- liger_object@H.norm')\n",
    "\n",
    "# Convertir la matriz integrada de R a pandas\n",
    "integrated_matrix = ro.conversion.rpy2py(ro.r('integrated_matrix'))\n",
    "\n",
    "# Crear un nuevo objeto AnnData con la matriz integrada\n",
    "adata_integrated = ad.AnnData(X=integrated_matrix)\n",
    "\n",
    "# Guardar el objeto AnnData integrado\n",
    "adata_integrated.write('integrated_anndata.h5ad')\n",
    "\n",
    "print(\"Integración con LIGER completada y guardada en 'integrated_anndata.h5ad'\")\n"
   ]
  },
  {
   "cell_type": "code",
   "execution_count": null,
   "id": "acfe0569-a50e-4f69-abca-e5cd20096384",
   "metadata": {},
   "outputs": [],
   "source": [
    "# Instalar paquetes\n",
    "# install.packages('BiocManager')\n",
    "# BiocManager::install('ronammar/liger', dependencies=TRUE)\n",
    "\n",
    "# Convertir el objeto AnnData a un DataFrame de pandas\n",
    "df_data = HVG_data.to_df()\n",
    "\n",
    "# Activar la conversión automática entre pandas y R\n",
    "pandas2ri.activate()\n",
    "\n",
    "# Importar liger en R\n",
    "liger = importr('liger')\n",
    "\n",
    "# Convertir el DataFrame de pandas a un DataFrame de R\n",
    "with localconverter(ro.default_converter + pandas2ri.converter):\n",
    "    r_data = ro.conversion.py2rpy(df_data)\n",
    "\n",
    "# Crear un objeto liger en R\n",
    "ro.globalenv['r_data'] = r_data\n",
    "ro.r('liger_object <- createLiger(list(batch1 = r_data))')\n",
    "\n",
    "# Normalización y escalado de datos\n",
    "ro.r('liger_object <- normalize(liger_object)')\n",
    "ro.r('liger_object <- scaleNotCenter(liger_object)')\n",
    "\n",
    "# Realizar la integración con liger\n",
    "ro.r('liger_object <- optimizeALS(liger_object, k = 20)')\n",
    "ro.r('liger_object <- quantileAlignSNF(liger_object)')\n",
    "\n",
    "# Obtener los resultados de la integración\n",
    "ro.r('integrated_matrix <- liger_object@H.norm')\n",
    "\n",
    "# Convertir la matriz integrada de R a pandas\n",
    "integrated_matrix = ro.conversion.rpy2py(ro.r('integrated_matrix'))\n",
    "\n",
    "# Crear un nuevo objeto AnnData con la matriz integrada\n",
    "adata_integrated = anndata.AnnData(X=integrated_matrix)\n",
    "\n",
    "# Guardar el objeto AnnData integrado\n",
    "adata_integrated.write('integrated_anndata.h5ad')\n",
    "\n",
    "print(\"Integración con LIGER completada y guardada en 'integrated_anndata.h5ad'\")\n",
    "\n"
   ]
  }
 ],
 "metadata": {
  "kernelspec": {
   "display_name": "r_env",
   "language": "python",
   "name": "python3"
  },
  "language_info": {
   "codemirror_mode": {
    "name": "ipython",
    "version": 3
   },
   "file_extension": ".py",
   "mimetype": "text/x-python",
   "name": "python",
   "nbconvert_exporter": "python",
   "pygments_lexer": "ipython3",
   "version": "3.11.7"
  }
 },
 "nbformat": 4,
 "nbformat_minor": 5
}
