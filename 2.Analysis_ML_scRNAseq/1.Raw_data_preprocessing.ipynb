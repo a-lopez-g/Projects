{
 "cells": [
  {
   "cell_type": "code",
   "execution_count": 1,
   "id": "0a270cbd",
   "metadata": {
    "metadata": {}
   },
   "outputs": [],
   "source": [
    "import csv\n",
    "import os\n",
    "import scipy.io\n",
    "import numpy as np\n",
    "import pandas as pd\n",
    "from collections import Counter"
   ]
  },
  {
   "cell_type": "code",
   "execution_count": null,
   "id": "76a0f7f4",
   "metadata": {},
   "outputs": [],
   "source": [
    "\"\"\"\" Read, preprocess and save scRNA-seq data\"\"\" "
   ]
  },
  {
   "cell_type": "markdown",
   "id": "edf6c695",
   "metadata": {},
   "source": [
    "#### Main functions"
   ]
  },
  {
   "cell_type": "code",
   "execution_count": 2,
   "id": "b5b56880",
   "metadata": {
    "metadata": {}
   },
   "outputs": [],
   "source": [
    "# Read/save data\n",
    "\n",
    "def read_raw_data(path:str) -> list : \n",
    "    \"\"\"\" Read count matrix data, gene data (features) and cells data (barcodes) and save them as arrays\"\"\"\n",
    "    \n",
    "    mat = scipy.io.mmread(os.path.join(path, \"matrix.mtx\"))\n",
    "    print(f\"Matrix shape: {mat.shape}\")\n",
    "    \n",
    "    features_path = os.path.join(path, \"features.tsv\")\n",
    "    feature_ids = [row[0] for row in csv.reader(open(features_path), delimiter=\"\\t\")]\n",
    "    print(f\"Number of feature's (genes) ids: {len(feature_ids)}\")\n",
    "    feature_names = [row[1] for row in csv.reader(open(features_path), delimiter=\"\\t\")]\n",
    "    print(f\"Number of feature's (genes) names: {len(feature_names)}\")\n",
    "    feature_types = [row[2] for row in csv.reader(open(features_path), delimiter=\"\\t\")]\n",
    "    print(f\"Number of feature's (genes) types: {len(feature_types)}\")\n",
    "\n",
    "    barcodes_path = os.path.join(path, \"barcodes.tsv\")\n",
    "    barcodes = [row[0] for row in csv.reader(open(barcodes_path), delimiter=\"\\t\")]\n",
    "    print(f\"Number of barcodes (cells): {len(barcodes)}\")\n",
    "    \n",
    "    return mat,feature_ids,feature_names,feature_types,barcodes\n",
    "\n",
    "def save_data_to_txt(mat,feature_ids:list,gene_names:list,feature_types:list,barcodes:list): \n",
    "    \"\"\"\" Save count matrix data, gene data (features) and cells data (barcodes) as .txt files \"\"\" \n",
    "\n",
    "    # Genes (name,id,type) and cells (barcodes) data\n",
    "    np.savetxt(\"./gene_id.txt.gz\",feature_ids,delimiter = \",\",fmt = '%s')\n",
    "    np.savetxt(\"./gene_names.txt.gz\",gene_names,delimiter = \",\",fmt = '%s')\n",
    "    np.savetxt(\"./feature_types.txt.gz\",feature_types,delimiter = \",\",fmt = '%s')\n",
    "    np.savetxt(\"./barcodes.txt.gz\",barcodes,delimiter = \",\",fmt = '%s')\n",
    "    # Count matrix (columns = cells, filas = genes)\n",
    "    #X = mat.toarray().astype(np.uint8)\n",
    "    np.savetxt(\"./X.txt.gz\",mat.transpose().toarray().astype(np.uint8),delimiter = \",\")\n",
    "    \n",
    "    return \"Saved.\"\n",
    "\n",
    "def create_and_save_dataframe(mat, barcodes, feature_ids, gene_names, feature_types): \n",
    "    \"\"\"\" Save count matrix data and gene data (features) in a unique Dataframe \"\"\" \n",
    "    matrix = pd.DataFrame.sparse.from_spmatrix(mat)\n",
    "    matrix.columns = barcodes\n",
    "    matrix.insert(loc=0, column=\"feature_id\", value=feature_ids)\n",
    "    matrix.insert(loc=0, column=\"gene\", value=gene_names)\n",
    "    matrix.insert(loc=0, column=\"feature_type\", value=feature_types)\n",
    "    \n",
    "    # Save the table as a CSV (note the CSV will be a very large file) !!!!\n",
    "    matrix.to_csv(\"mex_matrix.csv\", index=False)\n",
    "    return \"CSV saved.\"\n",
    "\n",
    "# Analyse data\n",
    "\n",
    "def analyse_features(feature_ids: list, gene_names: list):\n",
    "    \"\"\" Check that gene ids and gene names are different.\"\"\"\n",
    "\n",
    "    if len(feature_ids)==len(set(feature_ids)):\n",
    "        print(\"All gene ids are different.\")\n",
    "    else:\n",
    "        print(f\"There are {len(feature_ids)-len(set(feature_ids))} gene ids repeated.\")\n",
    "\n",
    "    if len(gene_names)==len(set(gene_names)):\n",
    "        print(\"All gene names are different.\")\n",
    "    else:\n",
    "        print(f\"There are {len(gene_names)-len(set(gene_names))} gene names repeated.\")\n",
    "\n",
    "def analyse_barcodes(barcodes: list): \n",
    "    \"\"\" Check that cells barcodes (ids) are different.\"\"\"\n",
    "\n",
    "    if len(barcodes)==len(set(barcodes)):\n",
    "        print(\"All samples are unique.\")\n",
    "    else:\n",
    "        print(f\"There are {len(barcodes)-len(set(barcodes))} cell ids repeated (sample repeated too?).\")\n",
    "\n",
    "# Preprocess data\n",
    "\n",
    "def preprocess_data(mat, barcodes: list, feature_ids: list, synthetic_data: dict):\n",
    "    \"\"\"\" Create dataframe with count matrix and cell data \"\"\"\n",
    "\n",
    "    matrix = pd.DataFrame.sparse.from_spmatrix(mat)\n",
    "    # Transpose original matrix (genes x cells)\n",
    "    count_matrix = matrix.transpose()\n",
    "    count_matrix.index = barcodes\n",
    "    count_matrix.index.name = \"cell_id\"\n",
    "    count_matrix.columns = feature_ids\n",
    "    # Add synthetic data related to samples\n",
    "    count_matrix[\"reprogramming_type\"] = synthetic_data[\"reprogramming_type\"]\n",
    "    count_matrix[\"reprogramming_stage\"] = synthetic_data[\"reprogramming_stage\"]\n",
    "    count_matrix[\"cell_state\"] = synthetic_data[\"cell_state\"]\n",
    "    count_matrix[\"cell_type\"] = synthetic_data[\"cell_type\"]\n",
    "    count_matrix[\"cell_line\"] = synthetic_data[\"cell_line\"]\n",
    "\n",
    "    return count_matrix\n",
    "\n",
    "def preprocess_metadata(gene_names: list, feature_ids: list, feature_types: list):  \n",
    "    \"\"\"\" Create dataframe with gene metadata \"\"\"\n",
    "    genes_metadata = pd.DataFrame()\n",
    "    genes_metadata.insert(loc=0, column=\"gene_name\", value=gene_names)\n",
    "    genes_metadata.insert(loc=0, column=\"gene_type\", value=feature_types)\n",
    "    genes_metadata.index = feature_ids\n",
    "    genes_metadata.index.name = \"gene_id\"\n",
    "    return genes_metadata\n",
    "\n"
   ]
  },
  {
   "cell_type": "markdown",
   "id": "3624fbf6",
   "metadata": {},
   "source": [
    "## 1. hADSCS-1013"
   ]
  },
  {
   "cell_type": "markdown",
   "id": "a7cea8e1",
   "metadata": {},
   "source": [
    "### 1.1 Somatic, without reprogramming"
   ]
  },
  {
   "cell_type": "code",
   "execution_count": 3,
   "id": "bf028635",
   "metadata": {
    "metadata": {}
   },
   "outputs": [
    {
     "name": "stdout",
     "output_type": "stream",
     "text": [
      "Matrix shape: (32738, 5404)\n",
      "Number of feature's (genes) ids: 32738\n",
      "Number of feature's (genes) names: 32738\n",
      "Number of feature's (genes) types: 32738\n",
      "Number of barcodes (cells): 5404\n"
     ]
    }
   ],
   "source": [
    "# Download data from -> https://www.ncbi.nlm.nih.gov/geo/query/acc.cgi?acc=GSM6592448\n",
    "# Read raw data \n",
    "# path = \".\\\\data\\\\hADSC-1013\"\n",
    "path = \"./data/hADSC-1013\"\n",
    "mat,feature_ids,gene_names,feature_types,barcodes = read_raw_data(path)"
   ]
  },
  {
   "cell_type": "markdown",
   "id": "bde70d94",
   "metadata": {},
   "source": [
    "#### Analyse data"
   ]
  },
  {
   "cell_type": "code",
   "execution_count": 4,
   "id": "604c4f76",
   "metadata": {
    "metadata": {}
   },
   "outputs": [
    {
     "name": "stdout",
     "output_type": "stream",
     "text": [
      "All gene ids are different.\n",
      "There are 95 gene names repeated.\n",
      "Tipos de genes presentes: Counter({'Gene Expression': 32738})\n",
      "All samples are unique.\n"
     ]
    }
   ],
   "source": [
    "### Analyse genes\n",
    "# Check all genes ids and names are unique\n",
    "analyse_features(feature_ids, gene_names)\n",
    "# Check genes types \n",
    "print(f\"Tipos de genes presentes: {Counter(feature_types)}\")\n",
    "\n",
    "### Analyse cells\n",
    "# Check all samples are unique \n",
    "analyse_barcodes(barcodes)"
   ]
  },
  {
   "cell_type": "markdown",
   "id": "f56fc30f",
   "metadata": {},
   "source": [
    "En relación a los genes(features), hay nombres repetidos, pero no los ids. Nos fiamos de que son genes diferentes y usamos los ids para las columnas, en un futuro usaremos estos ids para encontrar los nombres reales de los genes. \n",
    "\n",
    "Por otro lado, todas las células son únicas, por lo tanto no tenemos que eliminar ninguna muestra. Aquí podemos analizar la distribución y eliminar aquellas en las que la varianza sea menor del 95% por ejemplo."
   ]
  },
  {
   "cell_type": "markdown",
   "id": "87fde2e8",
   "metadata": {},
   "source": [
    "#### Data preprocessing"
   ]
  },
  {
   "cell_type": "code",
   "execution_count": 5,
   "id": "1e8163b8",
   "metadata": {
    "metadata": {}
   },
   "outputs": [],
   "source": [
    "# Organise data in two files\n",
    "\n",
    "##### Count matrix: cells x genes -> barcodes x genes_ids \n",
    "synthetic_data = {\n",
    "                    \"reprogramming_type\": False, # Sin reprogramar\n",
    "                    \"reprogramming_stage\": False,\n",
    "                    \"cell_state\": \"somatic\",\n",
    "                    \"cell_type\": \"hADCS\",\n",
    "                    \"cell_line\": \"1013\"\n",
    "                }\n",
    "count_matrix = preprocess_data(mat,barcodes,feature_ids,synthetic_data)\n",
    "\n",
    "##### Gene metadata\n",
    "gene_metadata = preprocess_metadata(gene_names,feature_ids,feature_types)\n"
   ]
  },
  {
   "cell_type": "markdown",
   "id": "6ea113d8",
   "metadata": {},
   "source": [
    "#### Save data"
   ]
  },
  {
   "cell_type": "code",
   "execution_count": 6,
   "id": "8ae262ac",
   "metadata": {
    "metadata": {}
   },
   "outputs": [
    {
     "data": {
      "text/html": [
       "<div>\n",
       "<style scoped>\n",
       "    .dataframe tbody tr th:only-of-type {\n",
       "        vertical-align: middle;\n",
       "    }\n",
       "\n",
       "    .dataframe tbody tr th {\n",
       "        vertical-align: top;\n",
       "    }\n",
       "\n",
       "    .dataframe thead th {\n",
       "        text-align: right;\n",
       "    }\n",
       "</style>\n",
       "<table border=\"1\" class=\"dataframe\">\n",
       "  <thead>\n",
       "    <tr style=\"text-align: right;\">\n",
       "      <th></th>\n",
       "      <th>ENSG00000243485</th>\n",
       "      <th>ENSG00000237613</th>\n",
       "      <th>ENSG00000186092</th>\n",
       "      <th>ENSG00000238009</th>\n",
       "      <th>ENSG00000239945</th>\n",
       "      <th>ENSG00000237683</th>\n",
       "      <th>ENSG00000239906</th>\n",
       "      <th>ENSG00000241599</th>\n",
       "      <th>ENSG00000228463</th>\n",
       "      <th>ENSG00000237094</th>\n",
       "      <th>...</th>\n",
       "      <th>ENSG00000215635</th>\n",
       "      <th>ENSG00000268590</th>\n",
       "      <th>ENSG00000251180</th>\n",
       "      <th>ENSG00000215616</th>\n",
       "      <th>ENSG00000215611</th>\n",
       "      <th>reprogramming_type</th>\n",
       "      <th>reprogramming_stage</th>\n",
       "      <th>cell_state</th>\n",
       "      <th>cell_type</th>\n",
       "      <th>cell_line</th>\n",
       "    </tr>\n",
       "    <tr>\n",
       "      <th>cell_id</th>\n",
       "      <th></th>\n",
       "      <th></th>\n",
       "      <th></th>\n",
       "      <th></th>\n",
       "      <th></th>\n",
       "      <th></th>\n",
       "      <th></th>\n",
       "      <th></th>\n",
       "      <th></th>\n",
       "      <th></th>\n",
       "      <th></th>\n",
       "      <th></th>\n",
       "      <th></th>\n",
       "      <th></th>\n",
       "      <th></th>\n",
       "      <th></th>\n",
       "      <th></th>\n",
       "      <th></th>\n",
       "      <th></th>\n",
       "      <th></th>\n",
       "      <th></th>\n",
       "    </tr>\n",
       "  </thead>\n",
       "  <tbody>\n",
       "    <tr>\n",
       "      <th>AAACCCAAGAAGAGCA-1</th>\n",
       "      <td>0</td>\n",
       "      <td>0</td>\n",
       "      <td>0</td>\n",
       "      <td>0</td>\n",
       "      <td>0</td>\n",
       "      <td>0</td>\n",
       "      <td>0</td>\n",
       "      <td>0</td>\n",
       "      <td>0</td>\n",
       "      <td>0</td>\n",
       "      <td>...</td>\n",
       "      <td>0</td>\n",
       "      <td>0</td>\n",
       "      <td>0</td>\n",
       "      <td>0</td>\n",
       "      <td>0</td>\n",
       "      <td>False</td>\n",
       "      <td>False</td>\n",
       "      <td>somatic</td>\n",
       "      <td>hADCS</td>\n",
       "      <td>1013</td>\n",
       "    </tr>\n",
       "    <tr>\n",
       "      <th>AAACCCACAAAGTGTA-1</th>\n",
       "      <td>0</td>\n",
       "      <td>0</td>\n",
       "      <td>0</td>\n",
       "      <td>0</td>\n",
       "      <td>0</td>\n",
       "      <td>0</td>\n",
       "      <td>0</td>\n",
       "      <td>0</td>\n",
       "      <td>1</td>\n",
       "      <td>0</td>\n",
       "      <td>...</td>\n",
       "      <td>0</td>\n",
       "      <td>0</td>\n",
       "      <td>0</td>\n",
       "      <td>0</td>\n",
       "      <td>0</td>\n",
       "      <td>False</td>\n",
       "      <td>False</td>\n",
       "      <td>somatic</td>\n",
       "      <td>hADCS</td>\n",
       "      <td>1013</td>\n",
       "    </tr>\n",
       "  </tbody>\n",
       "</table>\n",
       "<p>2 rows × 32743 columns</p>\n",
       "</div>"
      ],
      "text/plain": [
       "                    ENSG00000243485  ENSG00000237613  ENSG00000186092  \\\n",
       "cell_id                                                                 \n",
       "AAACCCAAGAAGAGCA-1                0                0                0   \n",
       "AAACCCACAAAGTGTA-1                0                0                0   \n",
       "\n",
       "                    ENSG00000238009  ENSG00000239945  ENSG00000237683  \\\n",
       "cell_id                                                                 \n",
       "AAACCCAAGAAGAGCA-1                0                0                0   \n",
       "AAACCCACAAAGTGTA-1                0                0                0   \n",
       "\n",
       "                    ENSG00000239906  ENSG00000241599  ENSG00000228463  \\\n",
       "cell_id                                                                 \n",
       "AAACCCAAGAAGAGCA-1                0                0                0   \n",
       "AAACCCACAAAGTGTA-1                0                0                1   \n",
       "\n",
       "                    ENSG00000237094  ...  ENSG00000215635  ENSG00000268590  \\\n",
       "cell_id                              ...                                     \n",
       "AAACCCAAGAAGAGCA-1                0  ...                0                0   \n",
       "AAACCCACAAAGTGTA-1                0  ...                0                0   \n",
       "\n",
       "                    ENSG00000251180  ENSG00000215616  ENSG00000215611  \\\n",
       "cell_id                                                                 \n",
       "AAACCCAAGAAGAGCA-1                0                0                0   \n",
       "AAACCCACAAAGTGTA-1                0                0                0   \n",
       "\n",
       "                    reprogramming_type  reprogramming_stage  cell_state  \\\n",
       "cell_id                                                                   \n",
       "AAACCCAAGAAGAGCA-1               False                False     somatic   \n",
       "AAACCCACAAAGTGTA-1               False                False     somatic   \n",
       "\n",
       "                    cell_type  cell_line  \n",
       "cell_id                                   \n",
       "AAACCCAAGAAGAGCA-1      hADCS       1013  \n",
       "AAACCCACAAAGTGTA-1      hADCS       1013  \n",
       "\n",
       "[2 rows x 32743 columns]"
      ]
     },
     "execution_count": 6,
     "metadata": {},
     "output_type": "execute_result"
    }
   ],
   "source": [
    "count_matrix.head(2)"
   ]
  },
  {
   "cell_type": "code",
   "execution_count": 7,
   "id": "41ef0937",
   "metadata": {
    "metadata": {}
   },
   "outputs": [
    {
     "data": {
      "text/html": [
       "<div>\n",
       "<style scoped>\n",
       "    .dataframe tbody tr th:only-of-type {\n",
       "        vertical-align: middle;\n",
       "    }\n",
       "\n",
       "    .dataframe tbody tr th {\n",
       "        vertical-align: top;\n",
       "    }\n",
       "\n",
       "    .dataframe thead th {\n",
       "        text-align: right;\n",
       "    }\n",
       "</style>\n",
       "<table border=\"1\" class=\"dataframe\">\n",
       "  <thead>\n",
       "    <tr style=\"text-align: right;\">\n",
       "      <th></th>\n",
       "      <th>gene_type</th>\n",
       "      <th>gene_name</th>\n",
       "    </tr>\n",
       "    <tr>\n",
       "      <th>gene_id</th>\n",
       "      <th></th>\n",
       "      <th></th>\n",
       "    </tr>\n",
       "  </thead>\n",
       "  <tbody>\n",
       "    <tr>\n",
       "      <th>ENSG00000243485</th>\n",
       "      <td>Gene Expression</td>\n",
       "      <td>MIR1302-10</td>\n",
       "    </tr>\n",
       "    <tr>\n",
       "      <th>ENSG00000237613</th>\n",
       "      <td>Gene Expression</td>\n",
       "      <td>FAM138A</td>\n",
       "    </tr>\n",
       "  </tbody>\n",
       "</table>\n",
       "</div>"
      ],
      "text/plain": [
       "                       gene_type   gene_name\n",
       "gene_id                                     \n",
       "ENSG00000243485  Gene Expression  MIR1302-10\n",
       "ENSG00000237613  Gene Expression     FAM138A"
      ]
     },
     "execution_count": 7,
     "metadata": {},
     "output_type": "execute_result"
    }
   ],
   "source": [
    "gene_metadata.head(2)"
   ]
  },
  {
   "cell_type": "code",
   "execution_count": 10,
   "id": "bf0122de",
   "metadata": {},
   "outputs": [],
   "source": []
  },
  {
   "cell_type": "code",
   "execution_count": 11,
   "id": "0d469a20",
   "metadata": {
    "metadata": {}
   },
   "outputs": [],
   "source": [
    "# Save Dataframe as .txt.gz files (compressed)\n",
    "# np.savetxt(r'./hADSC1013_matrix.txt.gz', count_matrix, fmt='%s')\n",
    "# np.savetxt(r'./hADSC1013_genes_metadata.txt.gz', genes_metadata, fmt='%s')\n",
    "\n",
    "# Save Dataframe as .csv.gz file\n",
    "# count_matrix.to_csv(f\"{path}/hADSC1013_matrix.csv.gz\", compression='gzip')\n",
    "# windows local -> f\"{path}\\\\hADSC1013_genes_metadata.csv\"\n",
    "gene_metadata.to_csv(f\"{path}/hADSC1013_genes_metadata.csv\")\n",
    "\n",
    "# Save Dataframe as .pkl file compressed\n",
    "count_matrix.to_pickle(f\"{path}/hADSC1013_matrix.pkl.gz\", compression='gzip')"
   ]
  },
  {
   "cell_type": "markdown",
   "id": "72a3ba83",
   "metadata": {},
   "source": [
    "### 1.2 Intermediate plastic state, Stage II Day 16 "
   ]
  },
  {
   "cell_type": "code",
   "execution_count": 12,
   "id": "c0747b99",
   "metadata": {},
   "outputs": [
    {
     "name": "stdout",
     "output_type": "stream",
     "text": [
      "Matrix shape: (32738, 4924)\n",
      "Number of feature's (genes) ids: 32738\n",
      "Number of feature's (genes) names: 32738\n",
      "Number of feature's (genes) types: 32738\n",
      "Number of barcodes (cells): 4924\n"
     ]
    }
   ],
   "source": [
    "# Download data from -> https://www.ncbi.nlm.nih.gov/geo/query/acc.cgi?acc=GSM6592454\n",
    "# Read raw data\n",
    "# path = \".\\\\data\\\\hADSC-1013_SIID16\"\n",
    "path = \"./data/hADSC-1013_SIID16\"\n",
    "mat,feature_ids,gene_names,feature_types,barcodes = read_raw_data(path)"
   ]
  },
  {
   "cell_type": "markdown",
   "id": "d2e4b2fd",
   "metadata": {},
   "source": [
    "#### Analyse data"
   ]
  },
  {
   "cell_type": "code",
   "execution_count": 13,
   "id": "1da351d8",
   "metadata": {},
   "outputs": [
    {
     "name": "stdout",
     "output_type": "stream",
     "text": [
      "All gene ids are different.\n",
      "There are 95 gene names repeated.\n",
      "Tipos de genes presentes: Counter({'Gene Expression': 32738})\n",
      "All samples are unique.\n"
     ]
    }
   ],
   "source": [
    "### Analyse genes\n",
    "# Check all genes ids and names are unique\n",
    "analyse_features(feature_ids, gene_names)\n",
    "# Check genes types \n",
    "print(f\"Tipos de genes presentes: {Counter(feature_types)}\")\n",
    "\n",
    "### Analyse cells\n",
    "# Check all samples are unique \n",
    "analyse_barcodes(barcodes)"
   ]
  },
  {
   "cell_type": "markdown",
   "id": "a692d1b8",
   "metadata": {},
   "source": [
    "En relación a los genes(features), hay nombres repetidos, pero no los ids. Nos fiamos de que son genes diferentes y usamos los ids para las columnas, en un futuro usaremos estos ids para encontrar los nombres reales de los genes. \n",
    "\n",
    "Por otro lado, todas las células son únicas, por lo tanto no tenemos que eliminar ninguna muestra. Aquí podemos analizar la distribución y eliminar aquellas en las que la varianza sea menor del 95% por ejemplo."
   ]
  },
  {
   "cell_type": "markdown",
   "id": "6e4b586a",
   "metadata": {},
   "source": [
    "#### Data preprocessing"
   ]
  },
  {
   "cell_type": "code",
   "execution_count": 14,
   "id": "51c03f46",
   "metadata": {},
   "outputs": [],
   "source": [
    "# Organise data in two files\n",
    "##### Count matrix: cells x genes -> barcodes x genes_ids \n",
    "synthetic_data = {\n",
    "                    \"reprogramming_type\": \"chemical reprogramming\",\n",
    "                    \"reprogramming_stage\": \"stage II day 16\",\n",
    "                    \"cell_state\": \"intermediate plastic state with a regeneration-like program\",\n",
    "                    \"cell_type\": \"hADCS\",\n",
    "                    \"cell_line\": \"1013\"\n",
    "                }\n",
    "count_matrix = preprocess_data(mat,barcodes,feature_ids,synthetic_data)\n",
    "\n",
    "##### Gene metadata\n",
    "gene_metadata = preprocess_metadata(gene_names,feature_ids,feature_types)"
   ]
  },
  {
   "cell_type": "markdown",
   "id": "7617f216",
   "metadata": {},
   "source": [
    "#### Save data"
   ]
  },
  {
   "cell_type": "code",
   "execution_count": 15,
   "id": "ebbac801",
   "metadata": {},
   "outputs": [
    {
     "data": {
      "text/html": [
       "<div>\n",
       "<style scoped>\n",
       "    .dataframe tbody tr th:only-of-type {\n",
       "        vertical-align: middle;\n",
       "    }\n",
       "\n",
       "    .dataframe tbody tr th {\n",
       "        vertical-align: top;\n",
       "    }\n",
       "\n",
       "    .dataframe thead th {\n",
       "        text-align: right;\n",
       "    }\n",
       "</style>\n",
       "<table border=\"1\" class=\"dataframe\">\n",
       "  <thead>\n",
       "    <tr style=\"text-align: right;\">\n",
       "      <th></th>\n",
       "      <th>ENSG00000243485</th>\n",
       "      <th>ENSG00000237613</th>\n",
       "      <th>ENSG00000186092</th>\n",
       "      <th>ENSG00000238009</th>\n",
       "      <th>ENSG00000239945</th>\n",
       "      <th>ENSG00000237683</th>\n",
       "      <th>ENSG00000239906</th>\n",
       "      <th>ENSG00000241599</th>\n",
       "      <th>ENSG00000228463</th>\n",
       "      <th>ENSG00000237094</th>\n",
       "      <th>...</th>\n",
       "      <th>ENSG00000215635</th>\n",
       "      <th>ENSG00000268590</th>\n",
       "      <th>ENSG00000251180</th>\n",
       "      <th>ENSG00000215616</th>\n",
       "      <th>ENSG00000215611</th>\n",
       "      <th>reprogramming_type</th>\n",
       "      <th>reprogramming_stage</th>\n",
       "      <th>cell_state</th>\n",
       "      <th>cell_type</th>\n",
       "      <th>cell_line</th>\n",
       "    </tr>\n",
       "    <tr>\n",
       "      <th>cell_id</th>\n",
       "      <th></th>\n",
       "      <th></th>\n",
       "      <th></th>\n",
       "      <th></th>\n",
       "      <th></th>\n",
       "      <th></th>\n",
       "      <th></th>\n",
       "      <th></th>\n",
       "      <th></th>\n",
       "      <th></th>\n",
       "      <th></th>\n",
       "      <th></th>\n",
       "      <th></th>\n",
       "      <th></th>\n",
       "      <th></th>\n",
       "      <th></th>\n",
       "      <th></th>\n",
       "      <th></th>\n",
       "      <th></th>\n",
       "      <th></th>\n",
       "      <th></th>\n",
       "    </tr>\n",
       "  </thead>\n",
       "  <tbody>\n",
       "    <tr>\n",
       "      <th>AAACCCAAGTCACGAG-1</th>\n",
       "      <td>0</td>\n",
       "      <td>0</td>\n",
       "      <td>0</td>\n",
       "      <td>0</td>\n",
       "      <td>0</td>\n",
       "      <td>0</td>\n",
       "      <td>0</td>\n",
       "      <td>0</td>\n",
       "      <td>0</td>\n",
       "      <td>0</td>\n",
       "      <td>...</td>\n",
       "      <td>0</td>\n",
       "      <td>0</td>\n",
       "      <td>0</td>\n",
       "      <td>0</td>\n",
       "      <td>0</td>\n",
       "      <td>chemical reprogramming</td>\n",
       "      <td>stage II day 16</td>\n",
       "      <td>intermediate plastic state with a regeneration...</td>\n",
       "      <td>hADCS</td>\n",
       "      <td>1013</td>\n",
       "    </tr>\n",
       "    <tr>\n",
       "      <th>AAACCCATCTAGATCG-1</th>\n",
       "      <td>0</td>\n",
       "      <td>0</td>\n",
       "      <td>0</td>\n",
       "      <td>0</td>\n",
       "      <td>0</td>\n",
       "      <td>0</td>\n",
       "      <td>0</td>\n",
       "      <td>0</td>\n",
       "      <td>0</td>\n",
       "      <td>0</td>\n",
       "      <td>...</td>\n",
       "      <td>0</td>\n",
       "      <td>0</td>\n",
       "      <td>0</td>\n",
       "      <td>0</td>\n",
       "      <td>0</td>\n",
       "      <td>chemical reprogramming</td>\n",
       "      <td>stage II day 16</td>\n",
       "      <td>intermediate plastic state with a regeneration...</td>\n",
       "      <td>hADCS</td>\n",
       "      <td>1013</td>\n",
       "    </tr>\n",
       "  </tbody>\n",
       "</table>\n",
       "<p>2 rows × 32743 columns</p>\n",
       "</div>"
      ],
      "text/plain": [
       "                    ENSG00000243485  ENSG00000237613  ENSG00000186092  \\\n",
       "cell_id                                                                 \n",
       "AAACCCAAGTCACGAG-1                0                0                0   \n",
       "AAACCCATCTAGATCG-1                0                0                0   \n",
       "\n",
       "                    ENSG00000238009  ENSG00000239945  ENSG00000237683  \\\n",
       "cell_id                                                                 \n",
       "AAACCCAAGTCACGAG-1                0                0                0   \n",
       "AAACCCATCTAGATCG-1                0                0                0   \n",
       "\n",
       "                    ENSG00000239906  ENSG00000241599  ENSG00000228463  \\\n",
       "cell_id                                                                 \n",
       "AAACCCAAGTCACGAG-1                0                0                0   \n",
       "AAACCCATCTAGATCG-1                0                0                0   \n",
       "\n",
       "                    ENSG00000237094  ...  ENSG00000215635  ENSG00000268590  \\\n",
       "cell_id                              ...                                     \n",
       "AAACCCAAGTCACGAG-1                0  ...                0                0   \n",
       "AAACCCATCTAGATCG-1                0  ...                0                0   \n",
       "\n",
       "                    ENSG00000251180  ENSG00000215616  ENSG00000215611  \\\n",
       "cell_id                                                                 \n",
       "AAACCCAAGTCACGAG-1                0                0                0   \n",
       "AAACCCATCTAGATCG-1                0                0                0   \n",
       "\n",
       "                        reprogramming_type  reprogramming_stage  \\\n",
       "cell_id                                                           \n",
       "AAACCCAAGTCACGAG-1  chemical reprogramming      stage II day 16   \n",
       "AAACCCATCTAGATCG-1  chemical reprogramming      stage II day 16   \n",
       "\n",
       "                                                           cell_state  \\\n",
       "cell_id                                                                 \n",
       "AAACCCAAGTCACGAG-1  intermediate plastic state with a regeneration...   \n",
       "AAACCCATCTAGATCG-1  intermediate plastic state with a regeneration...   \n",
       "\n",
       "                    cell_type  cell_line  \n",
       "cell_id                                   \n",
       "AAACCCAAGTCACGAG-1      hADCS       1013  \n",
       "AAACCCATCTAGATCG-1      hADCS       1013  \n",
       "\n",
       "[2 rows x 32743 columns]"
      ]
     },
     "execution_count": 15,
     "metadata": {},
     "output_type": "execute_result"
    }
   ],
   "source": [
    "count_matrix.head(2)"
   ]
  },
  {
   "cell_type": "code",
   "execution_count": 16,
   "id": "80c1e5a0",
   "metadata": {},
   "outputs": [
    {
     "data": {
      "text/html": [
       "<div>\n",
       "<style scoped>\n",
       "    .dataframe tbody tr th:only-of-type {\n",
       "        vertical-align: middle;\n",
       "    }\n",
       "\n",
       "    .dataframe tbody tr th {\n",
       "        vertical-align: top;\n",
       "    }\n",
       "\n",
       "    .dataframe thead th {\n",
       "        text-align: right;\n",
       "    }\n",
       "</style>\n",
       "<table border=\"1\" class=\"dataframe\">\n",
       "  <thead>\n",
       "    <tr style=\"text-align: right;\">\n",
       "      <th></th>\n",
       "      <th>gene_type</th>\n",
       "      <th>gene_name</th>\n",
       "    </tr>\n",
       "    <tr>\n",
       "      <th>gene_id</th>\n",
       "      <th></th>\n",
       "      <th></th>\n",
       "    </tr>\n",
       "  </thead>\n",
       "  <tbody>\n",
       "    <tr>\n",
       "      <th>ENSG00000243485</th>\n",
       "      <td>Gene Expression</td>\n",
       "      <td>MIR1302-10</td>\n",
       "    </tr>\n",
       "    <tr>\n",
       "      <th>ENSG00000237613</th>\n",
       "      <td>Gene Expression</td>\n",
       "      <td>FAM138A</td>\n",
       "    </tr>\n",
       "  </tbody>\n",
       "</table>\n",
       "</div>"
      ],
      "text/plain": [
       "                       gene_type   gene_name\n",
       "gene_id                                     \n",
       "ENSG00000243485  Gene Expression  MIR1302-10\n",
       "ENSG00000237613  Gene Expression     FAM138A"
      ]
     },
     "execution_count": 16,
     "metadata": {},
     "output_type": "execute_result"
    }
   ],
   "source": [
    "gene_metadata.head(2)"
   ]
  },
  {
   "cell_type": "code",
   "execution_count": 17,
   "id": "cab4d0cf",
   "metadata": {},
   "outputs": [],
   "source": [
    "# Save Dataframe as .txt.gz files (compressed)\n",
    "# np.savetxt(r'./hADSC1013_SIID16_matrix.txt.gz', count_matrix, fmt='%s')\n",
    "# np.savetxt(r'./hADSC1013_SIID16_genes_metadata.txt.gz', genes_metadata, fmt='%s')\n",
    "\n",
    "# Save Dataframe as .csv file\n",
    "# count_matrix.to_csv(f\"{path}/hADSC1013_SIID16_matrix.csv.gz\", compression=\"gzip\")\n",
    "# windows path -> f\"{path}\\\\hADSC1013_SIID16_genes_metadata.csv\"\n",
    "gene_metadata.to_csv(f\"{path}/hADSC1013_SIID16_genes_metadata.csv\")\n",
    "\n",
    "# Save Dataframe as .pkl file compressed\n",
    "count_matrix.to_pickle(f\"{path}/hADSC1013_SIID16_matrix.pkl.gz\", compression='gzip')"
   ]
  },
  {
   "cell_type": "markdown",
   "id": "2344ae86",
   "metadata": {},
   "source": [
    "### 2.Create AnnData objects"
   ]
  },
  {
   "cell_type": "code",
   "execution_count": null,
   "id": "24031c2c",
   "metadata": {},
   "outputs": [],
   "source": [
    "import gzip\n",
    "import anndata\n",
    "import pickle\n",
    "import scanpy as sc"
   ]
  },
  {
   "cell_type": "code",
   "execution_count": null,
   "id": "b7362ff7",
   "metadata": {},
   "outputs": [],
   "source": [
    "def create_anndata_object(df_data, df_var_names): \n",
    "    adata = sc.AnnData(\n",
    "                    X=df_data.iloc[:,:-5].values, \n",
    "                    obs=df_data[['reprogramming_type',\n",
    "                                'reprogramming_stage', \n",
    "                                'cell_state', 'cell_type', 'cell_line']]\n",
    "                    )\n",
    "    adata.var_names = df_var_names.tolist()\n",
    "    # We know there are some gene names repeated, so we fix it\n",
    "    adata.var_names_make_unique()\n",
    "    adata.obs_names_make_unique()\n",
    "    return adata"
   ]
  },
  {
   "cell_type": "code",
   "execution_count": null,
   "id": "5c6fa969",
   "metadata": {},
   "outputs": [],
   "source": [
    "# Somatic cells\n",
    "with gzip.open('./data/hADSC-1013/hADSC1013_matrix.pkl.gz', 'rb') as file:\n",
    "    somatic_data = pickle.load(file)\n",
    "# Same in plastic and somatic cells \n",
    "gene_names = pd.read_csv(\"./data/hADSC-1013/hADSC1013_genes_metadata.csv\")[\"gene_name\"]\n",
    "print(f\"Somatic cells data loaded: {somatic_data.shape} cells x genes\")\n",
    "\n",
    "# Intermediate plastic state cells\n",
    "with gzip.open('./data/hADSC-1013_SIID16/hADSC1013_SIID16_matrix.pkl.gz', 'rb') as file:\n",
    "    plastic_data = pickle.load(file)\n",
    "print(f\"Intermediate plastic state cells data loaded: {plastic_data.shape} cells x genes\")\n",
    "\n",
    "# Change reprogramming_type and reprogramming_stage bool to string to avoid errors when save anndata object\n",
    "somatic_data['reprogramming_type'] = somatic_data['reprogramming_type'].astype('string')\n",
    "plastic_data['reprogramming_type'] = plastic_data['reprogramming_type'].astype('string')\n",
    "somatic_data['reprogramming_stage'] = somatic_data['reprogramming_stage'].astype('string')\n",
    "plastic_data['reprogramming_stage'] = plastic_data['reprogramming_stage'].astype('string')\n",
    "\n",
    "# Our matrix is cells x genes \n",
    "df_data = pd.concat([somatic_data, plastic_data], axis=0)\n",
    "print(f\"Data shape: {df_data.shape}\")\n",
    "\n",
    "# Create AnnData\n",
    "adata = create_anndata_object(df_data, gene_names)\n",
    "adata_somatic = create_anndata_object(somatic_data, gene_names)\n",
    "adata_plastic = create_anndata_object(plastic_data, gene_names)\n",
    "\n",
    "# Save them\n",
    "adata.write_h5ad(\"./data/adata.h5ad.gz\", compression=\"gzip\")\n",
    "adata_somatic.write_h5ad(\"./data/hADSC-1013/hADSC1013_adata.h5ad.gz\", compression=\"gzip\")\n",
    "adata_plastic.write_h5ad(\"./data/hADSC-1013_SIID16/hADSC1013_SIID16_adata.h5ad.gz\", compression=\"gzip\")"
   ]
  }
 ],
 "metadata": {
  "kernelspec": {
   "display_name": "Python 3.9.13 ('env': venv)",
   "language": "python",
   "name": "python3"
  },
  "language_info": {
   "codemirror_mode": {
    "name": "ipython",
    "version": 3
   },
   "file_extension": ".py",
   "mimetype": "text/x-python",
   "name": "python",
   "nbconvert_exporter": "python",
   "pygments_lexer": "ipython3",
   "version": "3.6.8"
  },
  "vscode": {
   "interpreter": {
    "hash": "2b46b747b265df9863f4933b259673f008751f908d2a07ed72dcdf0e50f0c1d5"
   }
  }
 },
 "nbformat": 4,
 "nbformat_minor": 5
}
