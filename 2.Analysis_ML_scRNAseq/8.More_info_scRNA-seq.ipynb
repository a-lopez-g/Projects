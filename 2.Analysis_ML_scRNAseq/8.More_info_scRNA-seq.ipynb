{
 "cells": [
  {
   "cell_type": "code",
   "execution_count": null,
   "metadata": {},
   "outputs": [],
   "source": [
    "import anndata \n",
    "import scanpy as sc\n",
    "import numpy as np\n",
    "import matplotlib.pyplot as plt"
   ]
  },
  {
   "cell_type": "code",
   "execution_count": null,
   "metadata": {},
   "outputs": [],
   "source": [
    "# Save fields in AnnData object\n",
    "umHVG_adata_somatic = umHVG_data_2[umHVG_data_2.obs.cell_state == \"somatic\", :]\n",
    "umHVG_adata_plastic = umHVG_data_2[umHVG_data_2.obs.cell_state == \"intermediate plastic state with a regeneration-like program\", :]"
   ]
  },
  {
   "cell_type": "code",
   "execution_count": null,
   "metadata": {},
   "outputs": [],
   "source": [
    "# Visualizes genes with high expression levels\n",
    "ncols = 2\n",
    "nrows = 1\n",
    "figsize = 7\n",
    "wspace = 0.4\n",
    "fig, axs = plt.subplots(\n",
    "    nrows=nrows,\n",
    "    ncols=ncols,\n",
    "    figsize=(ncols * figsize + figsize * wspace * (ncols - 1), nrows * figsize),\n",
    ")\n",
    "plt.subplots_adjust(wspace=wspace)\n",
    "sc.pl.highest_expr_genes(umHVG_adata_somatic, n_top=20, ax=axs[0],show=False).set_title(\"20 Genes highly expressed in somatic cells\")\n",
    "sc.pl.highest_expr_genes(umHVG_adata_plastic, n_top=20, ax=axs[1], show=False).set_title(\"20 Genes highly expressed in plastic cells\")"
   ]
  },
  {
   "cell_type": "markdown",
   "metadata": {},
   "source": [
    "Id1 is overexpressed in numerous types of cancers and exerts its promotion effect to these tumors through different pathways. Id1 has potent effect on facilitating tumorous angiogenesis and metastasis. SOMATIC\n",
    "\n",
    "ID3 and ID4 in plastic cells. "
   ]
  },
  {
   "cell_type": "code",
   "execution_count": null,
   "metadata": {},
   "outputs": [],
   "source": [
    "# Let us compute a ranking for the highly differential genes in each cluster\n",
    "# t-test or wilcoxon\n",
    "sc.settings.verbosity = 2  # reduce the verbosity\n",
    "sc.tl.rank_genes_groups(umHVG_data_2, \"louvain\", method=\"wilcoxon\")\n",
    "sc.pl.rank_genes_groups(umHVG_data_2, n_genes=20, sharey=False)"
   ]
  },
  {
   "cell_type": "code",
   "execution_count": null,
   "metadata": {},
   "outputs": [],
   "source": [
    "#  It then returns the genes that are most differentially expressed between that group and all others.\n",
    "sc.tl.rank_genes_groups(umHVG_data_2, groupby=\"cell_state\", method=\"wilcoxon\")\n",
    "sc.pl.rank_genes_groups_dotplot(\n",
    "    umHVG_data_2, groupby=\"cell_state\", standard_scale=\"var\", n_genes=5\n",
    ")"
   ]
  }
 ],
 "metadata": {
  "language_info": {
   "name": "python"
  }
 },
 "nbformat": 4,
 "nbformat_minor": 2
}
