{
 "cells": [
  {
   "cell_type": "code",
   "execution_count": 1,
   "metadata": {},
   "outputs": [],
   "source": [
    "import numpy as np\n",
    "from collections import Counter\n",
    "\n",
    "import scipy.io as sio\n",
    "import scipy.stats as stats\n",
    "from scipy.stats import nbinom\n",
    "\n",
    "import matplotlib.pyplot as plt"
   ]
  },
  {
   "cell_type": "markdown",
   "metadata": {},
   "source": [
    "### 1.Load count matrix seq-RNA"
   ]
  },
  {
   "cell_type": "markdown",
   "metadata": {},
   "source": [
    "#### 1.1 Synthetic data"
   ]
  },
  {
   "cell_type": "code",
   "execution_count": 2,
   "metadata": {},
   "outputs": [
    {
     "data": {
      "text/plain": [
       "{'__header__': b'MATLAB 5.0 MAT-file, Platform: PCWIN64, Created on: vi. jun. 10 11:27:14 2022',\n",
       " '__version__': '1.0',\n",
       " '__globals__': [],\n",
       " 'X': array([[0, 1, 1, ..., 2, 0, 0],\n",
       "        [0, 1, 0, ..., 3, 3, 0],\n",
       "        [0, 0, 1, ..., 4, 4, 0],\n",
       "        ...,\n",
       "        [0, 1, 0, ..., 1, 2, 1],\n",
       "        [1, 2, 1, ..., 5, 3, 0],\n",
       "        [0, 1, 1, ..., 2, 1, 0]], dtype=uint16),\n",
       " 'None': MatlabOpaque([(b'names', b'MCOS', b'string', array([[3707764736],\n",
       "                      [         2],\n",
       "                      [         1],\n",
       "                      [         1],\n",
       "                      [         1],\n",
       "                      [         1]], dtype=uint32))               ],\n",
       "              dtype=[('s0', 'O'), ('s1', 'O'), ('s2', 'O'), ('arr', 'O')]),\n",
       " '__function_workspace__': array([[ 0,  1, 73, ...,  0,  0,  0]], dtype=uint8)}"
      ]
     },
     "execution_count": 2,
     "metadata": {},
     "output_type": "execute_result"
    }
   ],
   "source": [
    "data = sio.loadmat('/home/alopez/cell_embeddings/synthetic_data/synthetic_data_tfg5.mat')\n",
    "data"
   ]
  },
  {
   "cell_type": "code",
   "execution_count": 3,
   "metadata": {},
   "outputs": [
    {
     "data": {
      "text/plain": [
       "dict_keys(['__header__', '__version__', '__globals__', 'X', 'None', '__function_workspace__'])"
      ]
     },
     "execution_count": 3,
     "metadata": {},
     "output_type": "execute_result"
    }
   ],
   "source": [
    "data.keys()"
   ]
  },
  {
   "cell_type": "code",
   "execution_count": 8,
   "metadata": {},
   "outputs": [],
   "source": [
    "transposed_data = np.transpose(data[\"X\"])\n",
    "# Last column is Y\n",
    "Y = transposed_data[:, -1]\n",
    "# Labels: 1,-1 -> reprogrammed vs not?\n",
    "# Y[Y == 0] = -1\n",
    "print(f\"Y dim: {Y.shape}\")\n",
    "# Delete Y column \n",
    "X = transposed_data[:, :-1]\n",
    "print(f\"X dim: {X.shape}\")"
   ]
  },
  {
   "cell_type": "code",
   "execution_count": 21,
   "metadata": {},
   "outputs": [
    {
     "name": "stdout",
     "output_type": "stream",
     "text": [
      "Transposed X dim: (3999, 248)\n",
      "Transposed Y dim: (248,)\n"
     ]
    }
   ],
   "source": [
    "# Transpose data -> sample x genes\n",
    "X_transpose = np.transpose(X)\n",
    "Y_transpose = np.transpose(Y)\n",
    "print(f\"Transposed X dim: {X_transpose.shape}\")\n",
    "print(f\"Transposed Y dim: {Y_transpose.shape}\")"
   ]
  },
  {
   "cell_type": "markdown",
   "metadata": {},
   "source": [
    "#### 1.2 Real data"
   ]
  },
  {
   "cell_type": "code",
   "execution_count": 2,
   "metadata": {},
   "outputs": [
    {
     "name": "stdout",
     "output_type": "stream",
     "text": [
      "X dim: (1186, 22767)\n",
      "Y dim: (1186, 1). Labels: [-1  1]\n",
      "Number of samples by label: Counter({-1: 773, 1: 413})\n"
     ]
    }
   ],
   "source": [
    "# Load data\n",
    "data = sio.loadmat('chemical_reprogramming_Kimmel/datos_MSX1.mat') \n",
    "X = data['X']\n",
    "Y = data['y']\n",
    "\n",
    "print(f\"X dim: {X.shape}\")\n",
    "print(f\"Y dim: {Y.shape}. Labels: {np.unique(Y)}\")\n",
    "print(f\"Number of samples by label: {Counter(Y.reshape(1186,))}\")"
   ]
  },
  {
   "cell_type": "code",
   "execution_count": 3,
   "metadata": {},
   "outputs": [
    {
     "name": "stdout",
     "output_type": "stream",
     "text": [
      "X dim: (1186, 11897)\n"
     ]
    }
   ],
   "source": [
    "# Remove columns where mode is repeated more than 95% of the data\n",
    "mode_values, mode_counts = stats.mode(X, axis=0)\n",
    "cols_to_keep = np.sum(mode_values == X, axis=0) / X.shape[0] < 0.95\n",
    "X = X[:, cols_to_keep]\n",
    "\n",
    "print(f\"X dim: {X.shape}\")"
   ]
  },
  {
   "cell_type": "code",
   "execution_count": 4,
   "metadata": {},
   "outputs": [],
   "source": [
    "# Correlations: nos quedamos con los que estén entre el umbral marcado\n",
    "C = np.corrcoef(X, rowvar=False)\n",
    "lim_sup = 0.2\n",
    "lim_inf = 0.1\n",
    "# Coordenadas de los casos que lo cumplen\n",
    "f, c = np.where(((C - np.diag(np.diag(C))) > lim_inf) & ((C - np.diag(np.diag(C))) < lim_sup))"
   ]
  },
  {
   "cell_type": "code",
   "execution_count": 10,
   "metadata": {},
   "outputs": [
    {
     "ename": "AttributeError",
     "evalue": "'nbinom_gen' object has no attribute 'fit'",
     "output_type": "error",
     "traceback": [
      "\u001b[0;31m---------------------------------------------------------------------------\u001b[0m",
      "\u001b[0;31mAttributeError\u001b[0m                            Traceback (most recent call last)",
      "Cell \u001b[0;32mIn[10], line 1\u001b[0m\n\u001b[0;32m----> 1\u001b[0m \u001b[43mnbinom\u001b[49m\u001b[38;5;241;43m.\u001b[39;49m\u001b[43mfit\u001b[49m(X[:, f[i]])\n",
      "\u001b[0;31mAttributeError\u001b[0m: 'nbinom_gen' object has no attribute 'fit'"
     ]
    }
   ],
   "source": [
    "nbinom.fit(X[:, f[i]])"
   ]
  },
  {
   "cell_type": "code",
   "execution_count": 9,
   "metadata": {},
   "outputs": [
    {
     "name": "stdout",
     "output_type": "stream",
     "text": [
      "1/42809186\n",
      "0-2\n",
      "Corr: 0.15402853378413078\n"
     ]
    },
    {
     "ename": "AttributeError",
     "evalue": "'nbinom_gen' object has no attribute 'fit'",
     "output_type": "error",
     "traceback": [
      "\u001b[0;31m---------------------------------------------------------------------------\u001b[0m",
      "\u001b[0;31mAttributeError\u001b[0m                            Traceback (most recent call last)",
      "Cell \u001b[0;32mIn[9], line 17\u001b[0m\n\u001b[1;32m     12\u001b[0m \u001b[38;5;66;03m#dist = stats.nbinom\u001b[39;00m\n\u001b[1;32m     13\u001b[0m \u001b[38;5;66;03m#parmhat1 = stats.fit(dist, X[:, f[i]])\u001b[39;00m\n\u001b[1;32m     14\u001b[0m \u001b[38;5;66;03m#parmhat2 = stats.fit(dist, X[:, c[i]])\u001b[39;00m\n\u001b[1;32m     16\u001b[0m datos_1 \u001b[38;5;241m=\u001b[39m X[:, f[i]]\n\u001b[0;32m---> 17\u001b[0m parmhat1 \u001b[38;5;241m=\u001b[39m \u001b[43mnbinom\u001b[49m\u001b[38;5;241;43m.\u001b[39;49m\u001b[43mfit\u001b[49m(datos_1)\n\u001b[1;32m     18\u001b[0m parmhat2 \u001b[38;5;241m=\u001b[39m nbinom\u001b[38;5;241m.\u001b[39mfit(X[:, c[i]])\n\u001b[1;32m     20\u001b[0m \u001b[38;5;66;03m#    if parmhat1[0] == np.inf or parmhat2[0] == np.inf:\u001b[39;00m\n\u001b[1;32m     21\u001b[0m \u001b[38;5;66;03m#        continue\u001b[39;00m\n\u001b[1;32m     22\u001b[0m \u001b[38;5;66;03m#    else:\u001b[39;00m\n\u001b[1;32m     23\u001b[0m \u001b[38;5;66;03m#        params_ML.append([f[i], *parmhat1, c[i], *parmhat2, C[f[i], c[i]]])\u001b[39;00m\n",
      "\u001b[0;31mAttributeError\u001b[0m: 'nbinom_gen' object has no attribute 'fit'"
     ]
    }
   ],
   "source": [
    "# Vemos la distribución de cada muestra?\n",
    "params_ML = []\n",
    "N = X.shape[0]\n",
    "i = 0\n",
    "# Quito el bucle y muestro una distribución al azar\n",
    "# while True:\n",
    "\n",
    "print(f\"{i+1}/{len(f)}\")\n",
    "print(f\"{f[i]}-{c[i]}\")\n",
    "print(\"Corr:\", C[f[i], c[i]])\n",
    "\n",
    "#dist = stats.nbinom\n",
    "#parmhat1 = stats.fit(dist, X[:, f[i]])\n",
    "#parmhat2 = stats.fit(dist, X[:, c[i]])\n",
    "\n",
    "datos_1 = X[:, f[i]]\n",
    "parmhat1 = nbinom.fit(datos_1)\n",
    "parmhat2 = nbinom.fit(X[:, c[i]])\n",
    "    \n",
    "#    if parmhat1[0] == np.inf or parmhat2[0] == np.inf:\n",
    "#        continue\n",
    "#    else:\n",
    "#        params_ML.append([f[i], *parmhat1, c[i], *parmhat2, C[f[i], c[i]]])\n",
    "    \n",
    "plt.subplot(2, 1, 1)\n",
    "data_generated1 = stats.nbinom.rvs(parmhat1[0], parmhat1[2], size=N)\n",
    "plt.hist(data_generated1, density=True, alpha=0.5, label='Generated')\n",
    "plt.hist(X[:, f[i]], density=True, alpha=0.5, label='Original')\n",
    "plt.title(f\"{f[i]}\")\n",
    "plt.legend()\n",
    "\n",
    "plt.subplot(2, 1, 2)\n",
    "data_generated2 = stats.nbinom.rvs(parmhat2[0], parmhat2[2], size=N)\n",
    "plt.hist(data_generated2, density=True, alpha=0.5, label='Generated')\n",
    "plt.hist(X[:, c[i]], density=True, alpha=0.5, label='Original')\n",
    "plt.title(f\"{c[i]}\")\n",
    "plt.legend()\n",
    "\n",
    "plt.show()\n",
    "\n",
    "cc = np.corrcoef(data_generated1, data_generated2)\n",
    "print(\"Corr2:\", cc[0, 1])\n",
    "    \n",
    "#    value = input(\"Press any key to continue, or 'q' to quit: \")\n",
    "#    if value.lower() == 'q':\n",
    "#        break\n",
    "#    elif value == '':\n",
    "#        if i == len(f) - 1:\n",
    "#            continue\n",
    "#        else:\n",
    "#            i += 1"
   ]
  }
 ],
 "metadata": {
  "kernelspec": {
   "display_name": "env",
   "language": "python",
   "name": "python3"
  },
  "language_info": {
   "codemirror_mode": {
    "name": "ipython",
    "version": 3
   },
   "file_extension": ".py",
   "mimetype": "text/x-python",
   "name": "python",
   "nbconvert_exporter": "python",
   "pygments_lexer": "ipython3",
   "version": "3.11.5"
  }
 },
 "nbformat": 4,
 "nbformat_minor": 2
}
