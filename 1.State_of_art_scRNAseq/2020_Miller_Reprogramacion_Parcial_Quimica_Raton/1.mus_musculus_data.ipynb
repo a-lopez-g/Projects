{
 "cells": [
  {
   "cell_type": "code",
   "execution_count": 1,
   "id": "0a270cbd",
   "metadata": {},
   "outputs": [],
   "source": [
    "import csv\n",
    "import gzip\n",
    "import os\n",
    "import scipy.io\n",
    "import numpy as np\n",
    "import pandas as pd\n",
    "import gzip"
   ]
  },
  {
   "cell_type": "code",
   "execution_count": 32,
   "metadata": {},
   "outputs": [],
   "source": [
    "def read_data(matrix_dir:str) -> list : \n",
    "    \n",
    "    mat = scipy.io.mmread(os.path.join(matrix_dir, \"matrix.mtx\"))\n",
    "    features_path = os.path.join(matrix_dir, \"genes.tsv\")\n",
    "\n",
    "\n",
    "    #feature_ids = [row[0] for row in csv.reader(open(features_path), delimiter=\"\\t\")]\n",
    "    gene_names = [row[1] for row in csv.reader(open(features_path), delimiter=\"\\t\")]\n",
    "    #feature_types = [row[2] for row in csv.reader(open(features_path), delimiter=\"\\t\")]\n",
    "    barcodes_path = os.path.join(matrix_dir, \"barcodes.tsv\")\n",
    "    barcodes = [row[0] for row in csv.reader(open(barcodes_path), delimiter=\"\\t\")]\n",
    "    \n",
    "    return mat,gene_names,barcodes"
   ]
  },
  {
   "cell_type": "markdown",
   "metadata": {},
   "source": [
    "## Uninjured I C57BL/6"
   ]
  },
  {
   "cell_type": "code",
   "execution_count": 5,
   "metadata": {},
   "outputs": [],
   "source": [
    "matrix_dir = \"C:\\matlab scripts\\Miller_Reprogramacion_Parcial_Quimica_Raton\"\n",
    "\n",
    "# leemos la información en bruto\n",
    "mat,gene_names,barcodes = read_data(matrix_dir)"
   ]
  },
  {
   "cell_type": "code",
   "execution_count": 6,
   "metadata": {},
   "outputs": [],
   "source": [
    "matrix = pd.DataFrame.sparse.from_spmatrix(mat)\n",
    "matrix.columns = barcodes\n",
    "matrix.insert(loc=0, column=\"gene\", value=gene_names)\n",
    "matrix = matrix.transpose()"
   ]
  },
  {
   "cell_type": "code",
   "execution_count": 7,
   "metadata": {},
   "outputs": [
    {
     "data": {
      "text/html": [
       "<div>\n",
       "<style scoped>\n",
       "    .dataframe tbody tr th:only-of-type {\n",
       "        vertical-align: middle;\n",
       "    }\n",
       "\n",
       "    .dataframe tbody tr th {\n",
       "        vertical-align: top;\n",
       "    }\n",
       "\n",
       "    .dataframe thead th {\n",
       "        text-align: right;\n",
       "    }\n",
       "</style>\n",
       "<table border=\"1\" class=\"dataframe\">\n",
       "  <thead>\n",
       "    <tr style=\"text-align: right;\">\n",
       "      <th></th>\n",
       "      <th>0</th>\n",
       "      <th>1</th>\n",
       "      <th>2</th>\n",
       "      <th>3</th>\n",
       "      <th>4</th>\n",
       "      <th>5</th>\n",
       "      <th>6</th>\n",
       "      <th>7</th>\n",
       "      <th>8</th>\n",
       "      <th>9</th>\n",
       "      <th>...</th>\n",
       "      <th>27988</th>\n",
       "      <th>27989</th>\n",
       "      <th>27990</th>\n",
       "      <th>27991</th>\n",
       "      <th>27992</th>\n",
       "      <th>27993</th>\n",
       "      <th>27994</th>\n",
       "      <th>27995</th>\n",
       "      <th>27996</th>\n",
       "      <th>27997</th>\n",
       "    </tr>\n",
       "  </thead>\n",
       "  <tbody>\n",
       "    <tr>\n",
       "      <th>gene</th>\n",
       "      <td>Xkr4</td>\n",
       "      <td>Gm1992</td>\n",
       "      <td>Gm37381</td>\n",
       "      <td>Rp1</td>\n",
       "      <td>Rp1</td>\n",
       "      <td>Sox17</td>\n",
       "      <td>Gm37323</td>\n",
       "      <td>Mrpl15</td>\n",
       "      <td>Lypla1</td>\n",
       "      <td>Gm37988</td>\n",
       "      <td>...</td>\n",
       "      <td>AC125149.1</td>\n",
       "      <td>AC125149.2</td>\n",
       "      <td>AC125149.4</td>\n",
       "      <td>AC234645.1</td>\n",
       "      <td>AC168977.2</td>\n",
       "      <td>AC168977.1</td>\n",
       "      <td>PISD</td>\n",
       "      <td>DHRSX</td>\n",
       "      <td>Vmn2r122</td>\n",
       "      <td>CAAA01147332.1</td>\n",
       "    </tr>\n",
       "    <tr>\n",
       "      <th>AAACCTGAGGATGGTC-1</th>\n",
       "      <td>0</td>\n",
       "      <td>0</td>\n",
       "      <td>0</td>\n",
       "      <td>0</td>\n",
       "      <td>0</td>\n",
       "      <td>0</td>\n",
       "      <td>0</td>\n",
       "      <td>0</td>\n",
       "      <td>0</td>\n",
       "      <td>0</td>\n",
       "      <td>...</td>\n",
       "      <td>0</td>\n",
       "      <td>0</td>\n",
       "      <td>0</td>\n",
       "      <td>0</td>\n",
       "      <td>0</td>\n",
       "      <td>0</td>\n",
       "      <td>0</td>\n",
       "      <td>1</td>\n",
       "      <td>0</td>\n",
       "      <td>0</td>\n",
       "    </tr>\n",
       "    <tr>\n",
       "      <th>AAACCTGCAGCATACT-1</th>\n",
       "      <td>0</td>\n",
       "      <td>0</td>\n",
       "      <td>0</td>\n",
       "      <td>0</td>\n",
       "      <td>0</td>\n",
       "      <td>1</td>\n",
       "      <td>0</td>\n",
       "      <td>0</td>\n",
       "      <td>0</td>\n",
       "      <td>0</td>\n",
       "      <td>...</td>\n",
       "      <td>0</td>\n",
       "      <td>0</td>\n",
       "      <td>0</td>\n",
       "      <td>0</td>\n",
       "      <td>0</td>\n",
       "      <td>0</td>\n",
       "      <td>0</td>\n",
       "      <td>0</td>\n",
       "      <td>0</td>\n",
       "      <td>0</td>\n",
       "    </tr>\n",
       "    <tr>\n",
       "      <th>AAACCTGGTAAGAGGA-1</th>\n",
       "      <td>0</td>\n",
       "      <td>0</td>\n",
       "      <td>0</td>\n",
       "      <td>0</td>\n",
       "      <td>0</td>\n",
       "      <td>0</td>\n",
       "      <td>0</td>\n",
       "      <td>0</td>\n",
       "      <td>0</td>\n",
       "      <td>0</td>\n",
       "      <td>...</td>\n",
       "      <td>0</td>\n",
       "      <td>0</td>\n",
       "      <td>0</td>\n",
       "      <td>0</td>\n",
       "      <td>0</td>\n",
       "      <td>0</td>\n",
       "      <td>0</td>\n",
       "      <td>0</td>\n",
       "      <td>0</td>\n",
       "      <td>0</td>\n",
       "    </tr>\n",
       "    <tr>\n",
       "      <th>AAACCTGGTAGAAGGA-1</th>\n",
       "      <td>0</td>\n",
       "      <td>0</td>\n",
       "      <td>0</td>\n",
       "      <td>0</td>\n",
       "      <td>0</td>\n",
       "      <td>0</td>\n",
       "      <td>0</td>\n",
       "      <td>0</td>\n",
       "      <td>0</td>\n",
       "      <td>0</td>\n",
       "      <td>...</td>\n",
       "      <td>0</td>\n",
       "      <td>0</td>\n",
       "      <td>0</td>\n",
       "      <td>0</td>\n",
       "      <td>0</td>\n",
       "      <td>0</td>\n",
       "      <td>0</td>\n",
       "      <td>0</td>\n",
       "      <td>0</td>\n",
       "      <td>0</td>\n",
       "    </tr>\n",
       "    <tr>\n",
       "      <th>AAACCTGTCCTACAGA-1</th>\n",
       "      <td>0</td>\n",
       "      <td>0</td>\n",
       "      <td>0</td>\n",
       "      <td>0</td>\n",
       "      <td>0</td>\n",
       "      <td>0</td>\n",
       "      <td>0</td>\n",
       "      <td>0</td>\n",
       "      <td>0</td>\n",
       "      <td>0</td>\n",
       "      <td>...</td>\n",
       "      <td>0</td>\n",
       "      <td>0</td>\n",
       "      <td>0</td>\n",
       "      <td>0</td>\n",
       "      <td>0</td>\n",
       "      <td>0</td>\n",
       "      <td>1</td>\n",
       "      <td>0</td>\n",
       "      <td>0</td>\n",
       "      <td>0</td>\n",
       "    </tr>\n",
       "    <tr>\n",
       "      <th>AAACCTGTCGTAGGTT-1</th>\n",
       "      <td>0</td>\n",
       "      <td>0</td>\n",
       "      <td>0</td>\n",
       "      <td>0</td>\n",
       "      <td>0</td>\n",
       "      <td>0</td>\n",
       "      <td>0</td>\n",
       "      <td>0</td>\n",
       "      <td>0</td>\n",
       "      <td>0</td>\n",
       "      <td>...</td>\n",
       "      <td>0</td>\n",
       "      <td>0</td>\n",
       "      <td>0</td>\n",
       "      <td>0</td>\n",
       "      <td>0</td>\n",
       "      <td>0</td>\n",
       "      <td>0</td>\n",
       "      <td>0</td>\n",
       "      <td>0</td>\n",
       "      <td>0</td>\n",
       "    </tr>\n",
       "    <tr>\n",
       "      <th>AAACGGGCAATGGAGC-1</th>\n",
       "      <td>0</td>\n",
       "      <td>0</td>\n",
       "      <td>0</td>\n",
       "      <td>0</td>\n",
       "      <td>0</td>\n",
       "      <td>0</td>\n",
       "      <td>0</td>\n",
       "      <td>0</td>\n",
       "      <td>0</td>\n",
       "      <td>0</td>\n",
       "      <td>...</td>\n",
       "      <td>0</td>\n",
       "      <td>0</td>\n",
       "      <td>0</td>\n",
       "      <td>0</td>\n",
       "      <td>0</td>\n",
       "      <td>0</td>\n",
       "      <td>0</td>\n",
       "      <td>0</td>\n",
       "      <td>0</td>\n",
       "      <td>0</td>\n",
       "    </tr>\n",
       "    <tr>\n",
       "      <th>AAACGGGCAGTACACT-1</th>\n",
       "      <td>0</td>\n",
       "      <td>0</td>\n",
       "      <td>0</td>\n",
       "      <td>0</td>\n",
       "      <td>0</td>\n",
       "      <td>0</td>\n",
       "      <td>0</td>\n",
       "      <td>1</td>\n",
       "      <td>1</td>\n",
       "      <td>0</td>\n",
       "      <td>...</td>\n",
       "      <td>0</td>\n",
       "      <td>0</td>\n",
       "      <td>0</td>\n",
       "      <td>0</td>\n",
       "      <td>0</td>\n",
       "      <td>0</td>\n",
       "      <td>0</td>\n",
       "      <td>0</td>\n",
       "      <td>0</td>\n",
       "      <td>0</td>\n",
       "    </tr>\n",
       "    <tr>\n",
       "      <th>AAACGGGCATCTCCCA-1</th>\n",
       "      <td>0</td>\n",
       "      <td>0</td>\n",
       "      <td>0</td>\n",
       "      <td>0</td>\n",
       "      <td>0</td>\n",
       "      <td>0</td>\n",
       "      <td>0</td>\n",
       "      <td>1</td>\n",
       "      <td>1</td>\n",
       "      <td>0</td>\n",
       "      <td>...</td>\n",
       "      <td>0</td>\n",
       "      <td>0</td>\n",
       "      <td>0</td>\n",
       "      <td>0</td>\n",
       "      <td>0</td>\n",
       "      <td>0</td>\n",
       "      <td>0</td>\n",
       "      <td>0</td>\n",
       "      <td>0</td>\n",
       "      <td>0</td>\n",
       "    </tr>\n",
       "  </tbody>\n",
       "</table>\n",
       "<p>10 rows × 27998 columns</p>\n",
       "</div>"
      ],
      "text/plain": [
       "                   0       1        2     3     4      5        6       7      \\\n",
       "gene                Xkr4  Gm1992  Gm37381   Rp1   Rp1  Sox17  Gm37323  Mrpl15   \n",
       "AAACCTGAGGATGGTC-1     0       0        0     0     0      0        0       0   \n",
       "AAACCTGCAGCATACT-1     0       0        0     0     0      1        0       0   \n",
       "AAACCTGGTAAGAGGA-1     0       0        0     0     0      0        0       0   \n",
       "AAACCTGGTAGAAGGA-1     0       0        0     0     0      0        0       0   \n",
       "AAACCTGTCCTACAGA-1     0       0        0     0     0      0        0       0   \n",
       "AAACCTGTCGTAGGTT-1     0       0        0     0     0      0        0       0   \n",
       "AAACGGGCAATGGAGC-1     0       0        0     0     0      0        0       0   \n",
       "AAACGGGCAGTACACT-1     0       0        0     0     0      0        0       1   \n",
       "AAACGGGCATCTCCCA-1     0       0        0     0     0      0        0       1   \n",
       "\n",
       "                     8        9      ...       27988       27989       27990  \\\n",
       "gene                Lypla1  Gm37988  ...  AC125149.1  AC125149.2  AC125149.4   \n",
       "AAACCTGAGGATGGTC-1       0        0  ...           0           0           0   \n",
       "AAACCTGCAGCATACT-1       0        0  ...           0           0           0   \n",
       "AAACCTGGTAAGAGGA-1       0        0  ...           0           0           0   \n",
       "AAACCTGGTAGAAGGA-1       0        0  ...           0           0           0   \n",
       "AAACCTGTCCTACAGA-1       0        0  ...           0           0           0   \n",
       "AAACCTGTCGTAGGTT-1       0        0  ...           0           0           0   \n",
       "AAACGGGCAATGGAGC-1       0        0  ...           0           0           0   \n",
       "AAACGGGCAGTACACT-1       1        0  ...           0           0           0   \n",
       "AAACGGGCATCTCCCA-1       1        0  ...           0           0           0   \n",
       "\n",
       "                         27991       27992       27993 27994  27995     27996  \\\n",
       "gene                AC234645.1  AC168977.2  AC168977.1  PISD  DHRSX  Vmn2r122   \n",
       "AAACCTGAGGATGGTC-1           0           0           0     0      1         0   \n",
       "AAACCTGCAGCATACT-1           0           0           0     0      0         0   \n",
       "AAACCTGGTAAGAGGA-1           0           0           0     0      0         0   \n",
       "AAACCTGGTAGAAGGA-1           0           0           0     0      0         0   \n",
       "AAACCTGTCCTACAGA-1           0           0           0     1      0         0   \n",
       "AAACCTGTCGTAGGTT-1           0           0           0     0      0         0   \n",
       "AAACGGGCAATGGAGC-1           0           0           0     0      0         0   \n",
       "AAACGGGCAGTACACT-1           0           0           0     0      0         0   \n",
       "AAACGGGCATCTCCCA-1           0           0           0     0      0         0   \n",
       "\n",
       "                             27997  \n",
       "gene                CAAA01147332.1  \n",
       "AAACCTGAGGATGGTC-1               0  \n",
       "AAACCTGCAGCATACT-1               0  \n",
       "AAACCTGGTAAGAGGA-1               0  \n",
       "AAACCTGGTAGAAGGA-1               0  \n",
       "AAACCTGTCCTACAGA-1               0  \n",
       "AAACCTGTCGTAGGTT-1               0  \n",
       "AAACGGGCAATGGAGC-1               0  \n",
       "AAACGGGCAGTACACT-1               0  \n",
       "AAACGGGCATCTCCCA-1               0  \n",
       "\n",
       "[10 rows x 27998 columns]"
      ]
     },
     "execution_count": 7,
     "metadata": {},
     "output_type": "execute_result"
    }
   ],
   "source": [
    "matrix.head(10)"
   ]
  },
  {
   "cell_type": "code",
   "execution_count": 8,
   "metadata": {},
   "outputs": [
    {
     "data": {
      "text/plain": [
       "(2442, 27998)"
      ]
     },
     "execution_count": 8,
     "metadata": {},
     "output_type": "execute_result"
    }
   ],
   "source": [
    "matrix.shape"
   ]
  },
  {
   "cell_type": "code",
   "execution_count": 9,
   "metadata": {},
   "outputs": [],
   "source": [
    "matrix[\"experiment\"] = \"chemical reprogramming\"\n",
    "matrix[\"reprogramming_days\"] = \"0\"\n",
    "matrix[\"age\"] = \"10-12 weeks\"\n",
    "matrix[\"cell_type\"] = \"Adult distal digit tip\"\n",
    "matrix[\"cell_state\"] = \"Uninjured\"\n",
    "matrix[\"organism\"] = \"C57BL/6\"\n",
    "np.savetxt(r'./uninjured_I.txt.gz', matrix, fmt='%s')"
   ]
  },
  {
   "cell_type": "markdown",
   "metadata": {},
   "source": [
    "## Uninjured II C57BL/6"
   ]
  },
  {
   "cell_type": "code",
   "execution_count": 10,
   "metadata": {},
   "outputs": [],
   "source": [
    "matrix_dir = \"C:\\matlab scripts\\Miller_Reprogramacion_Parcial_Quimica_Raton\"\n",
    "\n",
    "# leemos la información en bruto\n",
    "mat,gene_names,barcodes = read_data(matrix_dir)\n",
    "matrix = pd.DataFrame.sparse.from_spmatrix(mat)\n",
    "matrix.columns = barcodes\n",
    "matrix.insert(loc=0, column=\"gene\", value=gene_names)\n",
    "matrix = matrix.transpose()\n"
   ]
  },
  {
   "cell_type": "code",
   "execution_count": 11,
   "metadata": {},
   "outputs": [],
   "source": [
    "matrix[\"experiment\"] = \"chemical reprogramming\"\n",
    "matrix[\"reprogramming_days\"] = \"0\"\n",
    "matrix[\"age\"] = \"10-12 weeks\"\n",
    "matrix[\"cell_type\"] = \"Adult distal digit tip\"\n",
    "matrix[\"cell_state\"] = \"Uninjured\"\n",
    "matrix[\"organism\"] = \"C57BL/6\"\n",
    "np.savetxt(r'./uninjured_II.txt.gz', matrix, fmt='%s')"
   ]
  },
  {
   "cell_type": "markdown",
   "metadata": {},
   "source": [
    "## Uninjured Dmp1CreERT2;R26-LSL-TdT"
   ]
  },
  {
   "cell_type": "code",
   "execution_count": 12,
   "metadata": {},
   "outputs": [],
   "source": [
    "matrix_dir = \"C:\\matlab scripts\\Miller_Reprogramacion_Parcial_Quimica_Raton\"\n",
    "\n",
    "# leemos la información en bruto\n",
    "mat,gene_names,barcodes = read_data(matrix_dir)\n",
    "matrix = pd.DataFrame.sparse.from_spmatrix(mat)\n",
    "matrix.columns = barcodes\n",
    "matrix.insert(loc=0, column=\"gene\", value=gene_names)\n",
    "matrix = matrix.transpose()"
   ]
  },
  {
   "cell_type": "code",
   "execution_count": 14,
   "metadata": {},
   "outputs": [
    {
     "data": {
      "text/plain": [
       "(4704, 27998)"
      ]
     },
     "execution_count": 14,
     "metadata": {},
     "output_type": "execute_result"
    }
   ],
   "source": [
    "matrix.shape"
   ]
  },
  {
   "cell_type": "code",
   "execution_count": 15,
   "metadata": {},
   "outputs": [],
   "source": [
    "matrix[\"experiment\"] = \"chemical reprogramming\"\n",
    "matrix[\"reprogramming_days\"] = \"0\"\n",
    "matrix[\"age\"] = \"10-12 weeks\"\n",
    "matrix[\"cell_type\"] = \"Adult distal digit tip\"\n",
    "matrix[\"cell_state\"] = \"Uninjured\"\n",
    "matrix[\"organism\"] = \"Dmp1CreERT2;R26-LSL-TdT\"\n",
    "np.savetxt(r'./uninjured_Dmp1.txt.gz', matrix, fmt='%s')"
   ]
  },
  {
   "cell_type": "markdown",
   "metadata": {},
   "source": [
    "## Regenerating 7 DPA"
   ]
  },
  {
   "cell_type": "code",
   "execution_count": 18,
   "metadata": {},
   "outputs": [],
   "source": [
    "matrix_dir = \"C:\\matlab scripts\\Miller_Reprogramacion_Parcial_Quimica_Raton\"\n",
    "\n",
    "# leemos la información en bruto\n",
    "mat,gene_names,barcodes = read_data(matrix_dir)\n",
    "matrix = pd.DataFrame.sparse.from_spmatrix(mat)\n",
    "matrix.columns = barcodes\n",
    "matrix.insert(loc=0, column=\"gene\", value=gene_names)\n",
    "matrix = matrix.transpose()\n",
    "\n",
    "matrix[\"experiment\"] = \"chemical reprogramming\"\n",
    "matrix[\"reprogramming_days\"] = \"7\"\n",
    "matrix[\"age\"] = \"10-12 weeks\"\n",
    "matrix[\"cell_type\"] = \"Adult distal digit tip\"\n",
    "matrix[\"cell_state\"] = \"Regenerating\"\n",
    "matrix[\"organism\"] = \"C57BL/6\"\n",
    "np.savetxt(r'./regenerating_7_days.txt.gz', matrix, fmt='%s')\n"
   ]
  },
  {
   "cell_type": "markdown",
   "metadata": {},
   "source": [
    "## Regenerating 10 Days"
   ]
  },
  {
   "cell_type": "code",
   "execution_count": 17,
   "metadata": {},
   "outputs": [],
   "source": [
    "matrix_dir = \"C:\\matlab scripts\\Miller_Reprogramacion_Parcial_Quimica_Raton\"\n",
    "\n",
    "# leemos la información en bruto\n",
    "mat,gene_names,barcodes = read_data(matrix_dir)\n",
    "matrix = pd.DataFrame.sparse.from_spmatrix(mat)\n",
    "matrix.columns = barcodes\n",
    "matrix.insert(loc=0, column=\"gene\", value=gene_names)\n",
    "matrix = matrix.transpose()\n",
    "\n",
    "matrix[\"experiment\"] = \"chemical reprogramming\"\n",
    "matrix[\"reprogramming_days\"] = \"10\"\n",
    "matrix[\"age\"] = \"10-12 weeks\"\n",
    "matrix[\"cell_type\"] = \"Adult distal digit tip\"\n",
    "matrix[\"cell_state\"] = \"Regenerating\"\n",
    "matrix[\"organism\"] = \"C57BL/6\"\n",
    "np.savetxt(r'./regenerating_10_days.txt.gz', matrix, fmt='%s')"
   ]
  },
  {
   "cell_type": "markdown",
   "metadata": {},
   "source": [
    "## Regenerating 14 days C57BL/6"
   ]
  },
  {
   "cell_type": "code",
   "execution_count": 19,
   "metadata": {},
   "outputs": [],
   "source": [
    "matrix_dir = \"C:\\matlab scripts\\Miller_Reprogramacion_Parcial_Quimica_Raton\"\n",
    "\n",
    "# leemos la información en bruto\n",
    "mat,gene_names,barcodes = read_data(matrix_dir)\n",
    "matrix = pd.DataFrame.sparse.from_spmatrix(mat)\n",
    "matrix.columns = barcodes\n",
    "matrix.insert(loc=0, column=\"gene\", value=gene_names)\n",
    "matrix = matrix.transpose()\n",
    "\n",
    "matrix[\"experiment\"] = \"chemical reprogramming\"\n",
    "matrix[\"reprogramming_days\"] = \"14\"\n",
    "matrix[\"age\"] = \"10-12 weeks\"\n",
    "matrix[\"cell_type\"] = \"Adult distal digit tip\"\n",
    "matrix[\"cell_state\"] = \"Regenerating\"\n",
    "matrix[\"organism\"] = \"C57BL/6\"\n",
    "np.savetxt(r'./regenerating_14_days.txt.gz', matrix, fmt='%s')"
   ]
  },
  {
   "cell_type": "markdown",
   "metadata": {},
   "source": [
    "## Regenerating 14 days \"Dmp1CreERT2;R26-LSL-TdT\""
   ]
  },
  {
   "cell_type": "code",
   "execution_count": 22,
   "metadata": {},
   "outputs": [],
   "source": [
    "matrix_dir = \"C:\\matlab scripts\\Miller_Reprogramacion_Parcial_Quimica_Raton\"\n",
    "\n",
    "# leemos la información en bruto\n",
    "mat,gene_names,barcodes = read_data(matrix_dir)\n",
    "matrix = pd.DataFrame.sparse.from_spmatrix(mat)\n",
    "matrix.columns = barcodes\n",
    "matrix.insert(loc=0, column=\"gene\", value=gene_names)\n",
    "matrix = matrix.transpose()\n"
   ]
  },
  {
   "cell_type": "code",
   "execution_count": 24,
   "metadata": {},
   "outputs": [],
   "source": [
    "matrix[\"experiment\"] = \"chemical reprogramming\"\n",
    "matrix[\"reprogramming_days\"] = \"14\"\n",
    "matrix[\"age\"] = \"10-12 weeks\"\n",
    "matrix[\"cell_type\"] = \"Adult distal digit tip\"\n",
    "matrix[\"cell_state\"] = \"Regenerating\"\n",
    "matrix[\"organism\"] = \"Dmp1CreERT2;R26-LSL-TdT\"\n",
    "np.savetxt(r'./regenerating_14_days_Dmp1.txt.gz', matrix, fmt='%s')"
   ]
  },
  {
   "cell_type": "markdown",
   "metadata": {},
   "source": [
    "## Regenerating 28 days"
   ]
  },
  {
   "cell_type": "code",
   "execution_count": 27,
   "metadata": {},
   "outputs": [],
   "source": [
    "matrix_dir = \"C:\\matlab scripts\\Miller_Reprogramacion_Parcial_Quimica_Raton\"\n",
    "\n",
    "# leemos la información en bruto\n",
    "mat,gene_names,barcodes = read_data(matrix_dir)\n",
    "matrix = pd.DataFrame.sparse.from_spmatrix(mat)\n",
    "matrix.columns = barcodes\n",
    "matrix.insert(loc=0, column=\"gene\", value=gene_names)\n",
    "matrix = matrix.transpose()\n",
    "\n",
    "matrix[\"experiment\"] = \"chemical reprogramming\"\n",
    "matrix[\"reprogramming_days\"] = \"28\"\n",
    "matrix[\"age\"] = \"10-12 weeks\"\n",
    "matrix[\"cell_type\"] = \"Adult distal digit tip\"\n",
    "matrix[\"cell_state\"] = \"Regenerating\"\n",
    "matrix[\"organism\"] = \"C57BL/6\"\n",
    "np.savetxt(r'./regenerating_28_days.txt.gz', matrix, fmt='%s')"
   ]
  },
  {
   "cell_type": "markdown",
   "metadata": {},
   "source": [
    "## Regenerating 56 Days"
   ]
  },
  {
   "cell_type": "code",
   "execution_count": 28,
   "metadata": {},
   "outputs": [],
   "source": [
    "matrix_dir = \"C:\\matlab scripts\\Miller_Reprogramacion_Parcial_Quimica_Raton\"\n",
    "\n",
    "# leemos la información en bruto\n",
    "mat,gene_names,barcodes = read_data(matrix_dir)\n",
    "matrix = pd.DataFrame.sparse.from_spmatrix(mat)\n",
    "matrix.columns = barcodes\n",
    "matrix.insert(loc=0, column=\"gene\", value=gene_names)\n",
    "matrix = matrix.transpose()\n",
    "\n",
    "matrix[\"experiment\"] = \"chemical reprogramming\"\n",
    "matrix[\"reprogramming_days\"] = \"56\"\n",
    "matrix[\"age\"] = \"10-12 weeks\"\n",
    "matrix[\"cell_type\"] = \"Adult distal digit tip\"\n",
    "matrix[\"cell_state\"] = \"Regenerating\"\n",
    "matrix[\"organism\"] = \"C57BL/6\"\n",
    "np.savetxt(r'./regenerating_56_days.txt.gz', matrix, fmt='%s')"
   ]
  },
  {
   "cell_type": "markdown",
   "metadata": {},
   "source": [
    "## Non regenerative 10 days"
   ]
  },
  {
   "cell_type": "code",
   "execution_count": 29,
   "metadata": {},
   "outputs": [],
   "source": [
    "matrix_dir = \"C:\\matlab scripts\\Miller_Reprogramacion_Parcial_Quimica_Raton\"\n",
    "\n",
    "# leemos la información en bruto\n",
    "mat,gene_names,barcodes = read_data(matrix_dir)\n",
    "matrix = pd.DataFrame.sparse.from_spmatrix(mat)\n",
    "matrix.columns = barcodes\n",
    "matrix.insert(loc=0, column=\"gene\", value=gene_names)\n",
    "matrix = matrix.transpose()\n",
    "\n",
    "matrix[\"experiment\"] = \"chemical reprogramming\"\n",
    "matrix[\"reprogramming_days\"] = \"10\"\n",
    "matrix[\"age\"] = \"10-12 weeks\"\n",
    "matrix[\"cell_type\"] = \"Adult non-regenerative mesenchymal cap\"\n",
    "matrix[\"cell_state\"] = \"Non regenerative\"\n",
    "matrix[\"organism\"] = \"C57BL/6\"\n",
    "np.savetxt(r'./non_regenerative_10_days.txt.gz', matrix, fmt='%s')"
   ]
  },
  {
   "cell_type": "markdown",
   "metadata": {},
   "source": [
    "## Non regenerative 14 days"
   ]
  },
  {
   "cell_type": "code",
   "execution_count": 31,
   "metadata": {},
   "outputs": [],
   "source": [
    "matrix_dir = \"C:\\matlab scripts\\Miller_Reprogramacion_Parcial_Quimica_Raton\"\n",
    "\n",
    "# leemos la información en bruto\n",
    "mat,gene_names,barcodes = read_data(matrix_dir)\n",
    "matrix = pd.DataFrame.sparse.from_spmatrix(mat)\n",
    "matrix.columns = barcodes\n",
    "matrix.insert(loc=0, column=\"gene\", value=gene_names)\n",
    "matrix = matrix.transpose()\n",
    "\n",
    "matrix[\"experiment\"] = \"chemical reprogramming\"\n",
    "matrix[\"reprogramming_days\"] = \"14\"\n",
    "matrix[\"age\"] = \"10-12 weeks\"\n",
    "matrix[\"cell_type\"] = \"Adult non-regenerative mesenchymal cap\"\n",
    "matrix[\"cell_state\"] = \"Non regenerative\"\n",
    "matrix[\"organism\"] = \"C57BL/6\"\n",
    "np.savetxt(r'./non_regenerative_14_days.txt.gz', matrix, fmt='%s')"
   ]
  },
  {
   "cell_type": "markdown",
   "metadata": {},
   "source": [
    "## Embryonic hindlimb"
   ]
  },
  {
   "cell_type": "code",
   "execution_count": 33,
   "metadata": {},
   "outputs": [],
   "source": [
    "matrix_dir = \"C:\\matlab scripts\\Miller_Reprogramacion_Parcial_Quimica_Raton\"\n",
    "\n",
    "# leemos la información en bruto\n",
    "mat,gene_names,barcodes = read_data(matrix_dir)\n",
    "matrix = pd.DataFrame.sparse.from_spmatrix(mat)\n",
    "matrix.columns = barcodes\n",
    "matrix.insert(loc=0, column=\"gene\", value=gene_names)\n",
    "matrix = matrix.transpose()\n",
    "\n",
    "matrix[\"experiment\"] = \"chemical reprogramming\"\n",
    "matrix[\"reprogramming_days\"] = \"0\"\n",
    "matrix[\"age\"] = \"Embryonic Day 11\"\n",
    "matrix[\"cell_type\"] = \"Embryonic hindlimb\"\n",
    "matrix[\"cell_state\"] = \"embryonic\"\n",
    "matrix[\"organism\"] = \"C57BL/6\"\n",
    "np.savetxt(r'./embryonic_hindlimb.txt.gz', matrix, fmt='%s')"
   ]
  },
  {
   "cell_type": "markdown",
   "metadata": {},
   "source": [
    "## Embryonic digit tips from hindlimbs"
   ]
  },
  {
   "cell_type": "code",
   "execution_count": 34,
   "metadata": {},
   "outputs": [],
   "source": [
    "matrix_dir = \"C:\\matlab scripts\\Miller_Reprogramacion_Parcial_Quimica_Raton\"\n",
    "\n",
    "# leemos la información en bruto\n",
    "mat,gene_names,barcodes = read_data(matrix_dir)\n",
    "matrix = pd.DataFrame.sparse.from_spmatrix(mat)\n",
    "matrix.columns = barcodes\n",
    "matrix.insert(loc=0, column=\"gene\", value=gene_names)\n",
    "matrix = matrix.transpose()\n",
    "\n",
    "matrix[\"experiment\"] = \"chemical reprogramming\"\n",
    "matrix[\"reprogramming_days\"] = \"0\"\n",
    "matrix[\"age\"] = \"Embryonic Day 14\"\n",
    "matrix[\"cell_type\"] = \"Embryonic digit tips from hindlimbs\"\n",
    "matrix[\"cell_state\"] = \"embryonic\"\n",
    "matrix[\"organism\"] = \"C57BL/6\"\n",
    "np.savetxt(r'./embryonic_digit_tip_hindlimb.txt.gz', matrix, fmt='%s')"
   ]
  },
  {
   "cell_type": "markdown",
   "metadata": {},
   "source": [
    "## Postnatal distal digit tip"
   ]
  },
  {
   "cell_type": "code",
   "execution_count": 35,
   "metadata": {},
   "outputs": [],
   "source": [
    "matrix_dir = \"C:\\matlab scripts\\Miller_Reprogramacion_Parcial_Quimica_Raton\"\n",
    "\n",
    "# leemos la información en bruto\n",
    "mat,gene_names,barcodes = read_data(matrix_dir)\n",
    "matrix = pd.DataFrame.sparse.from_spmatrix(mat)\n",
    "matrix.columns = barcodes\n",
    "matrix.insert(loc=0, column=\"gene\", value=gene_names)\n",
    "matrix = matrix.transpose()\n",
    "\n",
    "matrix[\"experiment\"] = \"chemical reprogramming\"\n",
    "matrix[\"reprogramming_days\"] = \"0\"\n",
    "matrix[\"age\"] = \"Post-natal Day 3\"\n",
    "matrix[\"cell_type\"] = \"Postnatal distal digit tip\"\n",
    "matrix[\"cell_state\"] = \"Postnatal\"\n",
    "matrix[\"organism\"] = \"C57BL/6\"\n",
    "np.savetxt(r'./postnatal_distal_digit_tip.txt.gz', matrix, fmt='%s')"
   ]
  },
  {
   "cell_type": "markdown",
   "metadata": {},
   "source": []
  }
 ],
 "metadata": {
  "kernelspec": {
   "display_name": "Python 3.9.13 64-bit (microsoft store)",
   "language": "python",
   "name": "python3"
  },
  "language_info": {
   "codemirror_mode": {
    "name": "ipython",
    "version": 3
   },
   "file_extension": ".py",
   "mimetype": "text/x-python",
   "name": "python",
   "nbconvert_exporter": "python",
   "pygments_lexer": "ipython3",
   "version": "3.9.13"
  },
  "orig_nbformat": 4,
  "vscode": {
   "interpreter": {
    "hash": "52fef9f371462526e6c16fbedf2b5b9bc32d90752958a415cf9672d41d7c1c70"
   }
  }
 },
 "nbformat": 4,
 "nbformat_minor": 2
}
