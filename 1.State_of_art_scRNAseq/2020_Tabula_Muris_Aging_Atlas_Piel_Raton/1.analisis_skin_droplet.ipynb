{
 "cells": [
  {
   "cell_type": "markdown",
   "metadata": {},
   "source": [
    "Los datos están en un archivo .h5ad. Además tenemos dos, el de facs (citometría de flujo?) y droplet. "
   ]
  },
  {
   "cell_type": "code",
   "execution_count": 2,
   "metadata": {},
   "outputs": [],
   "source": [
    "import os\n",
    "import scanpy as sc\n",
    "import anndata\n",
    "from urllib.request import urlretrieve\n",
    "import pandas as pd"
   ]
  },
  {
   "cell_type": "code",
   "execution_count": 3,
   "id": "327e6e73",
   "metadata": {},
   "outputs": [
    {
     "name": "stderr",
     "output_type": "stream",
     "text": [
      "c:\\Users\\andre\\sc-2022\\env\\lib\\site-packages\\anndata\\compat\\__init__.py:232: FutureWarning: Moving element from .uns['neighbors']['distances'] to .obsp['distances'].\n",
      "\n",
      "This is where adjacency matrices should go now.\n",
      "  warn(\n",
      "c:\\Users\\andre\\sc-2022\\env\\lib\\site-packages\\anndata\\compat\\__init__.py:232: FutureWarning: Moving element from .uns['neighbors']['connectivities'] to .obsp['connectivities'].\n",
      "\n",
      "This is where adjacency matrices should go now.\n",
      "  warn(\n"
     ]
    }
   ],
   "source": [
    "skin_droplet = anndata.read_h5ad(\"C:\\matlab scripts\\Tabula_Muris_Aging_Piel_Raton\\Skin_droplet.h5ad\")"
   ]
  },
  {
   "cell_type": "code",
   "execution_count": 4,
   "metadata": {},
   "outputs": [
    {
     "data": {
      "text/plain": [
       "AnnData object with n_obs × n_vars = 4454 × 19860\n",
       "    obs: 'age', 'batch', 'cell', 'cell_ontology_class', 'cell_ontology_id', 'free_annotation', 'method', 'mouse.id', 'n_genes', 'sex', 'subtissue', 'tissue', 'tissue_free_annotation', 'n_counts', 'louvain'\n",
       "    var: 'n_cells', 'means', 'dispersions', 'dispersions_norm', 'highly_variable'\n",
       "    uns: 'louvain', 'neighbors', 'pca', 'rank_genes_groups'\n",
       "    obsm: 'X_pca', 'X_umap', 'X_tsne'\n",
       "    varm: 'PCs'\n",
       "    obsp: 'distances', 'connectivities'"
      ]
     },
     "execution_count": 4,
     "metadata": {},
     "output_type": "execute_result"
    }
   ],
   "source": [
    "skin_droplet"
   ]
  },
  {
   "cell_type": "markdown",
   "metadata": {},
   "source": [
    "Es un anndata con los atributos que vemos arriba, donde las observaciones son las células. Sacamos la matriz de conteos. Por otro lado, la etiqueta va a ser si son células adultas (24m = 24 meses) o jóvenes (3m = 3 meses)."
   ]
  },
  {
   "cell_type": "code",
   "execution_count": 5,
   "metadata": {},
   "outputs": [
    {
     "data": {
      "text/html": [
       "<div>\n",
       "<style scoped>\n",
       "    .dataframe tbody tr th:only-of-type {\n",
       "        vertical-align: middle;\n",
       "    }\n",
       "\n",
       "    .dataframe tbody tr th {\n",
       "        vertical-align: top;\n",
       "    }\n",
       "\n",
       "    .dataframe thead th {\n",
       "        text-align: right;\n",
       "    }\n",
       "</style>\n",
       "<table border=\"1\" class=\"dataframe\">\n",
       "  <thead>\n",
       "    <tr style=\"text-align: right;\">\n",
       "      <th></th>\n",
       "      <th>age</th>\n",
       "      <th>batch</th>\n",
       "      <th>cell</th>\n",
       "      <th>cell_ontology_class</th>\n",
       "      <th>cell_ontology_id</th>\n",
       "      <th>free_annotation</th>\n",
       "      <th>method</th>\n",
       "      <th>mouse.id</th>\n",
       "      <th>n_genes</th>\n",
       "      <th>sex</th>\n",
       "      <th>subtissue</th>\n",
       "      <th>tissue</th>\n",
       "      <th>tissue_free_annotation</th>\n",
       "      <th>n_counts</th>\n",
       "      <th>louvain</th>\n",
       "    </tr>\n",
       "    <tr>\n",
       "      <th>index</th>\n",
       "      <th></th>\n",
       "      <th></th>\n",
       "      <th></th>\n",
       "      <th></th>\n",
       "      <th></th>\n",
       "      <th></th>\n",
       "      <th></th>\n",
       "      <th></th>\n",
       "      <th></th>\n",
       "      <th></th>\n",
       "      <th></th>\n",
       "      <th></th>\n",
       "      <th></th>\n",
       "      <th></th>\n",
       "      <th></th>\n",
       "    </tr>\n",
       "  </thead>\n",
       "  <tbody>\n",
       "    <tr>\n",
       "      <th>AAAGATGTCGGATGTT-1-40-0-0</th>\n",
       "      <td>18m</td>\n",
       "      <td>0</td>\n",
       "      <td>MACA_18m_M_SKIN_52_AAAGATGTCGGATGTT</td>\n",
       "      <td>basal cell of epidermis</td>\n",
       "      <td>CL:0002187</td>\n",
       "      <td>NA</td>\n",
       "      <td>droplet</td>\n",
       "      <td>18-M-52</td>\n",
       "      <td>3612</td>\n",
       "      <td>male</td>\n",
       "      <td>NA</td>\n",
       "      <td>Skin</td>\n",
       "      <td>Skin</td>\n",
       "      <td>18496.0</td>\n",
       "      <td>0</td>\n",
       "    </tr>\n",
       "    <tr>\n",
       "      <th>AAATGCCTCAAGAAGT-1-40-0-0</th>\n",
       "      <td>18m</td>\n",
       "      <td>0</td>\n",
       "      <td>MACA_18m_M_SKIN_52_AAATGCCTCAAGAAGT</td>\n",
       "      <td>basal cell of epidermis</td>\n",
       "      <td>CL:0002187</td>\n",
       "      <td>NA</td>\n",
       "      <td>droplet</td>\n",
       "      <td>18-M-52</td>\n",
       "      <td>2867</td>\n",
       "      <td>male</td>\n",
       "      <td>NA</td>\n",
       "      <td>Skin</td>\n",
       "      <td>Skin</td>\n",
       "      <td>12716.0</td>\n",
       "      <td>0</td>\n",
       "    </tr>\n",
       "    <tr>\n",
       "      <th>AACTCAGAGGCAATTA-1-40-0-0</th>\n",
       "      <td>18m</td>\n",
       "      <td>0</td>\n",
       "      <td>MACA_18m_M_SKIN_52_AACTCAGAGGCAATTA</td>\n",
       "      <td>basal cell of epidermis</td>\n",
       "      <td>CL:0002187</td>\n",
       "      <td>NA</td>\n",
       "      <td>droplet</td>\n",
       "      <td>18-M-52</td>\n",
       "      <td>3808</td>\n",
       "      <td>male</td>\n",
       "      <td>NA</td>\n",
       "      <td>Skin</td>\n",
       "      <td>Skin</td>\n",
       "      <td>21047.0</td>\n",
       "      <td>0</td>\n",
       "    </tr>\n",
       "    <tr>\n",
       "      <th>AAGCCGCCATCGGACC-1-40-0-0</th>\n",
       "      <td>18m</td>\n",
       "      <td>0</td>\n",
       "      <td>MACA_18m_M_SKIN_52_AAGCCGCCATCGGACC</td>\n",
       "      <td>keratinocyte stem cell</td>\n",
       "      <td>CL:0002337</td>\n",
       "      <td>NA</td>\n",
       "      <td>droplet</td>\n",
       "      <td>18-M-52</td>\n",
       "      <td>533</td>\n",
       "      <td>male</td>\n",
       "      <td>NA</td>\n",
       "      <td>Skin</td>\n",
       "      <td>Skin</td>\n",
       "      <td>3699.0</td>\n",
       "      <td>4</td>\n",
       "    </tr>\n",
       "    <tr>\n",
       "      <th>ACGAGGAAGGTGATAT-1-40-0-0</th>\n",
       "      <td>18m</td>\n",
       "      <td>0</td>\n",
       "      <td>MACA_18m_M_SKIN_52_ACGAGGAAGGTGATAT</td>\n",
       "      <td>basal cell of epidermis</td>\n",
       "      <td>CL:0002187</td>\n",
       "      <td>NA</td>\n",
       "      <td>droplet</td>\n",
       "      <td>18-M-52</td>\n",
       "      <td>4550</td>\n",
       "      <td>male</td>\n",
       "      <td>NA</td>\n",
       "      <td>Skin</td>\n",
       "      <td>Skin</td>\n",
       "      <td>29435.0</td>\n",
       "      <td>2</td>\n",
       "    </tr>\n",
       "  </tbody>\n",
       "</table>\n",
       "</div>"
      ],
      "text/plain": [
       "                           age batch                                 cell  \\\n",
       "index                                                                       \n",
       "AAAGATGTCGGATGTT-1-40-0-0  18m     0  MACA_18m_M_SKIN_52_AAAGATGTCGGATGTT   \n",
       "AAATGCCTCAAGAAGT-1-40-0-0  18m     0  MACA_18m_M_SKIN_52_AAATGCCTCAAGAAGT   \n",
       "AACTCAGAGGCAATTA-1-40-0-0  18m     0  MACA_18m_M_SKIN_52_AACTCAGAGGCAATTA   \n",
       "AAGCCGCCATCGGACC-1-40-0-0  18m     0  MACA_18m_M_SKIN_52_AAGCCGCCATCGGACC   \n",
       "ACGAGGAAGGTGATAT-1-40-0-0  18m     0  MACA_18m_M_SKIN_52_ACGAGGAAGGTGATAT   \n",
       "\n",
       "                               cell_ontology_class cell_ontology_id  \\\n",
       "index                                                                 \n",
       "AAAGATGTCGGATGTT-1-40-0-0  basal cell of epidermis       CL:0002187   \n",
       "AAATGCCTCAAGAAGT-1-40-0-0  basal cell of epidermis       CL:0002187   \n",
       "AACTCAGAGGCAATTA-1-40-0-0  basal cell of epidermis       CL:0002187   \n",
       "AAGCCGCCATCGGACC-1-40-0-0   keratinocyte stem cell       CL:0002337   \n",
       "ACGAGGAAGGTGATAT-1-40-0-0  basal cell of epidermis       CL:0002187   \n",
       "\n",
       "                          free_annotation   method mouse.id  n_genes   sex  \\\n",
       "index                                                                        \n",
       "AAAGATGTCGGATGTT-1-40-0-0              NA  droplet  18-M-52     3612  male   \n",
       "AAATGCCTCAAGAAGT-1-40-0-0              NA  droplet  18-M-52     2867  male   \n",
       "AACTCAGAGGCAATTA-1-40-0-0              NA  droplet  18-M-52     3808  male   \n",
       "AAGCCGCCATCGGACC-1-40-0-0              NA  droplet  18-M-52      533  male   \n",
       "ACGAGGAAGGTGATAT-1-40-0-0              NA  droplet  18-M-52     4550  male   \n",
       "\n",
       "                          subtissue tissue tissue_free_annotation  n_counts  \\\n",
       "index                                                                         \n",
       "AAAGATGTCGGATGTT-1-40-0-0        NA   Skin                   Skin   18496.0   \n",
       "AAATGCCTCAAGAAGT-1-40-0-0        NA   Skin                   Skin   12716.0   \n",
       "AACTCAGAGGCAATTA-1-40-0-0        NA   Skin                   Skin   21047.0   \n",
       "AAGCCGCCATCGGACC-1-40-0-0        NA   Skin                   Skin    3699.0   \n",
       "ACGAGGAAGGTGATAT-1-40-0-0        NA   Skin                   Skin   29435.0   \n",
       "\n",
       "                          louvain  \n",
       "index                              \n",
       "AAAGATGTCGGATGTT-1-40-0-0       0  \n",
       "AAATGCCTCAAGAAGT-1-40-0-0       0  \n",
       "AACTCAGAGGCAATTA-1-40-0-0       0  \n",
       "AAGCCGCCATCGGACC-1-40-0-0       4  \n",
       "ACGAGGAAGGTGATAT-1-40-0-0       2  "
      ]
     },
     "execution_count": 5,
     "metadata": {},
     "output_type": "execute_result"
    }
   ],
   "source": [
    "skin_droplet.obs.head()"
   ]
  },
  {
   "cell_type": "code",
   "execution_count": 6,
   "metadata": {},
   "outputs": [
    {
     "data": {
      "text/plain": [
       "{'age': ['18m', '21m']\n",
       " Categories (2, object): ['18m', '21m'],\n",
       " 'batch': ['0']\n",
       " Categories (1, object): ['0'],\n",
       " 'cell': array(['MACA_18m_M_SKIN_52_AAAGATGTCGGATGTT',\n",
       "        'MACA_18m_M_SKIN_52_AAATGCCTCAAGAAGT',\n",
       "        'MACA_18m_M_SKIN_52_AACTCAGAGGCAATTA', ...,\n",
       "        'MACA_21m_F_SKIN_55_TTTGTCAAGACAGAGA',\n",
       "        'MACA_21m_F_SKIN_55_TTTGTCAAGCTGCCCA',\n",
       "        'MACA_21m_F_SKIN_55_TTTGTCATCTTGTTTG'], dtype=object),\n",
       " 'cell_ontology_class': ['basal cell of epidermis', 'keratinocyte stem cell', 'epidermal cell', 'T cell', 'stem cell of epidermis']\n",
       " Categories (5, object): ['T cell', 'basal cell of epidermis', 'epidermal cell', 'keratinocyte stem cell', 'stem cell of epidermis'],\n",
       " 'cell_ontology_id': ['CL:0002187', 'CL:0002337', 'CL:0000362', 'CL:0000084', 'CL:1000428']\n",
       " Categories (5, object): ['CL:0000084', 'CL:0000362', 'CL:0002187', 'CL:0002337', 'CL:1000428'],\n",
       " 'free_annotation': ['NA']\n",
       " Categories (1, object): ['NA'],\n",
       " 'method': ['droplet']\n",
       " Categories (1, object): ['droplet'],\n",
       " 'mouse.id': ['18-M-52', '21-F-54', '21-F-55']\n",
       " Categories (3, object): ['18-M-52', '21-F-54', '21-F-55'],\n",
       " 'n_genes': array([3612, 2867, 3808, ..., 2495, 3716, 4095], dtype=int64),\n",
       " 'sex': ['male', 'female']\n",
       " Categories (2, object): ['female', 'male'],\n",
       " 'subtissue': ['NA']\n",
       " Categories (1, object): ['NA'],\n",
       " 'tissue': ['Skin']\n",
       " Categories (1, object): ['Skin'],\n",
       " 'tissue_free_annotation': ['Skin']\n",
       " Categories (1, object): ['Skin'],\n",
       " 'n_counts': array([18496., 12716., 21047., ..., 13537., 13174., 15258.], dtype=float32),\n",
       " 'louvain': ['0', '4', '2', '1', '5', '7', '8', '6', '3']\n",
       " Categories (9, object): ['0', '1', '2', '3', ..., '5', '6', '7', '8']}"
      ]
     },
     "execution_count": 6,
     "metadata": {},
     "output_type": "execute_result"
    }
   ],
   "source": [
    "columns_obs = skin_droplet.obs.columns\n",
    "data_obs = {}\n",
    "for variable in columns_obs: \n",
    "  description = skin_droplet.obs[variable].unique()\n",
    "  data_obs[variable]= description\n",
    "data_obs"
   ]
  },
  {
   "cell_type": "markdown",
   "metadata": {},
   "source": [
    "Sacamos Y. Si son jóvenes será un 0 en la etiqueta, mientras que si son adultas se codifica con un 1. "
   ]
  },
  {
   "cell_type": "code",
   "execution_count": 6,
   "metadata": {},
   "outputs": [],
   "source": [
    "import numpy as np\n",
    "Y_age = skin_facs.obs[\"age\"]\n",
    "#print(Y_age)\n",
    "\n",
    "y = []\n",
    "\n",
    "for i in range(len(Y_age)):\n",
    "\n",
    "  if Y_age[i]==\"24m\":\n",
    "    #np.append(y,[1])\n",
    "    y.append(1)\n",
    "\n",
    "  else:\n",
    "    #np.append(y,[-1])\n",
    "    y.append(0)\n",
    "\n",
    "Y = np.array(y)"
   ]
  },
  {
   "cell_type": "code",
   "execution_count": 9,
   "metadata": {},
   "outputs": [
    {
     "data": {
      "text/plain": [
       "array([1, 1, 1, ..., 0, 0, 0])"
      ]
     },
     "execution_count": 9,
     "metadata": {},
     "output_type": "execute_result"
    }
   ],
   "source": [
    "Y"
   ]
  },
  {
   "cell_type": "code",
   "execution_count": 10,
   "metadata": {},
   "outputs": [],
   "source": [
    "np.savetxt(\"C:\\matlab scripts\\Tabula_Muris_Aging_Piel_Raton\\Y_skin.txt\",Y,delimiter = \",\")"
   ]
  },
  {
   "cell_type": "markdown",
   "metadata": {},
   "source": [
    "Los nombres de los genes (genes_id) son:"
   ]
  },
  {
   "cell_type": "code",
   "execution_count": 13,
   "metadata": {},
   "outputs": [
    {
     "data": {
      "text/plain": [
       "22899"
      ]
     },
     "execution_count": 13,
     "metadata": {},
     "output_type": "execute_result"
    }
   ],
   "source": [
    "skin_facs.n_vars"
   ]
  },
  {
   "cell_type": "code",
   "execution_count": 17,
   "metadata": {},
   "outputs": [],
   "source": [
    "names = skin_facs.var_names"
   ]
  },
  {
   "cell_type": "code",
   "execution_count": 19,
   "metadata": {},
   "outputs": [
    {
     "name": "stdout",
     "output_type": "stream",
     "text": [
      "Index(['0610005C13Rik', '0610007C21Rik', '0610007L01Rik', '0610007N19Rik',\n",
      "       '0610007P08Rik', '0610007P14Rik', '0610007P22Rik', '0610008F07Rik',\n",
      "       '0610009B14Rik', '0610009B22Rik',\n",
      "       ...\n",
      "       'Zxdb', 'Zxdc', 'Zyg11a', 'Zyg11b', 'Zyx', 'Zzef1', 'Zzz3', 'a',\n",
      "       'l7Rn6', 'zsGreen_transgene'],\n",
      "      dtype='object', name='index', length=22899)\n"
     ]
    }
   ],
   "source": [
    "print(names)"
   ]
  },
  {
   "cell_type": "code",
   "execution_count": 20,
   "metadata": {},
   "outputs": [
    {
     "data": {
      "text/plain": [
       "pandas.core.indexes.base.Index"
      ]
     },
     "execution_count": 20,
     "metadata": {},
     "output_type": "execute_result"
    }
   ],
   "source": [
    "type(names)"
   ]
  },
  {
   "cell_type": "code",
   "execution_count": 22,
   "metadata": {},
   "outputs": [],
   "source": [
    "#np.savetxt(\"C:\\matlab scripts\\Tabula_Muris_Aging_Piel_Raton\\genes_id.txt\",names,delimiter = \",\")\n",
    "pd.Series(names,index=names).to_csv(\"C:\\matlab scripts\\Tabula_Muris_Aging_Piel_Raton\\genes_id_skin.csv\", header=False, index=False)"
   ]
  },
  {
   "cell_type": "markdown",
   "metadata": {},
   "source": [
    "Ahora sacamos la matriz de conteos. "
   ]
  },
  {
   "cell_type": "code",
   "execution_count": null,
   "metadata": {},
   "outputs": [],
   "source": [
    "X = skin_facs.var[\"n_cells\"].toarray().astype(np.uint8)\n",
    "X.shape"
   ]
  },
  {
   "cell_type": "code",
   "execution_count": 23,
   "metadata": {},
   "outputs": [
    {
     "data": {
      "text/plain": [
       "{'n_cells': array([ 2639, 43014, 25249, ..., 18827, 16584, 21272], dtype=int64),\n",
       " 'means': array([6.4001128e-02, 1.0072623e+00, 3.9597169e-01, ..., 1.5586918e-03,\n",
       "        3.6520475e-01, 1.6489928e-05], dtype=float32),\n",
       " 'dispersions': array([2.9700527, 2.2391338, 1.8996348, ..., 2.0661294, 2.0698838,\n",
       "        0.0444914], dtype=float32),\n",
       " 'dispersions_norm': array([ 0.92446554, -0.4029399 , -0.5502703 , ...,  0.00385017,\n",
       "         0.00767388, -2.05512   ], dtype=float32),\n",
       " 'highly_variable': array([ True, False])}"
      ]
     },
     "execution_count": 23,
     "metadata": {},
     "output_type": "execute_result"
    }
   ],
   "source": [
    "columns_var = skin_facs.var.columns\n",
    "data_var = {}\n",
    "for variable in columns_var: \n",
    "  description = skin_facs.var[variable].unique()\n",
    "  data_var[variable]= description\n",
    "data_var"
   ]
  },
  {
   "cell_type": "code",
   "execution_count": null,
   "metadata": {},
   "outputs": [],
   "source": []
  }
 ],
 "metadata": {
  "kernelspec": {
   "display_name": "Python 3.9.13 ('env': venv)",
   "language": "python",
   "name": "python3"
  },
  "language_info": {
   "codemirror_mode": {
    "name": "ipython",
    "version": 3
   },
   "file_extension": ".py",
   "mimetype": "text/x-python",
   "name": "python",
   "nbconvert_exporter": "python",
   "pygments_lexer": "ipython3",
   "version": "3.9.13"
  },
  "orig_nbformat": 4,
  "vscode": {
   "interpreter": {
    "hash": "2b46b747b265df9863f4933b259673f008751f908d2a07ed72dcdf0e50f0c1d5"
   }
  }
 },
 "nbformat": 4,
 "nbformat_minor": 2
}
