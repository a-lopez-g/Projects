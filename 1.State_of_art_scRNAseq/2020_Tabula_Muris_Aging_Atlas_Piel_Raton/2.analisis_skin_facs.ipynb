{
 "cells": [
  {
   "cell_type": "markdown",
   "metadata": {},
   "source": [
    "Los datos están en un archivo .h5ad. Además tenemos dos, el de facs (citometría de flujo?) y droplet. "
   ]
  },
  {
   "cell_type": "code",
   "execution_count": 1,
   "metadata": {},
   "outputs": [],
   "source": [
    "import os\n",
    "import scanpy as sc\n",
    "import anndata\n",
    "from urllib.request import urlretrieve\n",
    "import pandas as pd\n",
    "import matplotlib.pyplot as plt\n",
    "%matplotlib inline"
   ]
  },
  {
   "cell_type": "code",
   "execution_count": 2,
   "id": "327e6e73",
   "metadata": {},
   "outputs": [
    {
     "name": "stderr",
     "output_type": "stream",
     "text": [
      "C:\\Users\\andre\\AppData\\Local\\Packages\\PythonSoftwareFoundation.Python.3.9_qbz5n2kfra8p0\\LocalCache\\local-packages\\Python39\\site-packages\\anndata\\compat\\__init__.py:232: FutureWarning: Moving element from .uns['neighbors']['distances'] to .obsp['distances'].\n",
      "\n",
      "This is where adjacency matrices should go now.\n",
      "  warn(\n",
      "C:\\Users\\andre\\AppData\\Local\\Packages\\PythonSoftwareFoundation.Python.3.9_qbz5n2kfra8p0\\LocalCache\\local-packages\\Python39\\site-packages\\anndata\\compat\\__init__.py:232: FutureWarning: Moving element from .uns['neighbors']['connectivities'] to .obsp['connectivities'].\n",
      "\n",
      "This is where adjacency matrices should go now.\n",
      "  warn(\n"
     ]
    }
   ],
   "source": [
    "skin_facs = anndata.read_h5ad(\"C:\\matlab scripts\\Tabula_Muris_Aging_Piel_Raton\\Skin_facs.h5ad\")"
   ]
  },
  {
   "cell_type": "code",
   "execution_count": 3,
   "metadata": {},
   "outputs": [
    {
     "data": {
      "text/plain": [
       "AnnData object with n_obs × n_vars = 3468 × 22899\n",
       "    obs: 'FACS.selection', 'age', 'batch', 'cell', 'cell_ontology_class', 'cell_ontology_id', 'cellid', 'free_annotation', 'method', 'mouse.id', 'plate', 'sex', 'subtissue', 'tissue', 'well', 'n_genes', 'n_counts', 'louvain'\n",
       "    var: 'n_cells', 'means', 'dispersions', 'dispersions_norm', 'highly_variable'\n",
       "    uns: 'louvain', 'neighbors', 'pca', 'rank_genes_groups'\n",
       "    obsm: 'X_pca', 'X_umap', 'X_tsne'\n",
       "    varm: 'PCs'\n",
       "    obsp: 'distances', 'connectivities'"
      ]
     },
     "execution_count": 3,
     "metadata": {},
     "output_type": "execute_result"
    }
   ],
   "source": [
    "skin_facs"
   ]
  },
  {
   "cell_type": "markdown",
   "metadata": {},
   "source": [
    "Es un anndata con los atributos que vemos arriba, donde las observaciones son las células. Sacamos la matriz de conteos. Por otro lado, la etiqueta va a ser si son células adultas (24m = 24 meses) o jóvenes (3m = 3 meses)."
   ]
  },
  {
   "cell_type": "code",
   "execution_count": 4,
   "metadata": {},
   "outputs": [
    {
     "data": {
      "text/html": [
       "<div>\n",
       "<style scoped>\n",
       "    .dataframe tbody tr th:only-of-type {\n",
       "        vertical-align: middle;\n",
       "    }\n",
       "\n",
       "    .dataframe tbody tr th {\n",
       "        vertical-align: top;\n",
       "    }\n",
       "\n",
       "    .dataframe thead th {\n",
       "        text-align: right;\n",
       "    }\n",
       "</style>\n",
       "<table border=\"1\" class=\"dataframe\">\n",
       "  <thead>\n",
       "    <tr style=\"text-align: right;\">\n",
       "      <th></th>\n",
       "      <th>FACS.selection</th>\n",
       "      <th>age</th>\n",
       "      <th>batch</th>\n",
       "      <th>cell</th>\n",
       "      <th>cell_ontology_class</th>\n",
       "      <th>cell_ontology_id</th>\n",
       "      <th>cellid</th>\n",
       "      <th>free_annotation</th>\n",
       "      <th>method</th>\n",
       "      <th>mouse.id</th>\n",
       "      <th>plate</th>\n",
       "      <th>sex</th>\n",
       "      <th>subtissue</th>\n",
       "      <th>tissue</th>\n",
       "      <th>well</th>\n",
       "      <th>n_genes</th>\n",
       "      <th>n_counts</th>\n",
       "      <th>louvain</th>\n",
       "    </tr>\n",
       "    <tr>\n",
       "      <th>index</th>\n",
       "      <th></th>\n",
       "      <th></th>\n",
       "      <th></th>\n",
       "      <th></th>\n",
       "      <th></th>\n",
       "      <th></th>\n",
       "      <th></th>\n",
       "      <th></th>\n",
       "      <th></th>\n",
       "      <th></th>\n",
       "      <th></th>\n",
       "      <th></th>\n",
       "      <th></th>\n",
       "      <th></th>\n",
       "      <th></th>\n",
       "      <th></th>\n",
       "      <th></th>\n",
       "      <th></th>\n",
       "    </tr>\n",
       "  </thead>\n",
       "  <tbody>\n",
       "    <tr>\n",
       "      <th>A10_B001185_S46_L001.mus-2-0</th>\n",
       "      <td>Multiple</td>\n",
       "      <td>24m</td>\n",
       "      <td>0</td>\n",
       "      <td>nan</td>\n",
       "      <td>keratinocyte stem cell</td>\n",
       "      <td>CL:0002337</td>\n",
       "      <td>A10_B001185</td>\n",
       "      <td>NA</td>\n",
       "      <td>facs</td>\n",
       "      <td>24_59_M</td>\n",
       "      <td>B001185</td>\n",
       "      <td>male</td>\n",
       "      <td>nan</td>\n",
       "      <td>Skin</td>\n",
       "      <td>A10</td>\n",
       "      <td>1734</td>\n",
       "      <td>986179.0</td>\n",
       "      <td>3</td>\n",
       "    </tr>\n",
       "    <tr>\n",
       "      <th>A10_B002899_S262_L001.mus-2-0</th>\n",
       "      <td>Multiple</td>\n",
       "      <td>24m</td>\n",
       "      <td>0</td>\n",
       "      <td>nan</td>\n",
       "      <td>epidermal cell</td>\n",
       "      <td>CL:0000362</td>\n",
       "      <td>A10_B002899</td>\n",
       "      <td>NA</td>\n",
       "      <td>facs</td>\n",
       "      <td>24_59_M</td>\n",
       "      <td>B002899</td>\n",
       "      <td>male</td>\n",
       "      <td>Anagen</td>\n",
       "      <td>Skin</td>\n",
       "      <td>A10</td>\n",
       "      <td>2983</td>\n",
       "      <td>1833213.0</td>\n",
       "      <td>4</td>\n",
       "    </tr>\n",
       "    <tr>\n",
       "      <th>A11_B001185_S47_L001.mus-2-0</th>\n",
       "      <td>Multiple</td>\n",
       "      <td>24m</td>\n",
       "      <td>0</td>\n",
       "      <td>nan</td>\n",
       "      <td>keratinocyte stem cell</td>\n",
       "      <td>CL:0002337</td>\n",
       "      <td>A11_B001185</td>\n",
       "      <td>NA</td>\n",
       "      <td>facs</td>\n",
       "      <td>24_59_M</td>\n",
       "      <td>B001185</td>\n",
       "      <td>male</td>\n",
       "      <td>nan</td>\n",
       "      <td>Skin</td>\n",
       "      <td>A11</td>\n",
       "      <td>1638</td>\n",
       "      <td>747536.0</td>\n",
       "      <td>3</td>\n",
       "    </tr>\n",
       "    <tr>\n",
       "      <th>A11_B002899_S263_L001.mus-2-0</th>\n",
       "      <td>Multiple</td>\n",
       "      <td>24m</td>\n",
       "      <td>0</td>\n",
       "      <td>nan</td>\n",
       "      <td>keratinocyte stem cell</td>\n",
       "      <td>CL:0002337</td>\n",
       "      <td>A11_B002899</td>\n",
       "      <td>NA</td>\n",
       "      <td>facs</td>\n",
       "      <td>24_59_M</td>\n",
       "      <td>B002899</td>\n",
       "      <td>male</td>\n",
       "      <td>Anagen</td>\n",
       "      <td>Skin</td>\n",
       "      <td>A11</td>\n",
       "      <td>2306</td>\n",
       "      <td>1310311.0</td>\n",
       "      <td>1</td>\n",
       "    </tr>\n",
       "    <tr>\n",
       "      <th>A12_B001185_S48_L001.mus-2-0</th>\n",
       "      <td>Multiple</td>\n",
       "      <td>24m</td>\n",
       "      <td>0</td>\n",
       "      <td>nan</td>\n",
       "      <td>basal cell of epidermis</td>\n",
       "      <td>CL:0002187</td>\n",
       "      <td>A12_B001185</td>\n",
       "      <td>NA</td>\n",
       "      <td>facs</td>\n",
       "      <td>24_59_M</td>\n",
       "      <td>B001185</td>\n",
       "      <td>male</td>\n",
       "      <td>nan</td>\n",
       "      <td>Skin</td>\n",
       "      <td>A12</td>\n",
       "      <td>995</td>\n",
       "      <td>5658.0</td>\n",
       "      <td>6</td>\n",
       "    </tr>\n",
       "  </tbody>\n",
       "</table>\n",
       "</div>"
      ],
      "text/plain": [
       "                              FACS.selection  age batch cell  \\\n",
       "index                                                          \n",
       "A10_B001185_S46_L001.mus-2-0        Multiple  24m     0  nan   \n",
       "A10_B002899_S262_L001.mus-2-0       Multiple  24m     0  nan   \n",
       "A11_B001185_S47_L001.mus-2-0        Multiple  24m     0  nan   \n",
       "A11_B002899_S263_L001.mus-2-0       Multiple  24m     0  nan   \n",
       "A12_B001185_S48_L001.mus-2-0        Multiple  24m     0  nan   \n",
       "\n",
       "                                   cell_ontology_class cell_ontology_id  \\\n",
       "index                                                                     \n",
       "A10_B001185_S46_L001.mus-2-0    keratinocyte stem cell       CL:0002337   \n",
       "A10_B002899_S262_L001.mus-2-0           epidermal cell       CL:0000362   \n",
       "A11_B001185_S47_L001.mus-2-0    keratinocyte stem cell       CL:0002337   \n",
       "A11_B002899_S263_L001.mus-2-0   keratinocyte stem cell       CL:0002337   \n",
       "A12_B001185_S48_L001.mus-2-0   basal cell of epidermis       CL:0002187   \n",
       "\n",
       "                                    cellid free_annotation method mouse.id  \\\n",
       "index                                                                        \n",
       "A10_B001185_S46_L001.mus-2-0   A10_B001185              NA   facs  24_59_M   \n",
       "A10_B002899_S262_L001.mus-2-0  A10_B002899              NA   facs  24_59_M   \n",
       "A11_B001185_S47_L001.mus-2-0   A11_B001185              NA   facs  24_59_M   \n",
       "A11_B002899_S263_L001.mus-2-0  A11_B002899              NA   facs  24_59_M   \n",
       "A12_B001185_S48_L001.mus-2-0   A12_B001185              NA   facs  24_59_M   \n",
       "\n",
       "                                 plate   sex subtissue tissue well  n_genes  \\\n",
       "index                                                                         \n",
       "A10_B001185_S46_L001.mus-2-0   B001185  male       nan   Skin  A10     1734   \n",
       "A10_B002899_S262_L001.mus-2-0  B002899  male    Anagen   Skin  A10     2983   \n",
       "A11_B001185_S47_L001.mus-2-0   B001185  male       nan   Skin  A11     1638   \n",
       "A11_B002899_S263_L001.mus-2-0  B002899  male    Anagen   Skin  A11     2306   \n",
       "A12_B001185_S48_L001.mus-2-0   B001185  male       nan   Skin  A12      995   \n",
       "\n",
       "                                n_counts louvain  \n",
       "index                                             \n",
       "A10_B001185_S46_L001.mus-2-0    986179.0       3  \n",
       "A10_B002899_S262_L001.mus-2-0  1833213.0       4  \n",
       "A11_B001185_S47_L001.mus-2-0    747536.0       3  \n",
       "A11_B002899_S263_L001.mus-2-0  1310311.0       1  \n",
       "A12_B001185_S48_L001.mus-2-0      5658.0       6  "
      ]
     },
     "execution_count": 4,
     "metadata": {},
     "output_type": "execute_result"
    }
   ],
   "source": [
    "skin_facs.obs.head()"
   ]
  },
  {
   "cell_type": "code",
   "execution_count": 5,
   "metadata": {},
   "outputs": [
    {
     "data": {
      "text/plain": [
       "{'FACS.selection': ['Multiple', 'nan']\n",
       " Categories (2, object): ['Multiple', 'nan'],\n",
       " 'age': ['24m', '3m']\n",
       " Categories (2, object): ['3m', '24m'],\n",
       " 'batch': ['0', '1']\n",
       " Categories (2, object): ['0', '1'],\n",
       " 'cell': ['nan', 'A1.B000126.3_39_F.1.1', 'A1.B003283.3_38_F.1.1', 'A1.MAA000427.3_11_M.1.1', 'A1.MAA000435.3_10_M.1.1', ..., 'P9.MAA000549.3_8_M.1.1', 'P9.MAA000597.3_9_M.1.1', 'P9.MAA000614.3_10_M.1.1', 'P9.MAA000927.3_9_M.1.1', 'P9.MAA000938.3_8_M.1.1']\n",
       " Length: 2347\n",
       " Categories (2347, object): ['A1.B000126.3_39_F.1.1', 'A1.B003283.3_38_F.1.1', 'A1.MAA000427.3_11_M.1.1', 'A1.MAA000435.3_10_M.1.1', ..., 'P22.MAA000614.3_10_M.1.1', 'P22.MAA000927.3_9_M.1.1', 'P22.MAA000938.3_8_M.1.1', 'nan'],\n",
       " 'cell_ontology_class': ['keratinocyte stem cell', 'epidermal cell', 'basal cell of epidermis']\n",
       " Categories (3, object): ['basal cell of epidermis', 'epidermal cell', 'keratinocyte stem cell'],\n",
       " 'cell_ontology_id': ['CL:0002337', 'CL:0000362', 'CL:0002187']\n",
       " Categories (3, object): ['CL:0000362', 'CL:0002187', 'CL:0002337'],\n",
       " 'cellid': ['A10_B001185', 'A10_B002899', 'A11_B001185', 'A11_B002899', 'A12_B001185', ..., 'P8_B000832', 'P8_B001883', 'P9_B000832', 'P9_B001883', 'nan']\n",
       " Length: 1123\n",
       " Categories (1123, object): ['A1_B000832', 'A1_B001182', 'A1_B001185', 'A1_B001883', ..., 'P19_B001185', 'P20_B001185', 'P21_B001883', 'nan'],\n",
       " 'free_annotation': ['NA', 'Intermediate IFE', 'Outer Bulge', 'Basal IFE', 'Replicating Basal IFE', 'Inner Bulge', 'nan']\n",
       " Categories (7, object): ['Basal IFE', 'Inner Bulge', 'Intermediate IFE', 'NA', 'Outer Bulge', 'Replicating Basal IFE', 'nan'],\n",
       " 'method': ['facs']\n",
       " Categories (1, object): ['facs'],\n",
       " 'mouse.id': ['24_59_M', '24_58_M', '24_60_M', '24_61_M', '3_39_F', '3_38_F', '3_11_M', '3_10_M', '3_8_M', '3_9_M']\n",
       " Categories (10, object): ['3_8_M', '3_9_M', '3_10_M', '3_11_M', ..., '24_58_M', '24_59_M', '24_60_M', '24_61_M'],\n",
       " 'plate': ['B001185', 'B002899', 'B001182', 'B000832', 'B001883', 'nan']\n",
       " Categories (6, object): ['B000832', 'B001182', 'B001185', 'B001883', 'B002899', 'nan'],\n",
       " 'sex': ['male', 'female']\n",
       " Categories (2, object): ['female', 'male'],\n",
       " 'subtissue': ['nan', 'Anagen', 'Telogen']\n",
       " Categories (3, object): ['Anagen', 'Telogen', 'nan'],\n",
       " 'tissue': ['Skin']\n",
       " Categories (1, object): ['Skin'],\n",
       " 'well': ['A10', 'A11', 'A12', 'A13', 'A14', ..., 'O22', 'O9', 'P21', 'P6', 'nan']\n",
       " Length: 345\n",
       " Categories (345, object): ['A1', 'A2', 'A3', 'A4', ..., 'P19', 'P20', 'P21', 'nan'],\n",
       " 'n_genes': array([1734, 2983, 1638, ..., 2393, 3354, 2804], dtype=int64),\n",
       " 'n_counts': array([ 986179., 1833213.,  747536., ...,  166436.,  463406.,  156276.],\n",
       "       dtype=float32),\n",
       " 'louvain': ['3', '4', '1', '6', '5', '2', '0', '7', '8']\n",
       " Categories (9, object): ['0', '1', '2', '3', ..., '5', '6', '7', '8']}"
      ]
     },
     "execution_count": 5,
     "metadata": {},
     "output_type": "execute_result"
    }
   ],
   "source": [
    "columns_obs = skin_facs.obs.columns\n",
    "data_obs = {}\n",
    "for variable in columns_obs: \n",
    "  description = skin_facs.obs[variable].unique()\n",
    "  data_obs[variable]= description\n",
    "data_obs"
   ]
  },
  {
   "cell_type": "markdown",
   "metadata": {},
   "source": [
    "Sacamos Y. Si son jóvenes será un 0 en la etiqueta, mientras que si son adultas se codifica con un 1. "
   ]
  },
  {
   "cell_type": "code",
   "execution_count": 6,
   "metadata": {},
   "outputs": [],
   "source": [
    "import numpy as np\n",
    "Y_age = skin_facs.obs[\"age\"]\n",
    "#print(Y_age)\n",
    "\n",
    "y = []\n",
    "\n",
    "for i in range(len(Y_age)):\n",
    "\n",
    "  if Y_age[i]==\"24m\":\n",
    "    #np.append(y,[1])\n",
    "    y.append(1)\n",
    "\n",
    "  else:\n",
    "    #np.append(y,[-1])\n",
    "    y.append(0)\n",
    "\n",
    "Y = np.array(y)"
   ]
  },
  {
   "cell_type": "code",
   "execution_count": 9,
   "metadata": {},
   "outputs": [
    {
     "data": {
      "text/plain": [
       "array([1, 1, 1, ..., 0, 0, 0])"
      ]
     },
     "execution_count": 9,
     "metadata": {},
     "output_type": "execute_result"
    }
   ],
   "source": [
    "Y"
   ]
  },
  {
   "cell_type": "code",
   "execution_count": 10,
   "metadata": {},
   "outputs": [],
   "source": [
    "np.savetxt(\"C:\\matlab scripts\\Tabula_Muris_Aging_Piel_Raton\\Y_skin.txt\",Y,delimiter = \",\")"
   ]
  },
  {
   "cell_type": "markdown",
   "metadata": {},
   "source": [
    "Los nombres de los genes (genes_id) son:"
   ]
  },
  {
   "cell_type": "code",
   "execution_count": 13,
   "metadata": {},
   "outputs": [
    {
     "data": {
      "text/plain": [
       "22899"
      ]
     },
     "execution_count": 13,
     "metadata": {},
     "output_type": "execute_result"
    }
   ],
   "source": [
    "skin_facs.n_vars"
   ]
  },
  {
   "cell_type": "code",
   "execution_count": 17,
   "metadata": {},
   "outputs": [],
   "source": [
    "names = skin_facs.var_names"
   ]
  },
  {
   "cell_type": "code",
   "execution_count": 19,
   "metadata": {},
   "outputs": [
    {
     "name": "stdout",
     "output_type": "stream",
     "text": [
      "Index(['0610005C13Rik', '0610007C21Rik', '0610007L01Rik', '0610007N19Rik',\n",
      "       '0610007P08Rik', '0610007P14Rik', '0610007P22Rik', '0610008F07Rik',\n",
      "       '0610009B14Rik', '0610009B22Rik',\n",
      "       ...\n",
      "       'Zxdb', 'Zxdc', 'Zyg11a', 'Zyg11b', 'Zyx', 'Zzef1', 'Zzz3', 'a',\n",
      "       'l7Rn6', 'zsGreen_transgene'],\n",
      "      dtype='object', name='index', length=22899)\n"
     ]
    }
   ],
   "source": [
    "print(names)"
   ]
  },
  {
   "cell_type": "code",
   "execution_count": 20,
   "metadata": {},
   "outputs": [
    {
     "data": {
      "text/plain": [
       "pandas.core.indexes.base.Index"
      ]
     },
     "execution_count": 20,
     "metadata": {},
     "output_type": "execute_result"
    }
   ],
   "source": [
    "type(names)"
   ]
  },
  {
   "cell_type": "code",
   "execution_count": 22,
   "metadata": {},
   "outputs": [],
   "source": [
    "#np.savetxt(\"C:\\matlab scripts\\Tabula_Muris_Aging_Piel_Raton\\genes_id.txt\",names,delimiter = \",\")\n",
    "pd.Series(names,index=names).to_csv(\"C:\\matlab scripts\\Tabula_Muris_Aging_Piel_Raton\\genes_id_skin.csv\", header=False, index=False)"
   ]
  },
  {
   "cell_type": "markdown",
   "metadata": {},
   "source": [
    "Ahora sacamos la matriz de conteos. "
   ]
  },
  {
   "cell_type": "code",
   "execution_count": null,
   "metadata": {},
   "outputs": [],
   "source": [
    "X = skin_facs.var[\"n_cells\"].toarray().astype(np.uint8)\n",
    "X.shape"
   ]
  },
  {
   "cell_type": "code",
   "execution_count": 23,
   "metadata": {},
   "outputs": [
    {
     "data": {
      "text/plain": [
       "{'n_cells': array([ 2639, 43014, 25249, ..., 18827, 16584, 21272], dtype=int64),\n",
       " 'means': array([6.4001128e-02, 1.0072623e+00, 3.9597169e-01, ..., 1.5586918e-03,\n",
       "        3.6520475e-01, 1.6489928e-05], dtype=float32),\n",
       " 'dispersions': array([2.9700527, 2.2391338, 1.8996348, ..., 2.0661294, 2.0698838,\n",
       "        0.0444914], dtype=float32),\n",
       " 'dispersions_norm': array([ 0.92446554, -0.4029399 , -0.5502703 , ...,  0.00385017,\n",
       "         0.00767388, -2.05512   ], dtype=float32),\n",
       " 'highly_variable': array([ True, False])}"
      ]
     },
     "execution_count": 23,
     "metadata": {},
     "output_type": "execute_result"
    }
   ],
   "source": [
    "columns_var = skin_facs.var.columns\n",
    "data_var = {}\n",
    "for variable in columns_var: \n",
    "  description = skin_facs.var[variable].unique()\n",
    "  data_var[variable]= description\n",
    "data_var"
   ]
  },
  {
   "cell_type": "code",
   "execution_count": null,
   "metadata": {},
   "outputs": [],
   "source": []
  }
 ],
 "metadata": {
  "kernelspec": {
   "display_name": "Python 3.9.13 ('env': venv)",
   "language": "python",
   "name": "python3"
  },
  "language_info": {
   "codemirror_mode": {
    "name": "ipython",
    "version": 3
   },
   "file_extension": ".py",
   "mimetype": "text/x-python",
   "name": "python",
   "nbconvert_exporter": "python",
   "pygments_lexer": "ipython3",
   "version": "3.9.13"
  },
  "orig_nbformat": 4,
  "vscode": {
   "interpreter": {
    "hash": "2b46b747b265df9863f4933b259673f008751f908d2a07ed72dcdf0e50f0c1d5"
   }
  }
 },
 "nbformat": 4,
 "nbformat_minor": 2
}
