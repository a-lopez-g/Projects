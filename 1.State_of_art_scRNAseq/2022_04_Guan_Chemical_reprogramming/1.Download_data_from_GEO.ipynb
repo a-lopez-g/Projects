{
 "cells": [
  {
   "cell_type": "code",
   "execution_count": 25,
   "metadata": {},
   "outputs": [],
   "source": [
    "import GEOparse\n",
    "# https://geoparse.readthedocs.io/en/latest/\n",
    "\n",
    "import pandas as pd\n",
    "from matplotlib import pylab as pl\n",
    "import seaborn as sns\n",
    "pl.rcParams['figure.figsize'] = (14, 10)\n",
    "pl.rcParams['ytick.labelsize'] = 12\n",
    "pl.rcParams['xtick.labelsize'] = 11\n",
    "pl.rcParams['axes.labelsize'] = 23\n",
    "pl.rcParams['legend.fontsize'] = 20\n",
    "sns.set_style('ticks')\n",
    "c1, c2, c3, c4 = sns.color_palette(\"Set1\", 4)"
   ]
  },
  {
   "cell_type": "markdown",
   "metadata": {},
   "source": [
    "### 1.Read data from GEO using GEOparse library"
   ]
  },
  {
   "cell_type": "markdown",
   "metadata": {},
   "source": [
    "We are going to use GEOparse library to access GEO data. We need to know access series ID to read it. "
   ]
  },
  {
   "cell_type": "code",
   "execution_count": 2,
   "metadata": {},
   "outputs": [
    {
     "name": "stderr",
     "output_type": "stream",
     "text": [
      "09-Apr-2024 13:26:28 DEBUG utils - Directory ./ already exists. Skipping.\n",
      "09-Apr-2024 13:26:28 INFO GEOparse - Downloading ftp://ftp.ncbi.nlm.nih.gov/geo/series/GSE188nnn/GSE188461/soft/GSE188461_family.soft.gz to ./GSE188461_family.soft.gz\n",
      "100%|██████████| 6.28k/6.28k [00:00<00:00, 11.2kB/s]\n",
      "09-Apr-2024 13:26:31 DEBUG downloader - Size validation passed\n",
      "09-Apr-2024 13:26:31 DEBUG downloader - Moving /tmp/tmp_a2smvqe to /home/alopez/3.Aging_and_chemical_reprogramming/2022_04_Guan_Chemical_reprogramming/GSE188461_family.soft.gz\n",
      "09-Apr-2024 13:26:31 DEBUG downloader - Successfully downloaded ftp://ftp.ncbi.nlm.nih.gov/geo/series/GSE188nnn/GSE188461/soft/GSE188461_family.soft.gz\n",
      "09-Apr-2024 13:26:31 INFO GEOparse - Parsing ./GSE188461_family.soft.gz: \n",
      "09-Apr-2024 13:26:31 DEBUG GEOparse - DATABASE: GeoMiame\n",
      "09-Apr-2024 13:26:31 DEBUG GEOparse - SERIES: GSE188461\n",
      "09-Apr-2024 13:26:31 DEBUG GEOparse - PLATFORM: GPL24676\n",
      "09-Apr-2024 13:26:31 DEBUG GEOparse - SAMPLE: GSM5387804\n",
      "09-Apr-2024 13:26:31 DEBUG GEOparse - SAMPLE: GSM5387805\n",
      "09-Apr-2024 13:26:31 DEBUG GEOparse - SAMPLE: GSM5387806\n",
      "09-Apr-2024 13:26:31 DEBUG GEOparse - SAMPLE: GSM5387807\n",
      "09-Apr-2024 13:26:31 DEBUG GEOparse - SAMPLE: GSM5387808\n",
      "09-Apr-2024 13:26:31 DEBUG GEOparse - SAMPLE: GSM5387809\n",
      "09-Apr-2024 13:26:31 DEBUG GEOparse - SAMPLE: GSM5387810\n",
      "09-Apr-2024 13:26:31 DEBUG GEOparse - SAMPLE: GSM5387811\n",
      "09-Apr-2024 13:26:31 DEBUG GEOparse - SAMPLE: GSM5387812\n",
      "09-Apr-2024 13:26:31 DEBUG GEOparse - SAMPLE: GSM5387813\n",
      "09-Apr-2024 13:26:31 DEBUG GEOparse - SAMPLE: GSM5387814\n",
      "09-Apr-2024 13:26:31 DEBUG GEOparse - SAMPLE: GSM5387815\n",
      "09-Apr-2024 13:26:31 DEBUG GEOparse - SAMPLE: GSM5387816\n",
      "09-Apr-2024 13:26:31 DEBUG GEOparse - SAMPLE: GSM5534140\n",
      "09-Apr-2024 13:26:31 DEBUG GEOparse - SAMPLE: GSM5534141\n",
      "09-Apr-2024 13:26:31 DEBUG GEOparse - SAMPLE: GSM5534142\n",
      "09-Apr-2024 13:26:31 DEBUG GEOparse - SAMPLE: GSM5534143\n",
      "09-Apr-2024 13:26:31 DEBUG GEOparse - SAMPLE: GSM5534144\n",
      "09-Apr-2024 13:26:31 DEBUG GEOparse - SAMPLE: GSM5534145\n",
      "09-Apr-2024 13:26:31 DEBUG GEOparse - SAMPLE: GSM5534146\n",
      "09-Apr-2024 13:26:31 DEBUG GEOparse - SAMPLE: GSM5534147\n",
      "09-Apr-2024 13:26:31 DEBUG GEOparse - SAMPLE: GSM5534148\n",
      "09-Apr-2024 13:26:31 DEBUG GEOparse - SAMPLE: GSM5534149\n",
      "09-Apr-2024 13:26:31 DEBUG GEOparse - SAMPLE: GSM5534150\n",
      "09-Apr-2024 13:26:31 DEBUG GEOparse - SAMPLE: GSM5534151\n",
      "09-Apr-2024 13:26:31 DEBUG GEOparse - SAMPLE: GSM5534152\n",
      "09-Apr-2024 13:26:31 DEBUG GEOparse - SAMPLE: GSM5534153\n",
      "09-Apr-2024 13:26:31 DEBUG GEOparse - SAMPLE: GSM5534154\n",
      "09-Apr-2024 13:26:31 DEBUG GEOparse - SAMPLE: GSM5534155\n",
      "09-Apr-2024 13:26:31 DEBUG GEOparse - SAMPLE: GSM5534156\n",
      "09-Apr-2024 13:26:31 DEBUG GEOparse - SAMPLE: GSM5534157\n",
      "09-Apr-2024 13:26:31 DEBUG GEOparse - SAMPLE: GSM5534158\n",
      "09-Apr-2024 13:26:31 DEBUG GEOparse - SAMPLE: GSM5683314\n",
      "09-Apr-2024 13:26:31 DEBUG GEOparse - SAMPLE: GSM5683315\n",
      "09-Apr-2024 13:26:31 DEBUG GEOparse - SAMPLE: GSM5683316\n",
      "09-Apr-2024 13:26:31 DEBUG GEOparse - SAMPLE: GSM5683317\n",
      "09-Apr-2024 13:26:31 DEBUG GEOparse - SAMPLE: GSM5683318\n",
      "09-Apr-2024 13:26:31 DEBUG GEOparse - SAMPLE: GSM5683319\n",
      "09-Apr-2024 13:26:31 DEBUG GEOparse - SAMPLE: GSM5683320\n"
     ]
    }
   ],
   "source": [
    "# Define the GEO access ID of the experiment you wish to read out\n",
    "geo_id = \"GSE188461\" \n",
    "\n",
    "# Read data from GEO\n",
    "geo_data = GEOparse.get_GEO(geo=geo_id)"
   ]
  },
  {
   "cell_type": "code",
   "execution_count": 3,
   "metadata": {},
   "outputs": [
    {
     "data": {
      "text/plain": [
       "<SERIES: GSE188461 - 39 SAMPLES, 1 d(s)>"
      ]
     },
     "execution_count": 3,
     "metadata": {},
     "output_type": "execute_result"
    }
   ],
   "source": [
    "geo_data"
   ]
  },
  {
   "cell_type": "markdown",
   "metadata": {},
   "source": [
    "This is a GSE (or a Series), an original submitter-supplied record that summarizes whole study including samples and platforms. GSE is assigned to unique and stable GEO accession number that starts at GSE followed by numbers eg. GSE188461.\n",
    "\n",
    "All GEO objects inherit from abstract base class GEOparse.BaseGEO. Two main attributes of that class are:\n",
    "\n",
    "* .name: series' ID\n",
    "* .metadata: dictionary of useful information about samples which occurs in the SOFT file with bang (!) in the beginning. Each value of this dictionary id a list (even with one element)\n",
    "\n",
    "https://geoparse.readthedocs.io/en/latest/GEOparse.html"
   ]
  },
  {
   "cell_type": "code",
   "execution_count": 8,
   "metadata": {},
   "outputs": [
    {
     "data": {
      "text/plain": [
       "'GSE188461'"
      ]
     },
     "execution_count": 8,
     "metadata": {},
     "output_type": "execute_result"
    }
   ],
   "source": [
    "geo_data.name"
   ]
  },
  {
   "cell_type": "code",
   "execution_count": 6,
   "metadata": {},
   "outputs": [
    {
     "data": {
      "text/plain": [
       "{'title': ['Chemical-based external stimulation reprograms human somatic cells into pluripotency'],\n",
       " 'geo_accession': ['GSE188461'],\n",
       " 'status': ['Public on Feb 09 2022'],\n",
       " 'submission_date': ['Nov 09 2021'],\n",
       " 'last_update_date': ['May 10 2022'],\n",
       " 'pubmed_id': ['35418683'],\n",
       " 'summary': ['This SuperSeries is composed of the SubSeries listed below.'],\n",
       " 'overall_design': ['Refer to individual Series'],\n",
       " 'type': ['Expression profiling by high throughput sequencing',\n",
       "  'Genome binding/occupancy profiling by high throughput sequencing'],\n",
       " 'sample_id': ['GSM5387804',\n",
       "  'GSM5387805',\n",
       "  'GSM5387806',\n",
       "  'GSM5387807',\n",
       "  'GSM5387808',\n",
       "  'GSM5387809',\n",
       "  'GSM5387810',\n",
       "  'GSM5387811',\n",
       "  'GSM5387812',\n",
       "  'GSM5387813',\n",
       "  'GSM5387814',\n",
       "  'GSM5387815',\n",
       "  'GSM5387816',\n",
       "  'GSM5534140',\n",
       "  'GSM5534141',\n",
       "  'GSM5534142',\n",
       "  'GSM5534143',\n",
       "  'GSM5534144',\n",
       "  'GSM5534145',\n",
       "  'GSM5534146',\n",
       "  'GSM5534147',\n",
       "  'GSM5534148',\n",
       "  'GSM5534149',\n",
       "  'GSM5534150',\n",
       "  'GSM5534151',\n",
       "  'GSM5534152',\n",
       "  'GSM5534153',\n",
       "  'GSM5534154',\n",
       "  'GSM5534155',\n",
       "  'GSM5534156',\n",
       "  'GSM5534157',\n",
       "  'GSM5534158',\n",
       "  'GSM5683314',\n",
       "  'GSM5683315',\n",
       "  'GSM5683316',\n",
       "  'GSM5683317',\n",
       "  'GSM5683318',\n",
       "  'GSM5683319',\n",
       "  'GSM5683320'],\n",
       " 'contact_name': ['Yulin,,Lyu'],\n",
       " 'contact_email': ['lvyulin@pku.edu.cn'],\n",
       " 'contact_department': ['School of Life Sciences'],\n",
       " 'contact_institute': ['Peking University'],\n",
       " 'contact_address': ['No.5 Yiheyuan Road Haidian District'],\n",
       " 'contact_city': ['Beijing'],\n",
       " 'contact_zip/postal_code': ['100871'],\n",
       " 'contact_country': ['China'],\n",
       " 'supplementary_file': ['ftp://ftp.ncbi.nlm.nih.gov/geo/series/GSE188nnn/GSE188461/suppl/GSE188461_RAW.tar'],\n",
       " 'platform_id': ['GPL24676'],\n",
       " 'platform_taxid': ['9606'],\n",
       " 'sample_taxid': ['9606'],\n",
       " 'relation': ['SuperSeries of: GSE178324',\n",
       "  'SuperSeries of: GSE178325',\n",
       "  'BioProject: https://www.ncbi.nlm.nih.gov/bioproject/PRJNA778967']}"
      ]
     },
     "execution_count": 6,
     "metadata": {},
     "output_type": "execute_result"
    }
   ],
   "source": [
    "geo_data.metadata"
   ]
  },
  {
   "cell_type": "markdown",
   "metadata": {},
   "source": [
    "#### 1.1 Samples and platforms"
   ]
  },
  {
   "cell_type": "markdown",
   "metadata": {},
   "source": [
    "In GEOparse Series is represented by GEOparse.GSE object that contains tree main attributes:\n",
    "* inherited from BaseGEO metadata\n",
    "* gsms – dict with all samples in this GSE as GSM objects\n",
    "* gpls – dict with all platforms in this GSE as GSM objects"
   ]
  },
  {
   "cell_type": "code",
   "execution_count": 13,
   "metadata": {},
   "outputs": [
    {
     "name": "stdout",
     "output_type": "stream",
     "text": [
      "Sample name: GSM5387804\n",
      "Sample data: Empty DataFrame\n",
      "Columns: []\n",
      "Index: []\n"
     ]
    }
   ],
   "source": [
    "# Access to sample ids\n",
    "# gsms -> dict de samples {series_ID: sample_obj}\n",
    "samples = geo_data.gsms\n",
    "\n",
    "# Sample iteration\n",
    "for gsm_name, gsm in samples.items():\n",
    "    print(\"Sample name:\", gsm_name)\n",
    "    print(\"Sample data:\", gsm.table)\n",
    "    break"
   ]
  },
  {
   "cell_type": "markdown",
   "metadata": {},
   "source": [
    "A GSM (or a Sample) contains information the conditions and preparation of a Sample. In the GEO database sample is assigned to unique and stable GEO accession number that is composed of ‘GSM’ followed by numbers eg. GSM906.\n",
    "\n",
    "In GEOparse Sample is represented by GEOparse.GSM object that contains tree main attributes:\n",
    "* inherited from BaseGEO metadata\n",
    "* table – pandas.DataFrame with the data table from SOFT file\n",
    "* columns – pandas.DataFrame that contains description column with the information about columns in the table"
   ]
  },
  {
   "cell_type": "code",
   "execution_count": 19,
   "metadata": {},
   "outputs": [
    {
     "data": {
      "text/plain": [
       "{'title': ['scATAC-Seq fibroblast'],\n",
       " 'geo_accession': ['GSM5387804'],\n",
       " 'status': ['Public on Feb 08 2022'],\n",
       " 'submission_date': ['Jun 16 2021'],\n",
       " 'last_update_date': ['Feb 08 2022'],\n",
       " 'type': ['SRA'],\n",
       " 'channel_count': ['1'],\n",
       " 'source_name_ch1': ['human embryonic fibroblasts'],\n",
       " 'organism_ch1': ['Homo sapiens'],\n",
       " 'taxid_ch1': ['9606'],\n",
       " 'characteristics_ch1': ['cell line: 0330'],\n",
       " 'treatment_protocol_ch1': ['Human somatic cells were treated with different small molecule combinations during human chemical reprogramming.'],\n",
       " 'growth_protocol_ch1': ['Human embryonic fibroblasts (HEFs) were cultured in high glucose DMEM supplemented with 15% Fetal Bovine Serum (FBS), 1% GlutaMAX™, 1% MEM Non-Essential Amino Acids Solution (NEAA), 1% Penicillin-Streptomycin and 0.055 mM 2-mercaptoethanol under 21% O2, 5% CO2 at 37 ℃.'],\n",
       " 'molecule_ch1': ['genomic DNA'],\n",
       " 'extract_protocol_ch1': ['The nuclei were isolated and washed according to the method supplied by 10X Gemomis: Nuclei Isolation for Single Cell ATAC Sequencing (CG000169). Then the nucleus were resuspend by chilled Diluted Nuclei Buffer (10xGenomics; 2000153). The volume of Diluted Nuclei Buffer used to resuspend nuclei was based on the number of starting cells and the final target nuclei concentration. Countstar (Rigel S2) was used to count the nuclei. The nuclei were then immediately proceed to single cell ATAC-seq libraries.',\n",
       "  'Following the 10x Genomics single cell ATAC solution, by using Chromium Chip E Single Cell Kit(Product Code 1000156 ) and Chromium Single Cell ATAC Library & Gel Bead Kit (Product Code 1000110), the nucleus in bulk sample are partitioned into nanoliter-scale Gel Beads-inemulsion (GEMs), a pool of ~750,000 10x Barcodes is sampled to separately and uniquely index the transposed DNA of each individual nucleus, and libraries are generated (performed by CapitalBio Technology, Beijing). The libraries was sequenced using an Illumina Novaseq sequencer with a sequencing depth of at least 25k read pairs per nucleus with pair-end 50 bp (PE50) reading strategy (performed by CapitalBio Technology, Beijing).',\n",
       "  'single cell ATAC-seq'],\n",
       " 'description': ['fibroblast'],\n",
       " 'data_processing': ['The single-cell ATAC-seq reads were mapped to human reference genome hg19 using Cell Ranger ATAC v1.2.0.',\n",
       "  'Genome_build: hg19',\n",
       "  'Supplementary_files_format_and_content: gzipped .tsv files of cellrangerATAC output containing fragment data of each cell and their .tbi index file.'],\n",
       " 'platform_id': ['GPL24676'],\n",
       " 'contact_name': ['Yulin,,Lyu'],\n",
       " 'contact_email': ['lvyulin@pku.edu.cn'],\n",
       " 'contact_department': ['School of Life Sciences'],\n",
       " 'contact_institute': ['Peking University'],\n",
       " 'contact_address': ['No.5 Yiheyuan Road Haidian District'],\n",
       " 'contact_city': ['Beijing'],\n",
       " 'contact_zip/postal_code': ['100871'],\n",
       " 'contact_country': ['China'],\n",
       " 'instrument_model': ['Illumina NovaSeq 6000'],\n",
       " 'library_selection': ['other'],\n",
       " 'library_source': ['genomic'],\n",
       " 'library_strategy': ['ATAC-seq'],\n",
       " 'relation': ['BioSample: https://www.ncbi.nlm.nih.gov/biosample/SAMN19730647',\n",
       "  'SRA: https://www.ncbi.nlm.nih.gov/sra?term=SRX11167219'],\n",
       " 'supplementary_file_1': ['ftp://ftp.ncbi.nlm.nih.gov/geo/samples/GSM5387nnn/GSM5387804/suppl/GSM5387804_fibroblast_fragments.tsv.gz'],\n",
       " 'supplementary_file_2': ['ftp://ftp.ncbi.nlm.nih.gov/geo/samples/GSM5387nnn/GSM5387804/suppl/GSM5387804_fibroblast_fragments.tsv.gz.tbi.gz'],\n",
       " 'series_id': ['GSE178324', 'GSE188461'],\n",
       " 'data_row_count': ['0']}"
      ]
     },
     "execution_count": 19,
     "metadata": {},
     "output_type": "execute_result"
    }
   ],
   "source": [
    "gsm.metadata"
   ]
  },
  {
   "cell_type": "markdown",
   "metadata": {},
   "source": [
    "#### 1.2 Example: Analyse samples"
   ]
  },
  {
   "cell_type": "markdown",
   "metadata": {},
   "source": [
    "We are going to analyse:\n",
    "*\tscRNA-Seq HEFs-0330: human embryonic fibroblasts -> GSM5387808\n",
    "* \thCiPSCs-1117: human chemically induced pluripotent stem cells from human embryonic fibroblasts -> GSM5534156"
   ]
  },
  {
   "cell_type": "code",
   "execution_count": 32,
   "metadata": {},
   "outputs": [
    {
     "name": "stderr",
     "output_type": "stream",
     "text": [
      "09-Apr-2024 15:05:52 DEBUG utils - Directory ./ already exists. Skipping.\n",
      "09-Apr-2024 15:05:52 INFO GEOparse - File already exist: using local version.\n",
      "09-Apr-2024 15:05:52 INFO GEOparse - Parsing ./GSE188461_family.soft.gz: \n",
      "09-Apr-2024 15:05:52 DEBUG GEOparse - DATABASE: GeoMiame\n",
      "09-Apr-2024 15:05:52 DEBUG GEOparse - SERIES: GSE188461\n",
      "09-Apr-2024 15:05:52 DEBUG GEOparse - PLATFORM: GPL24676\n",
      "09-Apr-2024 15:05:52 DEBUG GEOparse - SAMPLE: GSM5387804\n",
      "09-Apr-2024 15:05:52 DEBUG GEOparse - SAMPLE: GSM5387805\n",
      "09-Apr-2024 15:05:52 DEBUG GEOparse - SAMPLE: GSM5387806\n",
      "09-Apr-2024 15:05:52 DEBUG GEOparse - SAMPLE: GSM5387807\n",
      "09-Apr-2024 15:05:52 DEBUG GEOparse - SAMPLE: GSM5387808\n",
      "09-Apr-2024 15:05:52 DEBUG GEOparse - SAMPLE: GSM5387809\n",
      "09-Apr-2024 15:05:52 DEBUG GEOparse - SAMPLE: GSM5387810\n",
      "09-Apr-2024 15:05:52 DEBUG GEOparse - SAMPLE: GSM5387811\n",
      "09-Apr-2024 15:05:52 DEBUG GEOparse - SAMPLE: GSM5387812\n",
      "09-Apr-2024 15:05:52 DEBUG GEOparse - SAMPLE: GSM5387813\n",
      "09-Apr-2024 15:05:52 DEBUG GEOparse - SAMPLE: GSM5387814\n",
      "09-Apr-2024 15:05:52 DEBUG GEOparse - SAMPLE: GSM5387815\n",
      "09-Apr-2024 15:05:52 DEBUG GEOparse - SAMPLE: GSM5387816\n",
      "09-Apr-2024 15:05:52 DEBUG GEOparse - SAMPLE: GSM5534140\n",
      "09-Apr-2024 15:05:52 DEBUG GEOparse - SAMPLE: GSM5534141\n",
      "09-Apr-2024 15:05:52 DEBUG GEOparse - SAMPLE: GSM5534142\n",
      "09-Apr-2024 15:05:52 DEBUG GEOparse - SAMPLE: GSM5534143\n",
      "09-Apr-2024 15:05:52 DEBUG GEOparse - SAMPLE: GSM5534144\n",
      "09-Apr-2024 15:05:52 DEBUG GEOparse - SAMPLE: GSM5534145\n",
      "09-Apr-2024 15:05:52 DEBUG GEOparse - SAMPLE: GSM5534146\n",
      "09-Apr-2024 15:05:52 DEBUG GEOparse - SAMPLE: GSM5534147\n",
      "09-Apr-2024 15:05:52 DEBUG GEOparse - SAMPLE: GSM5534148\n",
      "09-Apr-2024 15:05:52 DEBUG GEOparse - SAMPLE: GSM5534149\n",
      "09-Apr-2024 15:05:52 DEBUG GEOparse - SAMPLE: GSM5534150\n",
      "09-Apr-2024 15:05:52 DEBUG GEOparse - SAMPLE: GSM5534151\n",
      "09-Apr-2024 15:05:52 DEBUG GEOparse - SAMPLE: GSM5534152\n",
      "09-Apr-2024 15:05:52 DEBUG GEOparse - SAMPLE: GSM5534153\n",
      "09-Apr-2024 15:05:52 DEBUG GEOparse - SAMPLE: GSM5534154\n",
      "09-Apr-2024 15:05:52 DEBUG GEOparse - SAMPLE: GSM5534155\n",
      "09-Apr-2024 15:05:52 DEBUG GEOparse - SAMPLE: GSM5534156\n",
      "09-Apr-2024 15:05:52 DEBUG GEOparse - SAMPLE: GSM5534157\n",
      "09-Apr-2024 15:05:52 DEBUG GEOparse - SAMPLE: GSM5534158\n",
      "09-Apr-2024 15:05:52 DEBUG GEOparse - SAMPLE: GSM5683314\n",
      "09-Apr-2024 15:05:52 DEBUG GEOparse - SAMPLE: GSM5683315\n",
      "09-Apr-2024 15:05:52 DEBUG GEOparse - SAMPLE: GSM5683316\n",
      "09-Apr-2024 15:05:52 DEBUG GEOparse - SAMPLE: GSM5683317\n",
      "09-Apr-2024 15:05:52 DEBUG GEOparse - SAMPLE: GSM5683318\n",
      "09-Apr-2024 15:05:52 DEBUG GEOparse - SAMPLE: GSM5683319\n",
      "09-Apr-2024 15:05:52 DEBUG GEOparse - SAMPLE: GSM5683320\n"
     ]
    }
   ],
   "source": [
    "# Read data from GEO\n",
    "geo_id = \"GSE188461\" \n",
    "geo_data = GEOparse.get_GEO(geo=geo_id)"
   ]
  },
  {
   "cell_type": "code",
   "execution_count": 27,
   "metadata": {},
   "outputs": [
    {
     "data": {
      "text/html": [
       "<div>\n",
       "<style scoped>\n",
       "    .dataframe tbody tr th:only-of-type {\n",
       "        vertical-align: middle;\n",
       "    }\n",
       "\n",
       "    .dataframe tbody tr th {\n",
       "        vertical-align: top;\n",
       "    }\n",
       "\n",
       "    .dataframe thead th {\n",
       "        text-align: right;\n",
       "    }\n",
       "</style>\n",
       "<table border=\"1\" class=\"dataframe\">\n",
       "  <thead>\n",
       "    <tr style=\"text-align: right;\">\n",
       "      <th></th>\n",
       "      <th>description</th>\n",
       "    </tr>\n",
       "  </thead>\n",
       "  <tbody>\n",
       "  </tbody>\n",
       "</table>\n",
       "</div>"
      ],
      "text/plain": [
       "Empty DataFrame\n",
       "Columns: [description]\n",
       "Index: []"
      ]
     },
     "execution_count": 27,
     "metadata": {},
     "output_type": "execute_result"
    }
   ],
   "source": [
    "# Platform\n",
    "geo_data.gpls['GPL24676'].columns"
   ]
  },
  {
   "cell_type": "code",
   "execution_count": 37,
   "metadata": {},
   "outputs": [],
   "source": [
    "samples = geo_data.gsms"
   ]
  },
  {
   "cell_type": "code",
   "execution_count": 42,
   "metadata": {},
   "outputs": [
    {
     "ename": "AttributeError",
     "evalue": "'GSM' object has no attribute 'database'",
     "output_type": "error",
     "traceback": [
      "\u001b[0;31m---------------------------------------------------------------------------\u001b[0m",
      "\u001b[0;31mAttributeError\u001b[0m                            Traceback (most recent call last)",
      "\u001b[0;32m<ipython-input-42-fcf58568bba3>\u001b[0m in \u001b[0;36m<module>\u001b[0;34m\u001b[0m\n\u001b[0;32m----> 1\u001b[0;31m \u001b[0msamples\u001b[0m\u001b[0;34m[\u001b[0m\u001b[0;34m\"GSM5534156\"\u001b[0m\u001b[0;34m]\u001b[0m\u001b[0;34m.\u001b[0m\u001b[0mdatabase\u001b[0m\u001b[0;34m\u001b[0m\u001b[0;34m\u001b[0m\u001b[0m\n\u001b[0m",
      "\u001b[0;31mAttributeError\u001b[0m: 'GSM' object has no attribute 'database'"
     ]
    }
   ],
   "source": [
    "samples[\"GSM5534156\"].database"
   ]
  },
  {
   "cell_type": "code",
   "execution_count": 36,
   "metadata": {},
   "outputs": [
    {
     "ename": "AttributeError",
     "evalue": "'GSM' object has no attribute 'gses'",
     "output_type": "error",
     "traceback": [
      "\u001b[0;31m---------------------------------------------------------------------------\u001b[0m",
      "\u001b[0;31mAttributeError\u001b[0m                            Traceback (most recent call last)",
      "\u001b[0;32m<ipython-input-36-182150d85b99>\u001b[0m in \u001b[0;36m<module>\u001b[0;34m\u001b[0m\n\u001b[1;32m      1\u001b[0m \u001b[0;31m# Samples data\u001b[0m\u001b[0;34m\u001b[0m\u001b[0;34m\u001b[0m\u001b[0;34m\u001b[0m\u001b[0m\n\u001b[0;32m----> 2\u001b[0;31m \u001b[0mgeo_data\u001b[0m\u001b[0;34m.\u001b[0m\u001b[0mgsms\u001b[0m\u001b[0;34m[\u001b[0m\u001b[0;34m\"GSM5534156\"\u001b[0m\u001b[0;34m]\u001b[0m\u001b[0;34m.\u001b[0m\u001b[0mgses\u001b[0m\u001b[0;34m\u001b[0m\u001b[0;34m\u001b[0m\u001b[0m\n\u001b[0m",
      "\u001b[0;31mAttributeError\u001b[0m: 'GSM' object has no attribute 'gses'"
     ]
    }
   ],
   "source": [
    "# Samples data\n",
    "geo_data.gsms[\"GSM5534156\"].gses"
   ]
  },
  {
   "cell_type": "code",
   "execution_count": 35,
   "metadata": {},
   "outputs": [
    {
     "name": "stdout",
     "output_type": "stream",
     "text": [
      "Sample name: GSM5387804\n",
      "Sample data: Empty DataFrame\n",
      "Columns: []\n",
      "Index: []\n",
      "Sample name: GSM5387805\n",
      "Sample data: Empty DataFrame\n",
      "Columns: []\n",
      "Index: []\n",
      "Sample name: GSM5387806\n",
      "Sample data: Empty DataFrame\n",
      "Columns: []\n",
      "Index: []\n",
      "Sample name: GSM5387807\n",
      "Sample data: Empty DataFrame\n",
      "Columns: []\n",
      "Index: []\n",
      "Sample name: GSM5387808\n",
      "Sample data: Empty DataFrame\n",
      "Columns: []\n",
      "Index: []\n",
      "Sample name: GSM5387809\n",
      "Sample data: Empty DataFrame\n",
      "Columns: []\n",
      "Index: []\n",
      "Sample name: GSM5387810\n",
      "Sample data: Empty DataFrame\n",
      "Columns: []\n",
      "Index: []\n",
      "Sample name: GSM5387811\n",
      "Sample data: Empty DataFrame\n",
      "Columns: []\n",
      "Index: []\n",
      "Sample name: GSM5387812\n",
      "Sample data: Empty DataFrame\n",
      "Columns: []\n",
      "Index: []\n",
      "Sample name: GSM5387813\n",
      "Sample data: Empty DataFrame\n",
      "Columns: []\n",
      "Index: []\n",
      "Sample name: GSM5387814\n",
      "Sample data: Empty DataFrame\n",
      "Columns: []\n",
      "Index: []\n",
      "Sample name: GSM5387815\n",
      "Sample data: Empty DataFrame\n",
      "Columns: []\n",
      "Index: []\n",
      "Sample name: GSM5387816\n",
      "Sample data: Empty DataFrame\n",
      "Columns: []\n",
      "Index: []\n",
      "Sample name: GSM5534140\n",
      "Sample data: Empty DataFrame\n",
      "Columns: []\n",
      "Index: []\n",
      "Sample name: GSM5534141\n",
      "Sample data: Empty DataFrame\n",
      "Columns: []\n",
      "Index: []\n",
      "Sample name: GSM5534142\n",
      "Sample data: Empty DataFrame\n",
      "Columns: []\n",
      "Index: []\n",
      "Sample name: GSM5534143\n",
      "Sample data: Empty DataFrame\n",
      "Columns: []\n",
      "Index: []\n",
      "Sample name: GSM5534144\n",
      "Sample data: Empty DataFrame\n",
      "Columns: []\n",
      "Index: []\n",
      "Sample name: GSM5534145\n",
      "Sample data: Empty DataFrame\n",
      "Columns: []\n",
      "Index: []\n",
      "Sample name: GSM5534146\n",
      "Sample data: Empty DataFrame\n",
      "Columns: []\n",
      "Index: []\n",
      "Sample name: GSM5534147\n",
      "Sample data: Empty DataFrame\n",
      "Columns: []\n",
      "Index: []\n",
      "Sample name: GSM5534148\n",
      "Sample data: Empty DataFrame\n",
      "Columns: []\n",
      "Index: []\n",
      "Sample name: GSM5534149\n",
      "Sample data: Empty DataFrame\n",
      "Columns: []\n",
      "Index: []\n",
      "Sample name: GSM5534150\n",
      "Sample data: Empty DataFrame\n",
      "Columns: []\n",
      "Index: []\n",
      "Sample name: GSM5534151\n",
      "Sample data: Empty DataFrame\n",
      "Columns: []\n",
      "Index: []\n",
      "Sample name: GSM5534152\n",
      "Sample data: Empty DataFrame\n",
      "Columns: []\n",
      "Index: []\n",
      "Sample name: GSM5534153\n",
      "Sample data: Empty DataFrame\n",
      "Columns: []\n",
      "Index: []\n",
      "Sample name: GSM5534154\n",
      "Sample data: Empty DataFrame\n",
      "Columns: []\n",
      "Index: []\n",
      "Sample name: GSM5534155\n",
      "Sample data: Empty DataFrame\n",
      "Columns: []\n",
      "Index: []\n",
      "Sample name: GSM5534156\n",
      "Sample data: Empty DataFrame\n",
      "Columns: []\n",
      "Index: []\n",
      "Sample name: GSM5534157\n",
      "Sample data: Empty DataFrame\n",
      "Columns: []\n",
      "Index: []\n",
      "Sample name: GSM5534158\n",
      "Sample data: Empty DataFrame\n",
      "Columns: []\n",
      "Index: []\n",
      "Sample name: GSM5683314\n",
      "Sample data: Empty DataFrame\n",
      "Columns: []\n",
      "Index: []\n",
      "Sample name: GSM5683315\n",
      "Sample data: Empty DataFrame\n",
      "Columns: []\n",
      "Index: []\n",
      "Sample name: GSM5683316\n",
      "Sample data: Empty DataFrame\n",
      "Columns: []\n",
      "Index: []\n",
      "Sample name: GSM5683317\n",
      "Sample data: Empty DataFrame\n",
      "Columns: []\n",
      "Index: []\n",
      "Sample name: GSM5683318\n",
      "Sample data: Empty DataFrame\n",
      "Columns: []\n",
      "Index: []\n",
      "Sample name: GSM5683319\n",
      "Sample data: Empty DataFrame\n",
      "Columns: []\n",
      "Index: []\n",
      "Sample name: GSM5683320\n",
      "Sample data: Empty DataFrame\n",
      "Columns: []\n",
      "Index: []\n"
     ]
    }
   ],
   "source": [
    "samples = geo_data.gsms\n",
    "\n",
    "# Sample iteration\n",
    "for gsm_name, gsm in samples.items():\n",
    "    print(\"Sample name:\", gsm_name)\n",
    "    print(\"Sample data:\", gsm.table)"
   ]
  },
  {
   "cell_type": "code",
   "execution_count": 33,
   "metadata": {},
   "outputs": [
    {
     "ename": "KeyError",
     "evalue": "'ID_REF'",
     "output_type": "error",
     "traceback": [
      "\u001b[0;31m---------------------------------------------------------------------------\u001b[0m",
      "\u001b[0;31mKeyError\u001b[0m                                  Traceback (most recent call last)",
      "\u001b[0;32m~/3.Aging_and_chemical_reprogramming/.venv/lib64/python3.6/site-packages/pandas/core/indexes/base.py\u001b[0m in \u001b[0;36mget_loc\u001b[0;34m(self, key, method, tolerance)\u001b[0m\n\u001b[1;32m   2897\u001b[0m             \u001b[0;32mtry\u001b[0m\u001b[0;34m:\u001b[0m\u001b[0;34m\u001b[0m\u001b[0;34m\u001b[0m\u001b[0m\n\u001b[0;32m-> 2898\u001b[0;31m                 \u001b[0;32mreturn\u001b[0m \u001b[0mself\u001b[0m\u001b[0;34m.\u001b[0m\u001b[0m_engine\u001b[0m\u001b[0;34m.\u001b[0m\u001b[0mget_loc\u001b[0m\u001b[0;34m(\u001b[0m\u001b[0mcasted_key\u001b[0m\u001b[0;34m)\u001b[0m\u001b[0;34m\u001b[0m\u001b[0;34m\u001b[0m\u001b[0m\n\u001b[0m\u001b[1;32m   2899\u001b[0m             \u001b[0;32mexcept\u001b[0m \u001b[0mKeyError\u001b[0m \u001b[0;32mas\u001b[0m \u001b[0merr\u001b[0m\u001b[0;34m:\u001b[0m\u001b[0;34m\u001b[0m\u001b[0;34m\u001b[0m\u001b[0m\n",
      "\u001b[0;32mpandas/_libs/index.pyx\u001b[0m in \u001b[0;36mpandas._libs.index.IndexEngine.get_loc\u001b[0;34m()\u001b[0m\n",
      "\u001b[0;32mpandas/_libs/index.pyx\u001b[0m in \u001b[0;36mpandas._libs.index.IndexEngine.get_loc\u001b[0;34m()\u001b[0m\n",
      "\u001b[0;32mpandas/_libs/hashtable_class_helper.pxi\u001b[0m in \u001b[0;36mpandas._libs.hashtable.PyObjectHashTable.get_item\u001b[0;34m()\u001b[0m\n",
      "\u001b[0;32mpandas/_libs/hashtable_class_helper.pxi\u001b[0m in \u001b[0;36mpandas._libs.hashtable.PyObjectHashTable.get_item\u001b[0;34m()\u001b[0m\n",
      "\u001b[0;31mKeyError\u001b[0m: 'ID_REF'",
      "\nThe above exception was the direct cause of the following exception:\n",
      "\u001b[0;31mKeyError\u001b[0m                                  Traceback (most recent call last)",
      "\u001b[0;32m<ipython-input-33-24ec0bc044bd>\u001b[0m in \u001b[0;36m<module>\u001b[0;34m\u001b[0m\n\u001b[0;32m----> 1\u001b[0;31m \u001b[0mpivoted_control_samples\u001b[0m \u001b[0;34m=\u001b[0m \u001b[0mgeo_data\u001b[0m\u001b[0;34m.\u001b[0m\u001b[0mpivot_samples\u001b[0m\u001b[0;34m(\u001b[0m\u001b[0;34m'VALUE'\u001b[0m\u001b[0;34m)\u001b[0m\u001b[0;34m[\u001b[0m\u001b[0mcontrols\u001b[0m\u001b[0;34m]\u001b[0m\u001b[0;34m\u001b[0m\u001b[0;34m\u001b[0m\u001b[0m\n\u001b[0m\u001b[1;32m      2\u001b[0m \u001b[0mpivoted_control_samples\u001b[0m\u001b[0;34m.\u001b[0m\u001b[0mhead\u001b[0m\u001b[0;34m(\u001b[0m\u001b[0;34m)\u001b[0m\u001b[0;34m\u001b[0m\u001b[0;34m\u001b[0m\u001b[0m\n",
      "\u001b[0;32m~/3.Aging_and_chemical_reprogramming/.venv/lib64/python3.6/site-packages/GEOparse/GEOTypes.py\u001b[0m in \u001b[0;36mpivot_samples\u001b[0;34m(self, values, index)\u001b[0m\n\u001b[1;32m    850\u001b[0m             \u001b[0mtmp_data\u001b[0m\u001b[0;34m[\u001b[0m\u001b[0;34m\"name\"\u001b[0m\u001b[0;34m]\u001b[0m \u001b[0;34m=\u001b[0m \u001b[0mgsm\u001b[0m\u001b[0;34m.\u001b[0m\u001b[0mname\u001b[0m\u001b[0;34m\u001b[0m\u001b[0;34m\u001b[0m\u001b[0m\n\u001b[1;32m    851\u001b[0m             \u001b[0mdata\u001b[0m\u001b[0;34m.\u001b[0m\u001b[0mappend\u001b[0m\u001b[0;34m(\u001b[0m\u001b[0mtmp_data\u001b[0m\u001b[0;34m)\u001b[0m\u001b[0;34m\u001b[0m\u001b[0;34m\u001b[0m\u001b[0m\n\u001b[0;32m--> 852\u001b[0;31m         \u001b[0mndf\u001b[0m \u001b[0;34m=\u001b[0m \u001b[0mconcat\u001b[0m\u001b[0;34m(\u001b[0m\u001b[0mdata\u001b[0m\u001b[0;34m)\u001b[0m\u001b[0;34m.\u001b[0m\u001b[0mpivot\u001b[0m\u001b[0;34m(\u001b[0m\u001b[0mindex\u001b[0m\u001b[0;34m=\u001b[0m\u001b[0mindex\u001b[0m\u001b[0;34m,\u001b[0m \u001b[0mvalues\u001b[0m\u001b[0;34m=\u001b[0m\u001b[0mvalues\u001b[0m\u001b[0;34m,\u001b[0m \u001b[0mcolumns\u001b[0m\u001b[0;34m=\u001b[0m\u001b[0;34m\"name\"\u001b[0m\u001b[0;34m)\u001b[0m\u001b[0;34m\u001b[0m\u001b[0;34m\u001b[0m\u001b[0m\n\u001b[0m\u001b[1;32m    853\u001b[0m         \u001b[0;32mreturn\u001b[0m \u001b[0mndf\u001b[0m\u001b[0;34m\u001b[0m\u001b[0;34m\u001b[0m\u001b[0m\n\u001b[1;32m    854\u001b[0m \u001b[0;34m\u001b[0m\u001b[0m\n",
      "\u001b[0;32m~/3.Aging_and_chemical_reprogramming/.venv/lib64/python3.6/site-packages/pandas/core/frame.py\u001b[0m in \u001b[0;36mpivot\u001b[0;34m(self, index, columns, values)\u001b[0m\n\u001b[1;32m   6676\u001b[0m         \u001b[0;32mfrom\u001b[0m \u001b[0mpandas\u001b[0m\u001b[0;34m.\u001b[0m\u001b[0mcore\u001b[0m\u001b[0;34m.\u001b[0m\u001b[0mreshape\u001b[0m\u001b[0;34m.\u001b[0m\u001b[0mpivot\u001b[0m \u001b[0;32mimport\u001b[0m \u001b[0mpivot\u001b[0m\u001b[0;34m\u001b[0m\u001b[0;34m\u001b[0m\u001b[0m\n\u001b[1;32m   6677\u001b[0m \u001b[0;34m\u001b[0m\u001b[0m\n\u001b[0;32m-> 6678\u001b[0;31m         \u001b[0;32mreturn\u001b[0m \u001b[0mpivot\u001b[0m\u001b[0;34m(\u001b[0m\u001b[0mself\u001b[0m\u001b[0;34m,\u001b[0m \u001b[0mindex\u001b[0m\u001b[0;34m=\u001b[0m\u001b[0mindex\u001b[0m\u001b[0;34m,\u001b[0m \u001b[0mcolumns\u001b[0m\u001b[0;34m=\u001b[0m\u001b[0mcolumns\u001b[0m\u001b[0;34m,\u001b[0m \u001b[0mvalues\u001b[0m\u001b[0;34m=\u001b[0m\u001b[0mvalues\u001b[0m\u001b[0;34m)\u001b[0m\u001b[0;34m\u001b[0m\u001b[0;34m\u001b[0m\u001b[0m\n\u001b[0m\u001b[1;32m   6679\u001b[0m \u001b[0;34m\u001b[0m\u001b[0m\n\u001b[1;32m   6680\u001b[0m     _shared_docs[\n",
      "\u001b[0;32m~/3.Aging_and_chemical_reprogramming/.venv/lib64/python3.6/site-packages/pandas/core/reshape/pivot.py\u001b[0m in \u001b[0;36mpivot\u001b[0;34m(data, index, columns, values)\u001b[0m\n\u001b[1;32m    461\u001b[0m         \u001b[0;32melse\u001b[0m\u001b[0;34m:\u001b[0m\u001b[0;34m\u001b[0m\u001b[0;34m\u001b[0m\u001b[0m\n\u001b[1;32m    462\u001b[0m             \u001b[0mindex\u001b[0m \u001b[0;34m=\u001b[0m \u001b[0mcom\u001b[0m\u001b[0;34m.\u001b[0m\u001b[0mconvert_to_list_like\u001b[0m\u001b[0;34m(\u001b[0m\u001b[0mindex\u001b[0m\u001b[0;34m)\u001b[0m\u001b[0;34m\u001b[0m\u001b[0;34m\u001b[0m\u001b[0m\n\u001b[0;32m--> 463\u001b[0;31m             \u001b[0mindex\u001b[0m \u001b[0;34m=\u001b[0m \u001b[0;34m[\u001b[0m\u001b[0mdata\u001b[0m\u001b[0;34m[\u001b[0m\u001b[0midx\u001b[0m\u001b[0;34m]\u001b[0m \u001b[0;32mfor\u001b[0m \u001b[0midx\u001b[0m \u001b[0;32min\u001b[0m \u001b[0mindex\u001b[0m\u001b[0;34m]\u001b[0m\u001b[0;34m\u001b[0m\u001b[0;34m\u001b[0m\u001b[0m\n\u001b[0m\u001b[1;32m    464\u001b[0m \u001b[0;34m\u001b[0m\u001b[0m\n\u001b[1;32m    465\u001b[0m         \u001b[0mdata_columns\u001b[0m \u001b[0;34m=\u001b[0m \u001b[0;34m[\u001b[0m\u001b[0mdata\u001b[0m\u001b[0;34m[\u001b[0m\u001b[0mcol\u001b[0m\u001b[0;34m]\u001b[0m \u001b[0;32mfor\u001b[0m \u001b[0mcol\u001b[0m \u001b[0;32min\u001b[0m \u001b[0mcolumns\u001b[0m\u001b[0;34m]\u001b[0m\u001b[0;34m\u001b[0m\u001b[0;34m\u001b[0m\u001b[0m\n",
      "\u001b[0;32m~/3.Aging_and_chemical_reprogramming/.venv/lib64/python3.6/site-packages/pandas/core/reshape/pivot.py\u001b[0m in \u001b[0;36m<listcomp>\u001b[0;34m(.0)\u001b[0m\n\u001b[1;32m    461\u001b[0m         \u001b[0;32melse\u001b[0m\u001b[0;34m:\u001b[0m\u001b[0;34m\u001b[0m\u001b[0;34m\u001b[0m\u001b[0m\n\u001b[1;32m    462\u001b[0m             \u001b[0mindex\u001b[0m \u001b[0;34m=\u001b[0m \u001b[0mcom\u001b[0m\u001b[0;34m.\u001b[0m\u001b[0mconvert_to_list_like\u001b[0m\u001b[0;34m(\u001b[0m\u001b[0mindex\u001b[0m\u001b[0;34m)\u001b[0m\u001b[0;34m\u001b[0m\u001b[0;34m\u001b[0m\u001b[0m\n\u001b[0;32m--> 463\u001b[0;31m             \u001b[0mindex\u001b[0m \u001b[0;34m=\u001b[0m \u001b[0;34m[\u001b[0m\u001b[0mdata\u001b[0m\u001b[0;34m[\u001b[0m\u001b[0midx\u001b[0m\u001b[0;34m]\u001b[0m \u001b[0;32mfor\u001b[0m \u001b[0midx\u001b[0m \u001b[0;32min\u001b[0m \u001b[0mindex\u001b[0m\u001b[0;34m]\u001b[0m\u001b[0;34m\u001b[0m\u001b[0;34m\u001b[0m\u001b[0m\n\u001b[0m\u001b[1;32m    464\u001b[0m \u001b[0;34m\u001b[0m\u001b[0m\n\u001b[1;32m    465\u001b[0m         \u001b[0mdata_columns\u001b[0m \u001b[0;34m=\u001b[0m \u001b[0;34m[\u001b[0m\u001b[0mdata\u001b[0m\u001b[0;34m[\u001b[0m\u001b[0mcol\u001b[0m\u001b[0;34m]\u001b[0m \u001b[0;32mfor\u001b[0m \u001b[0mcol\u001b[0m \u001b[0;32min\u001b[0m \u001b[0mcolumns\u001b[0m\u001b[0;34m]\u001b[0m\u001b[0;34m\u001b[0m\u001b[0;34m\u001b[0m\u001b[0m\n",
      "\u001b[0;32m~/3.Aging_and_chemical_reprogramming/.venv/lib64/python3.6/site-packages/pandas/core/frame.py\u001b[0m in \u001b[0;36m__getitem__\u001b[0;34m(self, key)\u001b[0m\n\u001b[1;32m   2904\u001b[0m             \u001b[0;32mif\u001b[0m \u001b[0mself\u001b[0m\u001b[0;34m.\u001b[0m\u001b[0mcolumns\u001b[0m\u001b[0;34m.\u001b[0m\u001b[0mnlevels\u001b[0m \u001b[0;34m>\u001b[0m \u001b[0;36m1\u001b[0m\u001b[0;34m:\u001b[0m\u001b[0;34m\u001b[0m\u001b[0;34m\u001b[0m\u001b[0m\n\u001b[1;32m   2905\u001b[0m                 \u001b[0;32mreturn\u001b[0m \u001b[0mself\u001b[0m\u001b[0;34m.\u001b[0m\u001b[0m_getitem_multilevel\u001b[0m\u001b[0;34m(\u001b[0m\u001b[0mkey\u001b[0m\u001b[0;34m)\u001b[0m\u001b[0;34m\u001b[0m\u001b[0;34m\u001b[0m\u001b[0m\n\u001b[0;32m-> 2906\u001b[0;31m             \u001b[0mindexer\u001b[0m \u001b[0;34m=\u001b[0m \u001b[0mself\u001b[0m\u001b[0;34m.\u001b[0m\u001b[0mcolumns\u001b[0m\u001b[0;34m.\u001b[0m\u001b[0mget_loc\u001b[0m\u001b[0;34m(\u001b[0m\u001b[0mkey\u001b[0m\u001b[0;34m)\u001b[0m\u001b[0;34m\u001b[0m\u001b[0;34m\u001b[0m\u001b[0m\n\u001b[0m\u001b[1;32m   2907\u001b[0m             \u001b[0;32mif\u001b[0m \u001b[0mis_integer\u001b[0m\u001b[0;34m(\u001b[0m\u001b[0mindexer\u001b[0m\u001b[0;34m)\u001b[0m\u001b[0;34m:\u001b[0m\u001b[0;34m\u001b[0m\u001b[0;34m\u001b[0m\u001b[0m\n\u001b[1;32m   2908\u001b[0m                 \u001b[0mindexer\u001b[0m \u001b[0;34m=\u001b[0m \u001b[0;34m[\u001b[0m\u001b[0mindexer\u001b[0m\u001b[0;34m]\u001b[0m\u001b[0;34m\u001b[0m\u001b[0;34m\u001b[0m\u001b[0m\n",
      "\u001b[0;32m~/3.Aging_and_chemical_reprogramming/.venv/lib64/python3.6/site-packages/pandas/core/indexes/base.py\u001b[0m in \u001b[0;36mget_loc\u001b[0;34m(self, key, method, tolerance)\u001b[0m\n\u001b[1;32m   2898\u001b[0m                 \u001b[0;32mreturn\u001b[0m \u001b[0mself\u001b[0m\u001b[0;34m.\u001b[0m\u001b[0m_engine\u001b[0m\u001b[0;34m.\u001b[0m\u001b[0mget_loc\u001b[0m\u001b[0;34m(\u001b[0m\u001b[0mcasted_key\u001b[0m\u001b[0;34m)\u001b[0m\u001b[0;34m\u001b[0m\u001b[0;34m\u001b[0m\u001b[0m\n\u001b[1;32m   2899\u001b[0m             \u001b[0;32mexcept\u001b[0m \u001b[0mKeyError\u001b[0m \u001b[0;32mas\u001b[0m \u001b[0merr\u001b[0m\u001b[0;34m:\u001b[0m\u001b[0;34m\u001b[0m\u001b[0;34m\u001b[0m\u001b[0m\n\u001b[0;32m-> 2900\u001b[0;31m                 \u001b[0;32mraise\u001b[0m \u001b[0mKeyError\u001b[0m\u001b[0;34m(\u001b[0m\u001b[0mkey\u001b[0m\u001b[0;34m)\u001b[0m \u001b[0;32mfrom\u001b[0m \u001b[0merr\u001b[0m\u001b[0;34m\u001b[0m\u001b[0;34m\u001b[0m\u001b[0m\n\u001b[0m\u001b[1;32m   2901\u001b[0m \u001b[0;34m\u001b[0m\u001b[0m\n\u001b[1;32m   2902\u001b[0m         \u001b[0;32mif\u001b[0m \u001b[0mtolerance\u001b[0m \u001b[0;32mis\u001b[0m \u001b[0;32mnot\u001b[0m \u001b[0;32mNone\u001b[0m\u001b[0;34m:\u001b[0m\u001b[0;34m\u001b[0m\u001b[0;34m\u001b[0m\u001b[0m\n",
      "\u001b[0;31mKeyError\u001b[0m: 'ID_REF'"
     ]
    }
   ],
   "source": [
    "# Select samples\n",
    "controls = [\"GSM5387808\",\"GSM5534156\"]\n",
    "\n",
    "pivoted_control_samples = geo_data.pivot_samples('VALUE')[controls]\n",
    "pivoted_control_samples.head()"
   ]
  },
  {
   "cell_type": "code",
   "execution_count": 44,
   "metadata": {},
   "outputs": [
    {
     "name": "stderr",
     "output_type": "stream",
     "text": [
      "09-Apr-2024 15:18:34 DEBUG utils - Directory ./ already exists. Skipping.\n",
      "09-Apr-2024 15:18:34 INFO GEOparse - File already exist: using local version.\n",
      "09-Apr-2024 15:18:34 INFO GEOparse - Parsing ./GSE188461_family.soft.gz: \n",
      "09-Apr-2024 15:18:34 DEBUG GEOparse - DATABASE: GeoMiame\n",
      "09-Apr-2024 15:18:34 DEBUG GEOparse - SERIES: GSE188461\n",
      "09-Apr-2024 15:18:34 DEBUG GEOparse - PLATFORM: GPL24676\n",
      "09-Apr-2024 15:18:34 DEBUG GEOparse - SAMPLE: GSM5387804\n",
      "09-Apr-2024 15:18:34 DEBUG GEOparse - SAMPLE: GSM5387805\n",
      "09-Apr-2024 15:18:34 DEBUG GEOparse - SAMPLE: GSM5387806\n",
      "09-Apr-2024 15:18:34 DEBUG GEOparse - SAMPLE: GSM5387807\n",
      "09-Apr-2024 15:18:34 DEBUG GEOparse - SAMPLE: GSM5387808\n",
      "09-Apr-2024 15:18:34 DEBUG GEOparse - SAMPLE: GSM5387809\n",
      "09-Apr-2024 15:18:34 DEBUG GEOparse - SAMPLE: GSM5387810\n",
      "09-Apr-2024 15:18:34 DEBUG GEOparse - SAMPLE: GSM5387811\n",
      "09-Apr-2024 15:18:34 DEBUG GEOparse - SAMPLE: GSM5387812\n",
      "09-Apr-2024 15:18:34 DEBUG GEOparse - SAMPLE: GSM5387813\n",
      "09-Apr-2024 15:18:34 DEBUG GEOparse - SAMPLE: GSM5387814\n",
      "09-Apr-2024 15:18:34 DEBUG GEOparse - SAMPLE: GSM5387815\n",
      "09-Apr-2024 15:18:34 DEBUG GEOparse - SAMPLE: GSM5387816\n",
      "09-Apr-2024 15:18:34 DEBUG GEOparse - SAMPLE: GSM5534140\n",
      "09-Apr-2024 15:18:34 DEBUG GEOparse - SAMPLE: GSM5534141\n",
      "09-Apr-2024 15:18:34 DEBUG GEOparse - SAMPLE: GSM5534142\n",
      "09-Apr-2024 15:18:34 DEBUG GEOparse - SAMPLE: GSM5534143\n",
      "09-Apr-2024 15:18:34 DEBUG GEOparse - SAMPLE: GSM5534144\n",
      "09-Apr-2024 15:18:34 DEBUG GEOparse - SAMPLE: GSM5534145\n",
      "09-Apr-2024 15:18:34 DEBUG GEOparse - SAMPLE: GSM5534146\n",
      "09-Apr-2024 15:18:34 DEBUG GEOparse - SAMPLE: GSM5534147\n",
      "09-Apr-2024 15:18:34 DEBUG GEOparse - SAMPLE: GSM5534148\n",
      "09-Apr-2024 15:18:34 DEBUG GEOparse - SAMPLE: GSM5534149\n",
      "09-Apr-2024 15:18:34 DEBUG GEOparse - SAMPLE: GSM5534150\n",
      "09-Apr-2024 15:18:34 DEBUG GEOparse - SAMPLE: GSM5534151\n",
      "09-Apr-2024 15:18:34 DEBUG GEOparse - SAMPLE: GSM5534152\n",
      "09-Apr-2024 15:18:34 DEBUG GEOparse - SAMPLE: GSM5534153\n",
      "09-Apr-2024 15:18:34 DEBUG GEOparse - SAMPLE: GSM5534154\n",
      "09-Apr-2024 15:18:34 DEBUG GEOparse - SAMPLE: GSM5534155\n",
      "09-Apr-2024 15:18:34 DEBUG GEOparse - SAMPLE: GSM5534156\n",
      "09-Apr-2024 15:18:34 DEBUG GEOparse - SAMPLE: GSM5534157\n",
      "09-Apr-2024 15:18:34 DEBUG GEOparse - SAMPLE: GSM5534158\n",
      "09-Apr-2024 15:18:34 DEBUG GEOparse - SAMPLE: GSM5683314\n",
      "09-Apr-2024 15:18:34 DEBUG GEOparse - SAMPLE: GSM5683315\n",
      "09-Apr-2024 15:18:34 DEBUG GEOparse - SAMPLE: GSM5683316\n",
      "09-Apr-2024 15:18:34 DEBUG GEOparse - SAMPLE: GSM5683317\n",
      "09-Apr-2024 15:18:34 DEBUG GEOparse - SAMPLE: GSM5683318\n",
      "09-Apr-2024 15:18:34 DEBUG GEOparse - SAMPLE: GSM5683319\n",
      "09-Apr-2024 15:18:34 DEBUG GEOparse - SAMPLE: GSM5683320\n"
     ]
    },
    {
     "ename": "KeyError",
     "evalue": "'ID_REF'",
     "output_type": "error",
     "traceback": [
      "\u001b[0;31m---------------------------------------------------------------------------\u001b[0m",
      "\u001b[0;31mKeyError\u001b[0m                                  Traceback (most recent call last)",
      "\u001b[0;32m~/3.Aging_and_chemical_reprogramming/.venv/lib64/python3.6/site-packages/pandas/core/indexes/base.py\u001b[0m in \u001b[0;36mget_loc\u001b[0;34m(self, key, method, tolerance)\u001b[0m\n\u001b[1;32m   2897\u001b[0m             \u001b[0;32mtry\u001b[0m\u001b[0;34m:\u001b[0m\u001b[0;34m\u001b[0m\u001b[0;34m\u001b[0m\u001b[0m\n\u001b[0;32m-> 2898\u001b[0;31m                 \u001b[0;32mreturn\u001b[0m \u001b[0mself\u001b[0m\u001b[0;34m.\u001b[0m\u001b[0m_engine\u001b[0m\u001b[0;34m.\u001b[0m\u001b[0mget_loc\u001b[0m\u001b[0;34m(\u001b[0m\u001b[0mcasted_key\u001b[0m\u001b[0;34m)\u001b[0m\u001b[0;34m\u001b[0m\u001b[0;34m\u001b[0m\u001b[0m\n\u001b[0m\u001b[1;32m   2899\u001b[0m             \u001b[0;32mexcept\u001b[0m \u001b[0mKeyError\u001b[0m \u001b[0;32mas\u001b[0m \u001b[0merr\u001b[0m\u001b[0;34m:\u001b[0m\u001b[0;34m\u001b[0m\u001b[0;34m\u001b[0m\u001b[0m\n",
      "\u001b[0;32mpandas/_libs/index.pyx\u001b[0m in \u001b[0;36mpandas._libs.index.IndexEngine.get_loc\u001b[0;34m()\u001b[0m\n",
      "\u001b[0;32mpandas/_libs/index.pyx\u001b[0m in \u001b[0;36mpandas._libs.index.IndexEngine.get_loc\u001b[0;34m()\u001b[0m\n",
      "\u001b[0;32mpandas/_libs/hashtable_class_helper.pxi\u001b[0m in \u001b[0;36mpandas._libs.hashtable.PyObjectHashTable.get_item\u001b[0;34m()\u001b[0m\n",
      "\u001b[0;32mpandas/_libs/hashtable_class_helper.pxi\u001b[0m in \u001b[0;36mpandas._libs.hashtable.PyObjectHashTable.get_item\u001b[0;34m()\u001b[0m\n",
      "\u001b[0;31mKeyError\u001b[0m: 'ID_REF'",
      "\nThe above exception was the direct cause of the following exception:\n",
      "\u001b[0;31mKeyError\u001b[0m                                  Traceback (most recent call last)",
      "\u001b[0;32m<ipython-input-44-0458a5f1566e>\u001b[0m in \u001b[0;36m<module>\u001b[0;34m\u001b[0m\n\u001b[1;32m      3\u001b[0m \u001b[0;34m\u001b[0m\u001b[0m\n\u001b[1;32m      4\u001b[0m \u001b[0;31m# Acceder a la matriz de datos\u001b[0m\u001b[0;34m\u001b[0m\u001b[0;34m\u001b[0m\u001b[0;34m\u001b[0m\u001b[0m\n\u001b[0;32m----> 5\u001b[0;31m \u001b[0mdata_matrix\u001b[0m \u001b[0;34m=\u001b[0m \u001b[0mgse\u001b[0m\u001b[0;34m.\u001b[0m\u001b[0mpivot_samples\u001b[0m\u001b[0;34m(\u001b[0m\u001b[0;34m'VALUE'\u001b[0m\u001b[0;34m)\u001b[0m  \u001b[0;31m# 'VALUE' representa la columna que contiene los datos de expresión génica\u001b[0m\u001b[0;34m\u001b[0m\u001b[0;34m\u001b[0m\u001b[0m\n\u001b[0m\u001b[1;32m      6\u001b[0m \u001b[0;34m\u001b[0m\u001b[0m\n\u001b[1;32m      7\u001b[0m \u001b[0;31m# Mostrar las primeras filas de la matriz de datos\u001b[0m\u001b[0;34m\u001b[0m\u001b[0;34m\u001b[0m\u001b[0;34m\u001b[0m\u001b[0m\n",
      "\u001b[0;32m~/3.Aging_and_chemical_reprogramming/.venv/lib64/python3.6/site-packages/GEOparse/GEOTypes.py\u001b[0m in \u001b[0;36mpivot_samples\u001b[0;34m(self, values, index)\u001b[0m\n\u001b[1;32m    850\u001b[0m             \u001b[0mtmp_data\u001b[0m\u001b[0;34m[\u001b[0m\u001b[0;34m\"name\"\u001b[0m\u001b[0;34m]\u001b[0m \u001b[0;34m=\u001b[0m \u001b[0mgsm\u001b[0m\u001b[0;34m.\u001b[0m\u001b[0mname\u001b[0m\u001b[0;34m\u001b[0m\u001b[0;34m\u001b[0m\u001b[0m\n\u001b[1;32m    851\u001b[0m             \u001b[0mdata\u001b[0m\u001b[0;34m.\u001b[0m\u001b[0mappend\u001b[0m\u001b[0;34m(\u001b[0m\u001b[0mtmp_data\u001b[0m\u001b[0;34m)\u001b[0m\u001b[0;34m\u001b[0m\u001b[0;34m\u001b[0m\u001b[0m\n\u001b[0;32m--> 852\u001b[0;31m         \u001b[0mndf\u001b[0m \u001b[0;34m=\u001b[0m \u001b[0mconcat\u001b[0m\u001b[0;34m(\u001b[0m\u001b[0mdata\u001b[0m\u001b[0;34m)\u001b[0m\u001b[0;34m.\u001b[0m\u001b[0mpivot\u001b[0m\u001b[0;34m(\u001b[0m\u001b[0mindex\u001b[0m\u001b[0;34m=\u001b[0m\u001b[0mindex\u001b[0m\u001b[0;34m,\u001b[0m \u001b[0mvalues\u001b[0m\u001b[0;34m=\u001b[0m\u001b[0mvalues\u001b[0m\u001b[0;34m,\u001b[0m \u001b[0mcolumns\u001b[0m\u001b[0;34m=\u001b[0m\u001b[0;34m\"name\"\u001b[0m\u001b[0;34m)\u001b[0m\u001b[0;34m\u001b[0m\u001b[0;34m\u001b[0m\u001b[0m\n\u001b[0m\u001b[1;32m    853\u001b[0m         \u001b[0;32mreturn\u001b[0m \u001b[0mndf\u001b[0m\u001b[0;34m\u001b[0m\u001b[0;34m\u001b[0m\u001b[0m\n\u001b[1;32m    854\u001b[0m \u001b[0;34m\u001b[0m\u001b[0m\n",
      "\u001b[0;32m~/3.Aging_and_chemical_reprogramming/.venv/lib64/python3.6/site-packages/pandas/core/frame.py\u001b[0m in \u001b[0;36mpivot\u001b[0;34m(self, index, columns, values)\u001b[0m\n\u001b[1;32m   6676\u001b[0m         \u001b[0;32mfrom\u001b[0m \u001b[0mpandas\u001b[0m\u001b[0;34m.\u001b[0m\u001b[0mcore\u001b[0m\u001b[0;34m.\u001b[0m\u001b[0mreshape\u001b[0m\u001b[0;34m.\u001b[0m\u001b[0mpivot\u001b[0m \u001b[0;32mimport\u001b[0m \u001b[0mpivot\u001b[0m\u001b[0;34m\u001b[0m\u001b[0;34m\u001b[0m\u001b[0m\n\u001b[1;32m   6677\u001b[0m \u001b[0;34m\u001b[0m\u001b[0m\n\u001b[0;32m-> 6678\u001b[0;31m         \u001b[0;32mreturn\u001b[0m \u001b[0mpivot\u001b[0m\u001b[0;34m(\u001b[0m\u001b[0mself\u001b[0m\u001b[0;34m,\u001b[0m \u001b[0mindex\u001b[0m\u001b[0;34m=\u001b[0m\u001b[0mindex\u001b[0m\u001b[0;34m,\u001b[0m \u001b[0mcolumns\u001b[0m\u001b[0;34m=\u001b[0m\u001b[0mcolumns\u001b[0m\u001b[0;34m,\u001b[0m \u001b[0mvalues\u001b[0m\u001b[0;34m=\u001b[0m\u001b[0mvalues\u001b[0m\u001b[0;34m)\u001b[0m\u001b[0;34m\u001b[0m\u001b[0;34m\u001b[0m\u001b[0m\n\u001b[0m\u001b[1;32m   6679\u001b[0m \u001b[0;34m\u001b[0m\u001b[0m\n\u001b[1;32m   6680\u001b[0m     _shared_docs[\n",
      "\u001b[0;32m~/3.Aging_and_chemical_reprogramming/.venv/lib64/python3.6/site-packages/pandas/core/reshape/pivot.py\u001b[0m in \u001b[0;36mpivot\u001b[0;34m(data, index, columns, values)\u001b[0m\n\u001b[1;32m    461\u001b[0m         \u001b[0;32melse\u001b[0m\u001b[0;34m:\u001b[0m\u001b[0;34m\u001b[0m\u001b[0;34m\u001b[0m\u001b[0m\n\u001b[1;32m    462\u001b[0m             \u001b[0mindex\u001b[0m \u001b[0;34m=\u001b[0m \u001b[0mcom\u001b[0m\u001b[0;34m.\u001b[0m\u001b[0mconvert_to_list_like\u001b[0m\u001b[0;34m(\u001b[0m\u001b[0mindex\u001b[0m\u001b[0;34m)\u001b[0m\u001b[0;34m\u001b[0m\u001b[0;34m\u001b[0m\u001b[0m\n\u001b[0;32m--> 463\u001b[0;31m             \u001b[0mindex\u001b[0m \u001b[0;34m=\u001b[0m \u001b[0;34m[\u001b[0m\u001b[0mdata\u001b[0m\u001b[0;34m[\u001b[0m\u001b[0midx\u001b[0m\u001b[0;34m]\u001b[0m \u001b[0;32mfor\u001b[0m \u001b[0midx\u001b[0m \u001b[0;32min\u001b[0m \u001b[0mindex\u001b[0m\u001b[0;34m]\u001b[0m\u001b[0;34m\u001b[0m\u001b[0;34m\u001b[0m\u001b[0m\n\u001b[0m\u001b[1;32m    464\u001b[0m \u001b[0;34m\u001b[0m\u001b[0m\n\u001b[1;32m    465\u001b[0m         \u001b[0mdata_columns\u001b[0m \u001b[0;34m=\u001b[0m \u001b[0;34m[\u001b[0m\u001b[0mdata\u001b[0m\u001b[0;34m[\u001b[0m\u001b[0mcol\u001b[0m\u001b[0;34m]\u001b[0m \u001b[0;32mfor\u001b[0m \u001b[0mcol\u001b[0m \u001b[0;32min\u001b[0m \u001b[0mcolumns\u001b[0m\u001b[0;34m]\u001b[0m\u001b[0;34m\u001b[0m\u001b[0;34m\u001b[0m\u001b[0m\n",
      "\u001b[0;32m~/3.Aging_and_chemical_reprogramming/.venv/lib64/python3.6/site-packages/pandas/core/reshape/pivot.py\u001b[0m in \u001b[0;36m<listcomp>\u001b[0;34m(.0)\u001b[0m\n\u001b[1;32m    461\u001b[0m         \u001b[0;32melse\u001b[0m\u001b[0;34m:\u001b[0m\u001b[0;34m\u001b[0m\u001b[0;34m\u001b[0m\u001b[0m\n\u001b[1;32m    462\u001b[0m             \u001b[0mindex\u001b[0m \u001b[0;34m=\u001b[0m \u001b[0mcom\u001b[0m\u001b[0;34m.\u001b[0m\u001b[0mconvert_to_list_like\u001b[0m\u001b[0;34m(\u001b[0m\u001b[0mindex\u001b[0m\u001b[0;34m)\u001b[0m\u001b[0;34m\u001b[0m\u001b[0;34m\u001b[0m\u001b[0m\n\u001b[0;32m--> 463\u001b[0;31m             \u001b[0mindex\u001b[0m \u001b[0;34m=\u001b[0m \u001b[0;34m[\u001b[0m\u001b[0mdata\u001b[0m\u001b[0;34m[\u001b[0m\u001b[0midx\u001b[0m\u001b[0;34m]\u001b[0m \u001b[0;32mfor\u001b[0m \u001b[0midx\u001b[0m \u001b[0;32min\u001b[0m \u001b[0mindex\u001b[0m\u001b[0;34m]\u001b[0m\u001b[0;34m\u001b[0m\u001b[0;34m\u001b[0m\u001b[0m\n\u001b[0m\u001b[1;32m    464\u001b[0m \u001b[0;34m\u001b[0m\u001b[0m\n\u001b[1;32m    465\u001b[0m         \u001b[0mdata_columns\u001b[0m \u001b[0;34m=\u001b[0m \u001b[0;34m[\u001b[0m\u001b[0mdata\u001b[0m\u001b[0;34m[\u001b[0m\u001b[0mcol\u001b[0m\u001b[0;34m]\u001b[0m \u001b[0;32mfor\u001b[0m \u001b[0mcol\u001b[0m \u001b[0;32min\u001b[0m \u001b[0mcolumns\u001b[0m\u001b[0;34m]\u001b[0m\u001b[0;34m\u001b[0m\u001b[0;34m\u001b[0m\u001b[0m\n",
      "\u001b[0;32m~/3.Aging_and_chemical_reprogramming/.venv/lib64/python3.6/site-packages/pandas/core/frame.py\u001b[0m in \u001b[0;36m__getitem__\u001b[0;34m(self, key)\u001b[0m\n\u001b[1;32m   2904\u001b[0m             \u001b[0;32mif\u001b[0m \u001b[0mself\u001b[0m\u001b[0;34m.\u001b[0m\u001b[0mcolumns\u001b[0m\u001b[0;34m.\u001b[0m\u001b[0mnlevels\u001b[0m \u001b[0;34m>\u001b[0m \u001b[0;36m1\u001b[0m\u001b[0;34m:\u001b[0m\u001b[0;34m\u001b[0m\u001b[0;34m\u001b[0m\u001b[0m\n\u001b[1;32m   2905\u001b[0m                 \u001b[0;32mreturn\u001b[0m \u001b[0mself\u001b[0m\u001b[0;34m.\u001b[0m\u001b[0m_getitem_multilevel\u001b[0m\u001b[0;34m(\u001b[0m\u001b[0mkey\u001b[0m\u001b[0;34m)\u001b[0m\u001b[0;34m\u001b[0m\u001b[0;34m\u001b[0m\u001b[0m\n\u001b[0;32m-> 2906\u001b[0;31m             \u001b[0mindexer\u001b[0m \u001b[0;34m=\u001b[0m \u001b[0mself\u001b[0m\u001b[0;34m.\u001b[0m\u001b[0mcolumns\u001b[0m\u001b[0;34m.\u001b[0m\u001b[0mget_loc\u001b[0m\u001b[0;34m(\u001b[0m\u001b[0mkey\u001b[0m\u001b[0;34m)\u001b[0m\u001b[0;34m\u001b[0m\u001b[0;34m\u001b[0m\u001b[0m\n\u001b[0m\u001b[1;32m   2907\u001b[0m             \u001b[0;32mif\u001b[0m \u001b[0mis_integer\u001b[0m\u001b[0;34m(\u001b[0m\u001b[0mindexer\u001b[0m\u001b[0;34m)\u001b[0m\u001b[0;34m:\u001b[0m\u001b[0;34m\u001b[0m\u001b[0;34m\u001b[0m\u001b[0m\n\u001b[1;32m   2908\u001b[0m                 \u001b[0mindexer\u001b[0m \u001b[0;34m=\u001b[0m \u001b[0;34m[\u001b[0m\u001b[0mindexer\u001b[0m\u001b[0;34m]\u001b[0m\u001b[0;34m\u001b[0m\u001b[0;34m\u001b[0m\u001b[0m\n",
      "\u001b[0;32m~/3.Aging_and_chemical_reprogramming/.venv/lib64/python3.6/site-packages/pandas/core/indexes/base.py\u001b[0m in \u001b[0;36mget_loc\u001b[0;34m(self, key, method, tolerance)\u001b[0m\n\u001b[1;32m   2898\u001b[0m                 \u001b[0;32mreturn\u001b[0m \u001b[0mself\u001b[0m\u001b[0;34m.\u001b[0m\u001b[0m_engine\u001b[0m\u001b[0;34m.\u001b[0m\u001b[0mget_loc\u001b[0m\u001b[0;34m(\u001b[0m\u001b[0mcasted_key\u001b[0m\u001b[0;34m)\u001b[0m\u001b[0;34m\u001b[0m\u001b[0;34m\u001b[0m\u001b[0m\n\u001b[1;32m   2899\u001b[0m             \u001b[0;32mexcept\u001b[0m \u001b[0mKeyError\u001b[0m \u001b[0;32mas\u001b[0m \u001b[0merr\u001b[0m\u001b[0;34m:\u001b[0m\u001b[0;34m\u001b[0m\u001b[0;34m\u001b[0m\u001b[0m\n\u001b[0;32m-> 2900\u001b[0;31m                 \u001b[0;32mraise\u001b[0m \u001b[0mKeyError\u001b[0m\u001b[0;34m(\u001b[0m\u001b[0mkey\u001b[0m\u001b[0;34m)\u001b[0m \u001b[0;32mfrom\u001b[0m \u001b[0merr\u001b[0m\u001b[0;34m\u001b[0m\u001b[0;34m\u001b[0m\u001b[0m\n\u001b[0m\u001b[1;32m   2901\u001b[0m \u001b[0;34m\u001b[0m\u001b[0m\n\u001b[1;32m   2902\u001b[0m         \u001b[0;32mif\u001b[0m \u001b[0mtolerance\u001b[0m \u001b[0;32mis\u001b[0m \u001b[0;32mnot\u001b[0m \u001b[0;32mNone\u001b[0m\u001b[0;34m:\u001b[0m\u001b[0;34m\u001b[0m\u001b[0;34m\u001b[0m\u001b[0m\n",
      "\u001b[0;31mKeyError\u001b[0m: 'ID_REF'"
     ]
    }
   ],
   "source": [
    "# Descargar y cargar el conjunto de datos GEO\n",
    "gse = GEOparse.get_GEO(\"GSE188461\")  # Reemplaza \"GSEXXXXX\" con el código de acceso del conjunto de datos GEO que deseas cargar\n",
    "\n",
    "# Acceder a la matriz de datos\n",
    "data_matrix = gse.pivot_samples('VALUE')  # 'VALUE' representa la columna que contiene los datos de expresión génica\n",
    "\n",
    "# Mostrar las primeras filas de la matriz de datos\n",
    "print(data_matrix.head())"
   ]
  },
  {
   "cell_type": "code",
   "execution_count": null,
   "metadata": {},
   "outputs": [],
   "source": []
  }
 ],
 "metadata": {
  "kernelspec": {
   "display_name": "Python 3",
   "language": "python",
   "name": "python3"
  },
  "language_info": {
   "codemirror_mode": {
    "name": "ipython",
    "version": 3
   },
   "file_extension": ".py",
   "mimetype": "text/x-python",
   "name": "python",
   "nbconvert_exporter": "python",
   "pygments_lexer": "ipython3",
   "version": "3.6.8"
  }
 },
 "nbformat": 4,
 "nbformat_minor": 2
}
