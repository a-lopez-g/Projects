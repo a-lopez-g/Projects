{
 "cells": [
  {
   "cell_type": "code",
   "execution_count": 5,
   "id": "0a270cbd",
   "metadata": {},
   "outputs": [],
   "source": [
    "import csv\n",
    "import gzip\n",
    "import os\n",
    "import scipy.io\n",
    "import numpy as np\n",
    "import pandas as pd\n",
    "import gzip"
   ]
  },
  {
   "cell_type": "markdown",
   "id": "edf6c695",
   "metadata": {},
   "source": [
    "# Funciones principales"
   ]
  },
  {
   "cell_type": "code",
   "execution_count": 1,
   "id": "b5b56880",
   "metadata": {},
   "outputs": [],
   "source": [
    "def read_data(matrix_dir:str) -> list : \n",
    "    \n",
    "    mat = scipy.io.mmread(os.path.join(matrix_dir, \"matrix.mtx\"))\n",
    "    features_path = os.path.join(matrix_dir, \"features.tsv\")\n",
    "\n",
    "\n",
    "    feature_ids = [row[0] for row in csv.reader(open(features_path), delimiter=\"\\t\")]\n",
    "    #gene_names = [row[1] for row in csv.reader(open(features_path), delimiter=\"\\t\")]\n",
    "    #feature_types = [row[2] for row in csv.reader(open(features_path), delimiter=\"\\t\")]\n",
    "    barcodes_path = os.path.join(matrix_dir, \"barcodes.tsv\")\n",
    "    barcodes = [row[0] for row in csv.reader(open(barcodes_path), delimiter=\"\\t\")]\n",
    "    \n",
    "    return mat,feature_ids,barcodes\n",
    "    #return mat,feature_ids,gene_names,feature_types,barcodes\n"
   ]
  },
  {
   "cell_type": "code",
   "execution_count": 7,
   "id": "a291fa74",
   "metadata": {},
   "outputs": [],
   "source": [
    "#def save_to_txt(mat,feature_ids:list,gene_names:list,feature_types:list,barcodes:list): \n",
    "def save_to_txt(mat,feature_ids:list,barcodes:list):     \n",
    "    #Información de genes (name,id,type) y células (barcodes)\n",
    "    np.savetxt(\"./gene_id.txt.gz\",feature_ids,delimiter = \",\",fmt = '%s')\n",
    "    #np.savetxt(\"./gene_names.txt.gz\",gene_names,delimiter = \",\",fmt = '%s')\n",
    "    #np.savetxt(\"./feature_types.txt.gz\",feature_types,delimiter = \",\",fmt = '%s')\n",
    "    np.savetxt(\"./barcodes.txt.gz\",barcodes,delimiter = \",\",fmt = '%s')\n",
    "    \n",
    "    \n",
    "    # Matriz de conteos a archivo txt (columnas = células, filas = genes)\n",
    "    #X = mat.toarray().astype(np.uint8)\n",
    "    np.savetxt(\"./X.txt.gz\",mat.transpose().toarray().astype(np.uint8),delimiter = \",\")\n",
    "    \n",
    "    return \"Saved.\""
   ]
  },
  {
   "cell_type": "code",
   "execution_count": null,
   "id": "d79f0900",
   "metadata": {},
   "outputs": [],
   "source": [
    "# Para ver en una matriz juntos los conteos y la información de los genes\n",
    "# transform table to pandas dataframe and label rows and columns\n",
    "matrix = pd.DataFrame.sparse.from_spmatrix(mat)\n",
    "matrix.columns = barcodes\n",
    "matrix.insert(loc=0, column=\"feature_id\", value=feature_ids)\n",
    "matrix.insert(loc=0, column=\"gene\", value=gene_names)\n",
    "matrix.insert(loc=0, column=\"feature_type\", value=feature_types)\n",
    " \n",
    "# display matrix\n",
    "print(matrix)\n",
    "# save the table as a CSV (note the CSV will be a very large file)\n",
    "#matrix.to_csv(\"mex_matrix.csv\", index=False)"
   ]
  },
  {
   "cell_type": "markdown",
   "id": "d71d374a",
   "metadata": {},
   "source": [
    "### Importante!\n",
    "Las matrices de conteos (X) son muy grandes, únicamente está guardada la de hEF-0330 y hCIPSCS-1117 (esta da error al descomprimir)"
   ]
  },
  {
   "cell_type": "markdown",
   "id": "3624fbf6",
   "metadata": {},
   "source": [
    "# 1. *Fibroblastos embrionarios*"
   ]
  },
  {
   "cell_type": "markdown",
   "id": "a7cea8e1",
   "metadata": {},
   "source": [
    "### 1.1 HEF-0330: seq-RNA fibroblastos embrionarios sin reprogramar"
   ]
  },
  {
   "cell_type": "code",
   "execution_count": null,
   "id": "bf028635",
   "metadata": {},
   "outputs": [],
   "source": [
    "matrix_dir = \"./fibroblastos_embrionarios/hEFS-0330\"\n",
    "\n",
    "# leemos la información en bruto\n",
    "mat,feature_ids,gene_names,feature_types,barcodes = read_data(matrix_dir)\n",
    "\n",
    "save_to_txt(mat,feature_ids,gene_names,feature_types,barcodes)"
   ]
  },
  {
   "cell_type": "code",
   "execution_count": 5,
   "id": "82cd6a81",
   "metadata": {},
   "outputs": [],
   "source": [
    "f = gzip.open(\"./fibroblastos_embrionarios/hEFS-0330/X.txt.gz\", 'rb')\n",
    "X_hef_0330 = f.read()\n",
    "f.close()"
   ]
  },
  {
   "cell_type": "markdown",
   "id": "27d9edcb",
   "metadata": {},
   "source": [
    "### 1.2 hCIPSCS-1117: células madre pluripotentes humanas inducidas químicamente a partir de fibroblastos embrionarios humanos"
   ]
  },
  {
   "cell_type": "code",
   "execution_count": 12,
   "id": "79bdd482",
   "metadata": {},
   "outputs": [
    {
     "ename": "MemoryError",
     "evalue": "Unable to allocate 4.59 GiB for an array with shape (32738, 18823) and data type int64",
     "output_type": "error",
     "traceback": [
      "\u001b[1;31m---------------------------------------------------------------------------\u001b[0m",
      "\u001b[1;31mMemoryError\u001b[0m                               Traceback (most recent call last)",
      "\u001b[1;32m~\\AppData\\Local\\Temp/ipykernel_10272/1317453068.py\u001b[0m in \u001b[0;36m<module>\u001b[1;34m\u001b[0m\n\u001b[0;32m      4\u001b[0m \u001b[0mmat\u001b[0m\u001b[1;33m,\u001b[0m\u001b[0mfeature_ids\u001b[0m\u001b[1;33m,\u001b[0m\u001b[0mgene_names\u001b[0m\u001b[1;33m,\u001b[0m\u001b[0mfeature_types\u001b[0m\u001b[1;33m,\u001b[0m\u001b[0mbarcodes\u001b[0m \u001b[1;33m=\u001b[0m \u001b[0mread_data\u001b[0m\u001b[1;33m(\u001b[0m\u001b[0mmatrix_dir\u001b[0m\u001b[1;33m)\u001b[0m\u001b[1;33m\u001b[0m\u001b[1;33m\u001b[0m\u001b[0m\n\u001b[0;32m      5\u001b[0m \u001b[1;33m\u001b[0m\u001b[0m\n\u001b[1;32m----> 6\u001b[1;33m \u001b[0msave_to_txt\u001b[0m\u001b[1;33m(\u001b[0m\u001b[0mmat\u001b[0m\u001b[1;33m,\u001b[0m\u001b[0mfeature_ids\u001b[0m\u001b[1;33m,\u001b[0m\u001b[0mgene_names\u001b[0m\u001b[1;33m,\u001b[0m\u001b[0mfeature_types\u001b[0m\u001b[1;33m,\u001b[0m\u001b[0mbarcodes\u001b[0m\u001b[1;33m)\u001b[0m\u001b[1;33m\u001b[0m\u001b[1;33m\u001b[0m\u001b[0m\n\u001b[0m",
      "\u001b[1;32m~\\AppData\\Local\\Temp/ipykernel_10272/2761299236.py\u001b[0m in \u001b[0;36msave_to_txt\u001b[1;34m(mat, feature_ids, gene_names, feature_types, barcodes)\u001b[0m\n\u001b[0;32m      9\u001b[0m \u001b[1;33m\u001b[0m\u001b[0m\n\u001b[0;32m     10\u001b[0m     \u001b[1;31m# Matriz de conteos a archivo txt (columnas = células, filas = genes)\u001b[0m\u001b[1;33m\u001b[0m\u001b[1;33m\u001b[0m\u001b[1;33m\u001b[0m\u001b[0m\n\u001b[1;32m---> 11\u001b[1;33m     \u001b[0mX\u001b[0m \u001b[1;33m=\u001b[0m \u001b[0mmat\u001b[0m\u001b[1;33m.\u001b[0m\u001b[0mtoarray\u001b[0m\u001b[1;33m(\u001b[0m\u001b[1;33m)\u001b[0m\u001b[1;33m.\u001b[0m\u001b[0mastype\u001b[0m\u001b[1;33m(\u001b[0m\u001b[0mnp\u001b[0m\u001b[1;33m.\u001b[0m\u001b[0muint8\u001b[0m\u001b[1;33m)\u001b[0m\u001b[1;33m\u001b[0m\u001b[1;33m\u001b[0m\u001b[0m\n\u001b[0m\u001b[0;32m     12\u001b[0m     \u001b[0mnp\u001b[0m\u001b[1;33m.\u001b[0m\u001b[0msavetxt\u001b[0m\u001b[1;33m(\u001b[0m\u001b[1;34m\"./X.txt.gz\"\u001b[0m\u001b[1;33m,\u001b[0m\u001b[0mX\u001b[0m\u001b[1;33m,\u001b[0m\u001b[0mdelimiter\u001b[0m \u001b[1;33m=\u001b[0m \u001b[1;34m\",\"\u001b[0m\u001b[1;33m)\u001b[0m\u001b[1;33m\u001b[0m\u001b[1;33m\u001b[0m\u001b[0m\n\u001b[0;32m     13\u001b[0m \u001b[1;33m\u001b[0m\u001b[0m\n",
      "\u001b[1;32m~\\.conda\\envs\\single-cell\\lib\\site-packages\\scipy\\sparse\\coo.py\u001b[0m in \u001b[0;36mtoarray\u001b[1;34m(self, order, out)\u001b[0m\n\u001b[0;32m    319\u001b[0m     \u001b[1;32mdef\u001b[0m \u001b[0mtoarray\u001b[0m\u001b[1;33m(\u001b[0m\u001b[0mself\u001b[0m\u001b[1;33m,\u001b[0m \u001b[0morder\u001b[0m\u001b[1;33m=\u001b[0m\u001b[1;32mNone\u001b[0m\u001b[1;33m,\u001b[0m \u001b[0mout\u001b[0m\u001b[1;33m=\u001b[0m\u001b[1;32mNone\u001b[0m\u001b[1;33m)\u001b[0m\u001b[1;33m:\u001b[0m\u001b[1;33m\u001b[0m\u001b[1;33m\u001b[0m\u001b[0m\n\u001b[0;32m    320\u001b[0m         \u001b[1;34m\"\"\"See the docstring for `spmatrix.toarray`.\"\"\"\u001b[0m\u001b[1;33m\u001b[0m\u001b[1;33m\u001b[0m\u001b[0m\n\u001b[1;32m--> 321\u001b[1;33m         \u001b[0mB\u001b[0m \u001b[1;33m=\u001b[0m \u001b[0mself\u001b[0m\u001b[1;33m.\u001b[0m\u001b[0m_process_toarray_args\u001b[0m\u001b[1;33m(\u001b[0m\u001b[0morder\u001b[0m\u001b[1;33m,\u001b[0m \u001b[0mout\u001b[0m\u001b[1;33m)\u001b[0m\u001b[1;33m\u001b[0m\u001b[1;33m\u001b[0m\u001b[0m\n\u001b[0m\u001b[0;32m    322\u001b[0m         \u001b[0mfortran\u001b[0m \u001b[1;33m=\u001b[0m \u001b[0mint\u001b[0m\u001b[1;33m(\u001b[0m\u001b[0mB\u001b[0m\u001b[1;33m.\u001b[0m\u001b[0mflags\u001b[0m\u001b[1;33m.\u001b[0m\u001b[0mf_contiguous\u001b[0m\u001b[1;33m)\u001b[0m\u001b[1;33m\u001b[0m\u001b[1;33m\u001b[0m\u001b[0m\n\u001b[0;32m    323\u001b[0m         \u001b[1;32mif\u001b[0m \u001b[1;32mnot\u001b[0m \u001b[0mfortran\u001b[0m \u001b[1;32mand\u001b[0m \u001b[1;32mnot\u001b[0m \u001b[0mB\u001b[0m\u001b[1;33m.\u001b[0m\u001b[0mflags\u001b[0m\u001b[1;33m.\u001b[0m\u001b[0mc_contiguous\u001b[0m\u001b[1;33m:\u001b[0m\u001b[1;33m\u001b[0m\u001b[1;33m\u001b[0m\u001b[0m\n",
      "\u001b[1;32m~\\.conda\\envs\\single-cell\\lib\\site-packages\\scipy\\sparse\\base.py\u001b[0m in \u001b[0;36m_process_toarray_args\u001b[1;34m(self, order, out)\u001b[0m\n\u001b[0;32m   1200\u001b[0m             \u001b[1;32mreturn\u001b[0m \u001b[0mout\u001b[0m\u001b[1;33m\u001b[0m\u001b[1;33m\u001b[0m\u001b[0m\n\u001b[0;32m   1201\u001b[0m         \u001b[1;32melse\u001b[0m\u001b[1;33m:\u001b[0m\u001b[1;33m\u001b[0m\u001b[1;33m\u001b[0m\u001b[0m\n\u001b[1;32m-> 1202\u001b[1;33m             \u001b[1;32mreturn\u001b[0m \u001b[0mnp\u001b[0m\u001b[1;33m.\u001b[0m\u001b[0mzeros\u001b[0m\u001b[1;33m(\u001b[0m\u001b[0mself\u001b[0m\u001b[1;33m.\u001b[0m\u001b[0mshape\u001b[0m\u001b[1;33m,\u001b[0m \u001b[0mdtype\u001b[0m\u001b[1;33m=\u001b[0m\u001b[0mself\u001b[0m\u001b[1;33m.\u001b[0m\u001b[0mdtype\u001b[0m\u001b[1;33m,\u001b[0m \u001b[0morder\u001b[0m\u001b[1;33m=\u001b[0m\u001b[0morder\u001b[0m\u001b[1;33m)\u001b[0m\u001b[1;33m\u001b[0m\u001b[1;33m\u001b[0m\u001b[0m\n\u001b[0m\u001b[0;32m   1203\u001b[0m \u001b[1;33m\u001b[0m\u001b[0m\n\u001b[0;32m   1204\u001b[0m \u001b[1;33m\u001b[0m\u001b[0m\n",
      "\u001b[1;31mMemoryError\u001b[0m: Unable to allocate 4.59 GiB for an array with shape (32738, 18823) and data type int64"
     ]
    }
   ],
   "source": [
    "matrix_dir = \"./fibroblastos_embrionarios/hCIPSCS-1117/raw_data\"\n",
    "\n",
    "# leemos la información en bruto\n",
    "mat,feature_ids,gene_names,feature_types,barcodes = read_data(matrix_dir)\n",
    "\n",
    "save_to_txt(mat,feature_ids,gene_names,feature_types,barcodes)"
   ]
  },
  {
   "cell_type": "markdown",
   "id": "7483866a",
   "metadata": {},
   "source": [
    "# 2. *Fibroblastos piel adultos*"
   ]
  },
  {
   "cell_type": "markdown",
   "id": "0f54efcc",
   "metadata": {},
   "source": [
    "### 2.1 hASFS-0605: fibroblastos de la piel adultos sin reprogramar (COMPROBAR QUE ES seq-RNA)"
   ]
  },
  {
   "cell_type": "code",
   "execution_count": 29,
   "id": "6176d734",
   "metadata": {},
   "outputs": [],
   "source": [
    "matrix_dir = \"./fibroblastos_piel_adultos/hASFS-0605/raw_data\"\n",
    "\n",
    "# leemos la información en bruto\n",
    "mat,feature_ids,gene_names,feature_types,barcodes = read_data(matrix_dir)\n",
    "\n",
    "#save_to_txt(mat,feature_ids,gene_names,feature_types,barcodes)"
   ]
  },
  {
   "cell_type": "code",
   "execution_count": 30,
   "id": "fccb61f3",
   "metadata": {},
   "outputs": [
    {
     "data": {
      "text/plain": [
       "(32738, 5475)"
      ]
     },
     "execution_count": 30,
     "metadata": {},
     "output_type": "execute_result"
    }
   ],
   "source": [
    "matrix = pd.DataFrame.sparse.from_spmatrix(mat)\n",
    "matrix.shape"
   ]
  },
  {
   "cell_type": "code",
   "execution_count": 5,
   "id": "92efccca",
   "metadata": {},
   "outputs": [],
   "source": [
    "matrix_dir = \"C:/matlab scripts/Quimica_Pluripotente_Humano_Guan/fibroblastos_piel_adultos/hASFS-0605/raw_data\"\n",
    "mat = scipy.io.mmread(os.path.join(matrix_dir, \"matrix.mtx\"))\n",
    "np.savetxt(\"./X_no_reprogramadas.txt.gz\",mat.transpose().toarray().astype(np.uint8),delimiter = \",\")"
   ]
  },
  {
   "cell_type": "markdown",
   "id": "f9e5cf1f",
   "metadata": {},
   "source": [
    "###  2.2 hCIPSCS-1230: células madre pluripotentes humanas inducidas químicamente a partir de fibroblastos de la piel adultos humanos"
   ]
  },
  {
   "cell_type": "code",
   "execution_count": 17,
   "id": "f3f2eec5",
   "metadata": {},
   "outputs": [
    {
     "data": {
      "text/plain": [
       "'Saved.'"
      ]
     },
     "execution_count": 17,
     "metadata": {},
     "output_type": "execute_result"
    }
   ],
   "source": [
    "matrix_dir = \"./fibroblastos_piel_adultos/hCIPSCS-1230/raw_data\"\n",
    "\n",
    "# leemos la información en bruto\n",
    "mat,feature_ids,gene_names,feature_types,barcodes = read_data(matrix_dir)\n",
    "\n",
    "save_to_txt(mat,feature_ids,gene_names,feature_types,barcodes)"
   ]
  },
  {
   "cell_type": "code",
   "execution_count": 4,
   "id": "a2cbcf98",
   "metadata": {},
   "outputs": [],
   "source": [
    "matrix_dir = \"C:/matlab scripts/Quimica_Pluripotente_Humano_Guan/fibroblastos_piel_adultos/hCIPSCS-1230/raw_data\"\n",
    "mat = scipy.io.mmread(os.path.join(matrix_dir, \"matrix.mtx\"))\n",
    "np.savetxt(\"./X.txt.gz\",mat.transpose().toarray().astype(np.uint8),delimiter = \",\")"
   ]
  },
  {
   "cell_type": "markdown",
   "id": "eef6dbdc",
   "metadata": {},
   "source": [
    "### 2.3 Stage I"
   ]
  },
  {
   "cell_type": "code",
   "execution_count": 8,
   "id": "40aea9e8",
   "metadata": {},
   "outputs": [
    {
     "data": {
      "text/plain": [
       "'Saved.'"
      ]
     },
     "execution_count": 8,
     "metadata": {},
     "output_type": "execute_result"
    }
   ],
   "source": [
    "matrix_dir = \"C:/matlab scripts/Quimica_Pluripotente_Humano_Guan/fibroblastos_piel_adultos\"\n",
    "\n",
    "# leemos la información en bruto\n",
    "mat,feature_ids,barcodes = read_data(matrix_dir)\n",
    "\n",
    "save_to_txt(mat,feature_ids,barcodes)"
   ]
  },
  {
   "cell_type": "markdown",
   "id": "f6645d37",
   "metadata": {},
   "source": [
    "### 2.4 Stage II"
   ]
  },
  {
   "cell_type": "code",
   "execution_count": 10,
   "id": "f13e1cbc",
   "metadata": {},
   "outputs": [
    {
     "data": {
      "text/plain": [
       "'Saved.'"
      ]
     },
     "execution_count": 10,
     "metadata": {},
     "output_type": "execute_result"
    }
   ],
   "source": [
    "matrix_dir = \"C:/matlab scripts/Quimica_Pluripotente_Humano_Guan/fibroblastos_piel_adultos\"\n",
    "\n",
    "# leemos la información en bruto\n",
    "mat,feature_ids,barcodes = read_data(matrix_dir)\n",
    "\n",
    "save_to_txt(mat,feature_ids,barcodes)"
   ]
  },
  {
   "cell_type": "markdown",
   "id": "10b74d61",
   "metadata": {},
   "source": [
    "# 3. *Células madre mesenquimales derivadas de tejido adiposo*"
   ]
  },
  {
   "cell_type": "markdown",
   "id": "eed444a7",
   "metadata": {},
   "source": [
    "Hay dos conjuntos diferentes, comprobar la diferencia entre ambas (tipo de secuenciación? 0618 pone seq-RNA, en las otras no)"
   ]
  },
  {
   "cell_type": "markdown",
   "id": "72a3ba83",
   "metadata": {},
   "source": [
    "### 3.1 hADSCS-0618 : células mesenquimales humanas adultas derivadas del tejido adiposo sin reprogramar"
   ]
  },
  {
   "cell_type": "code",
   "execution_count": null,
   "id": "31a0c876",
   "metadata": {},
   "outputs": [],
   "source": [
    "matrix_dir = \"./madre_mesenquimales_derivadas_de_adiposas/hADSCS-0618/raw_data\"\n",
    "\n",
    "# leemos la información en bruto\n",
    "mat,feature_ids,gene_names,feature_types,barcodes = read_data(matrix_dir)\n",
    "\n",
    "save_to_txt(mat,feature_ids,gene_names,feature_types,barcodes)"
   ]
  },
  {
   "cell_type": "code",
   "execution_count": 16,
   "id": "27407077",
   "metadata": {},
   "outputs": [
    {
     "data": {
      "text/plain": [
       "(32738, 4507)"
      ]
     },
     "execution_count": 16,
     "metadata": {},
     "output_type": "execute_result"
    }
   ],
   "source": [
    "matrix = pd.DataFrame.sparse.from_spmatrix(mat)\n",
    "matrix.shape"
   ]
  },
  {
   "cell_type": "code",
   "execution_count": 6,
   "id": "a1dcfb9c",
   "metadata": {},
   "outputs": [],
   "source": [
    "matrix_dir = \"C:/matlab scripts/Quimica_Pluripotente_Humano_Guan/madre_mesenquimales_derivadas_de_adiposas/hADSCS-0618/raw_data\"\n",
    "mat = scipy.io.mmread(os.path.join(matrix_dir, \"matrix.mtx\"))\n",
    "np.savetxt(\"./X_no_reprogramadas.txt.gz\",mat.transpose().toarray().astype(np.uint8),delimiter = \",\")"
   ]
  },
  {
   "cell_type": "markdown",
   "id": "926b9744",
   "metadata": {},
   "source": [
    "### 3.2 hCiPSCs-0618: células madre pluripotentes humanas inducidas químicamente a partir de células mesenquimales humanas adultas derivadas del tejido adiposo"
   ]
  },
  {
   "cell_type": "code",
   "execution_count": 20,
   "id": "13a66fc3",
   "metadata": {},
   "outputs": [
    {
     "data": {
      "text/plain": [
       "'Saved.'"
      ]
     },
     "execution_count": 20,
     "metadata": {},
     "output_type": "execute_result"
    }
   ],
   "source": [
    "matrix_dir = \"./madre_mesenquimales_derivadas_de_adiposas/hCIPSCS-0618\"\n",
    "\n",
    "# leemos la información en bruto\n",
    "mat2,feature_ids2,gene_names2,feature_types2,barcodes2 = read_data(matrix_dir)\n",
    "\n",
    "save_to_txt(mat2,feature_ids2,gene_names2,feature_types2,barcodes2)"
   ]
  },
  {
   "cell_type": "code",
   "execution_count": 21,
   "id": "235a9039",
   "metadata": {},
   "outputs": [
    {
     "data": {
      "text/plain": [
       "(32738, 18814)"
      ]
     },
     "execution_count": 21,
     "metadata": {},
     "output_type": "execute_result"
    }
   ],
   "source": [
    "matrix2 = pd.DataFrame.sparse.from_spmatrix(mat2)\n",
    "matrix2.shape"
   ]
  },
  {
   "cell_type": "code",
   "execution_count": 7,
   "id": "729c60f1",
   "metadata": {},
   "outputs": [],
   "source": [
    "matrix_dir = \"C:/matlab scripts/Quimica_Pluripotente_Humano_Guan/madre_mesenquimales_derivadas_de_adiposas/hCIPSCS-0618/raw_data\"\n",
    "mat = scipy.io.mmread(os.path.join(matrix_dir, \"matrix.mtx\"))\n",
    "np.savetxt(\"./X_reprogramadas.txt.gz\",mat.transpose().toarray().astype(np.uint8),delimiter = \",\")"
   ]
  },
  {
   "cell_type": "markdown",
   "id": "df1e4300",
   "metadata": {},
   "source": [
    "### 3.3 hADSCS-0809 : células mesenquimales humanas adultas derivadas del tejido adiposo sin reprogramar"
   ]
  },
  {
   "cell_type": "code",
   "execution_count": 22,
   "id": "524fa421",
   "metadata": {},
   "outputs": [
    {
     "data": {
      "text/plain": [
       "'Saved.'"
      ]
     },
     "execution_count": 22,
     "metadata": {},
     "output_type": "execute_result"
    }
   ],
   "source": [
    "matrix_dir = \"./madre_mesenquimales_derivadas_de_adiposas/hADSCS-0809\"\n",
    "\n",
    "# leemos la información en bruto\n",
    "mat,feature_ids,gene_names,feature_types,barcodes = read_data(matrix_dir)\n",
    "\n",
    "save_to_txt(mat,feature_ids,gene_names,feature_types,barcodes)"
   ]
  },
  {
   "cell_type": "code",
   "execution_count": 23,
   "id": "af361902",
   "metadata": {},
   "outputs": [
    {
     "data": {
      "text/plain": [
       "(32738, 6129)"
      ]
     },
     "execution_count": 23,
     "metadata": {},
     "output_type": "execute_result"
    }
   ],
   "source": [
    "matrix = pd.DataFrame.sparse.from_spmatrix(mat)\n",
    "matrix.shape"
   ]
  },
  {
   "cell_type": "markdown",
   "id": "3bb6b0c0",
   "metadata": {},
   "source": [
    "### 3.4 hCiPSCs-0809: células madre pluripotentes humanas inducidas químicamente a partir de células mesenquimales humanas adultas derivadas del tejido adiposo"
   ]
  },
  {
   "cell_type": "code",
   "execution_count": 24,
   "id": "a08f422a",
   "metadata": {},
   "outputs": [
    {
     "data": {
      "text/plain": [
       "'Saved.'"
      ]
     },
     "execution_count": 24,
     "metadata": {},
     "output_type": "execute_result"
    }
   ],
   "source": [
    "matrix_dir = \"./madre_mesenquimales_derivadas_de_adiposas/hCIPSCS-0809\"\n",
    "\n",
    "# leemos la información en bruto\n",
    "mat,feature_ids,gene_names,feature_types,barcodes = read_data(matrix_dir)\n",
    "\n",
    "save_to_txt(mat,feature_ids,gene_names,feature_types,barcodes)"
   ]
  },
  {
   "cell_type": "code",
   "execution_count": 25,
   "id": "18676f8f",
   "metadata": {},
   "outputs": [
    {
     "data": {
      "text/plain": [
       "(32738, 5524)"
      ]
     },
     "execution_count": 25,
     "metadata": {},
     "output_type": "execute_result"
    }
   ],
   "source": [
    "matrix = pd.DataFrame.sparse.from_spmatrix(mat)\n",
    "matrix.shape"
   ]
  },
  {
   "cell_type": "markdown",
   "id": "4b51f032",
   "metadata": {},
   "source": [
    "# 4. *Células madre embrionarias sin reprogramar*"
   ]
  },
  {
   "cell_type": "code",
   "execution_count": 26,
   "id": "3758526d",
   "metadata": {},
   "outputs": [
    {
     "data": {
      "text/plain": [
       "'Saved.'"
      ]
     },
     "execution_count": 26,
     "metadata": {},
     "output_type": "execute_result"
    }
   ],
   "source": [
    "matrix_dir = \"./H1\"\n",
    "\n",
    "# leemos la información en bruto\n",
    "mat,feature_ids,gene_names,feature_types,barcodes = read_data(matrix_dir)\n",
    "\n",
    "save_to_txt(mat,feature_ids,gene_names,feature_types,barcodes)"
   ]
  },
  {
   "cell_type": "code",
   "execution_count": 27,
   "id": "01efd7e4",
   "metadata": {},
   "outputs": [
    {
     "data": {
      "text/plain": [
       "(32738, 16530)"
      ]
     },
     "execution_count": 27,
     "metadata": {},
     "output_type": "execute_result"
    }
   ],
   "source": [
    "matrix = pd.DataFrame.sparse.from_spmatrix(mat)\n",
    "matrix.shape"
   ]
  },
  {
   "cell_type": "code",
   "execution_count": null,
   "id": "c0747b99",
   "metadata": {},
   "outputs": [],
   "source": []
  }
 ],
 "metadata": {
  "kernelspec": {
   "display_name": "Python 3.9.13 ('env': venv)",
   "language": "python",
   "name": "python3"
  },
  "language_info": {
   "codemirror_mode": {
    "name": "ipython",
    "version": 3
   },
   "file_extension": ".py",
   "mimetype": "text/x-python",
   "name": "python",
   "nbconvert_exporter": "python",
   "pygments_lexer": "ipython3",
   "version": "3.9.13"
  },
  "vscode": {
   "interpreter": {
    "hash": "2b46b747b265df9863f4933b259673f008751f908d2a07ed72dcdf0e50f0c1d5"
   }
  }
 },
 "nbformat": 4,
 "nbformat_minor": 5
}
