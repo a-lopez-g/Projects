{
 "cells": [
  {
   "cell_type": "markdown",
   "metadata": {},
   "source": [
    "## 1.Reprogramación química en humano : Guan"
   ]
  },
  {
   "cell_type": "markdown",
   "metadata": {},
   "source": [
    "Vamos a hacer dos experimentos:\n",
    "* Células sin reprogramar (X_no_reprogramadas) vs Células reprogramadas estado I (X_stage_I)\n",
    "* Células sin reprogramar (X_no_reprogramadas) vs Células reprogramadas estado II (X_stage_II)\n",
    "\n",
    "Cada conjunto de está formado por cuatro archivos: \n",
    "* Matriz X: matriz de conteos (células x genes).\n",
    "* Vector Y: vector con un valor -1 si son células sin reprogramar o 1 si son células reprogramadas.\n",
    "* Gene_id : vector fila con los id de cada genes (para visualizar los genes en los grafos). Iguales en células reprogramadas y sin reprogramar.\n",
    "* Barcodes: vector columna con los barcodes de cada célula. "
   ]
  },
  {
   "cell_type": "code",
   "execution_count": null,
   "metadata": {},
   "outputs": [],
   "source": [
    "# Para leer los archivos :\n",
    "\n",
    "# X_no_reprogramadas = pd.read_csv(\"/Guan_Reprogramacion_Parcial_Quimica_Humanos/fibroblastos_piel_adultos/X_no_reprogramadas.txt\",header=None,sep = ',')\n",
    "# y_no_reprogramadas = pd.read_csv(\"/Guan_Reprogramacion_Parcial_Quimica_Humanos/fibroblastos_piel_adultos/y_no_reprogramadas.txt\", header = None,sep = ',')\n",
    "# gene_id = pd.read_csv(\"/Guan_Reprogramacion_Parcial_Quimica_Humanos/fibroblastos_piel_adultos/gene_id_no_reprogramadas.txt\", header = None,sep = ',')\n",
    "# barcodes_no_reprogramadas = pd.read_csv(\"/Guan_Reprogramacion_Parcial_Quimica_Humanos/fibroblastos_piel_adultos/barcodes_no_reprogramadas.txt\", header = None,sep = ',')"
   ]
  },
  {
   "cell_type": "code",
   "execution_count": 15,
   "metadata": {},
   "outputs": [],
   "source": [
    "import pandas as pd\n",
    "import numpy as np"
   ]
  },
  {
   "cell_type": "markdown",
   "metadata": {},
   "source": [
    "### 1.1Sin reprogramar : creamos el vector Y."
   ]
  },
  {
   "cell_type": "code",
   "execution_count": 7,
   "metadata": {},
   "outputs": [],
   "source": [
    "# Fibroblastos sin reprogramar\n",
    "X_no_reprogramadas = pd.read_csv(\"C:/matlab scripts/Guan_Reprogramacion_Parcial_Quimica_Humanos/fibroblastos_piel_adultos/X_no_reprogramadas.txt\",header=None,sep = ',')\n",
    "X_no_reprogramadas.shape\n",
    "# gene_id_no_reprogramadas, barcodes_no_reprogramadas"
   ]
  },
  {
   "cell_type": "code",
   "execution_count": 9,
   "metadata": {},
   "outputs": [
    {
     "data": {
      "text/html": [
       "<div>\n",
       "<style scoped>\n",
       "    .dataframe tbody tr th:only-of-type {\n",
       "        vertical-align: middle;\n",
       "    }\n",
       "\n",
       "    .dataframe tbody tr th {\n",
       "        vertical-align: top;\n",
       "    }\n",
       "\n",
       "    .dataframe thead th {\n",
       "        text-align: right;\n",
       "    }\n",
       "</style>\n",
       "<table border=\"1\" class=\"dataframe\">\n",
       "  <thead>\n",
       "    <tr style=\"text-align: right;\">\n",
       "      <th></th>\n",
       "      <th>0</th>\n",
       "      <th>1</th>\n",
       "      <th>2</th>\n",
       "      <th>3</th>\n",
       "      <th>4</th>\n",
       "      <th>5</th>\n",
       "      <th>6</th>\n",
       "      <th>7</th>\n",
       "      <th>8</th>\n",
       "      <th>9</th>\n",
       "      <th>...</th>\n",
       "      <th>32728</th>\n",
       "      <th>32729</th>\n",
       "      <th>32730</th>\n",
       "      <th>32731</th>\n",
       "      <th>32732</th>\n",
       "      <th>32733</th>\n",
       "      <th>32734</th>\n",
       "      <th>32735</th>\n",
       "      <th>32736</th>\n",
       "      <th>32737</th>\n",
       "    </tr>\n",
       "  </thead>\n",
       "  <tbody>\n",
       "    <tr>\n",
       "      <th>0</th>\n",
       "      <td>0.0</td>\n",
       "      <td>0.0</td>\n",
       "      <td>0.0</td>\n",
       "      <td>0.0</td>\n",
       "      <td>0.0</td>\n",
       "      <td>0.0</td>\n",
       "      <td>0.0</td>\n",
       "      <td>0.0</td>\n",
       "      <td>0.0</td>\n",
       "      <td>0.0</td>\n",
       "      <td>...</td>\n",
       "      <td>0.0</td>\n",
       "      <td>0.0</td>\n",
       "      <td>0.0</td>\n",
       "      <td>0.0</td>\n",
       "      <td>0.0</td>\n",
       "      <td>0.0</td>\n",
       "      <td>0.0</td>\n",
       "      <td>0.0</td>\n",
       "      <td>0.0</td>\n",
       "      <td>0.0</td>\n",
       "    </tr>\n",
       "    <tr>\n",
       "      <th>1</th>\n",
       "      <td>0.0</td>\n",
       "      <td>0.0</td>\n",
       "      <td>0.0</td>\n",
       "      <td>0.0</td>\n",
       "      <td>0.0</td>\n",
       "      <td>0.0</td>\n",
       "      <td>0.0</td>\n",
       "      <td>0.0</td>\n",
       "      <td>1.0</td>\n",
       "      <td>0.0</td>\n",
       "      <td>...</td>\n",
       "      <td>0.0</td>\n",
       "      <td>0.0</td>\n",
       "      <td>0.0</td>\n",
       "      <td>0.0</td>\n",
       "      <td>2.0</td>\n",
       "      <td>0.0</td>\n",
       "      <td>0.0</td>\n",
       "      <td>0.0</td>\n",
       "      <td>0.0</td>\n",
       "      <td>0.0</td>\n",
       "    </tr>\n",
       "    <tr>\n",
       "      <th>2</th>\n",
       "      <td>0.0</td>\n",
       "      <td>0.0</td>\n",
       "      <td>0.0</td>\n",
       "      <td>0.0</td>\n",
       "      <td>0.0</td>\n",
       "      <td>0.0</td>\n",
       "      <td>0.0</td>\n",
       "      <td>0.0</td>\n",
       "      <td>0.0</td>\n",
       "      <td>0.0</td>\n",
       "      <td>...</td>\n",
       "      <td>0.0</td>\n",
       "      <td>0.0</td>\n",
       "      <td>0.0</td>\n",
       "      <td>0.0</td>\n",
       "      <td>1.0</td>\n",
       "      <td>0.0</td>\n",
       "      <td>0.0</td>\n",
       "      <td>0.0</td>\n",
       "      <td>0.0</td>\n",
       "      <td>0.0</td>\n",
       "    </tr>\n",
       "    <tr>\n",
       "      <th>3</th>\n",
       "      <td>0.0</td>\n",
       "      <td>0.0</td>\n",
       "      <td>0.0</td>\n",
       "      <td>0.0</td>\n",
       "      <td>0.0</td>\n",
       "      <td>0.0</td>\n",
       "      <td>0.0</td>\n",
       "      <td>0.0</td>\n",
       "      <td>1.0</td>\n",
       "      <td>0.0</td>\n",
       "      <td>...</td>\n",
       "      <td>0.0</td>\n",
       "      <td>0.0</td>\n",
       "      <td>0.0</td>\n",
       "      <td>0.0</td>\n",
       "      <td>0.0</td>\n",
       "      <td>0.0</td>\n",
       "      <td>0.0</td>\n",
       "      <td>0.0</td>\n",
       "      <td>0.0</td>\n",
       "      <td>0.0</td>\n",
       "    </tr>\n",
       "    <tr>\n",
       "      <th>4</th>\n",
       "      <td>0.0</td>\n",
       "      <td>0.0</td>\n",
       "      <td>0.0</td>\n",
       "      <td>0.0</td>\n",
       "      <td>0.0</td>\n",
       "      <td>0.0</td>\n",
       "      <td>0.0</td>\n",
       "      <td>0.0</td>\n",
       "      <td>0.0</td>\n",
       "      <td>0.0</td>\n",
       "      <td>...</td>\n",
       "      <td>0.0</td>\n",
       "      <td>0.0</td>\n",
       "      <td>0.0</td>\n",
       "      <td>0.0</td>\n",
       "      <td>0.0</td>\n",
       "      <td>0.0</td>\n",
       "      <td>0.0</td>\n",
       "      <td>0.0</td>\n",
       "      <td>0.0</td>\n",
       "      <td>0.0</td>\n",
       "    </tr>\n",
       "  </tbody>\n",
       "</table>\n",
       "<p>5 rows × 32738 columns</p>\n",
       "</div>"
      ],
      "text/plain": [
       "   0      1      2      3      4      5      6      7      8      9      ...  \\\n",
       "0    0.0    0.0    0.0    0.0    0.0    0.0    0.0    0.0    0.0    0.0  ...   \n",
       "1    0.0    0.0    0.0    0.0    0.0    0.0    0.0    0.0    1.0    0.0  ...   \n",
       "2    0.0    0.0    0.0    0.0    0.0    0.0    0.0    0.0    0.0    0.0  ...   \n",
       "3    0.0    0.0    0.0    0.0    0.0    0.0    0.0    0.0    1.0    0.0  ...   \n",
       "4    0.0    0.0    0.0    0.0    0.0    0.0    0.0    0.0    0.0    0.0  ...   \n",
       "\n",
       "   32728  32729  32730  32731  32732  32733  32734  32735  32736  32737  \n",
       "0    0.0    0.0    0.0    0.0    0.0    0.0    0.0    0.0    0.0    0.0  \n",
       "1    0.0    0.0    0.0    0.0    2.0    0.0    0.0    0.0    0.0    0.0  \n",
       "2    0.0    0.0    0.0    0.0    1.0    0.0    0.0    0.0    0.0    0.0  \n",
       "3    0.0    0.0    0.0    0.0    0.0    0.0    0.0    0.0    0.0    0.0  \n",
       "4    0.0    0.0    0.0    0.0    0.0    0.0    0.0    0.0    0.0    0.0  \n",
       "\n",
       "[5 rows x 32738 columns]"
      ]
     },
     "execution_count": 9,
     "metadata": {},
     "output_type": "execute_result"
    }
   ],
   "source": [
    "X_no_reprogramadas.head(5)"
   ]
  },
  {
   "cell_type": "code",
   "execution_count": 19,
   "metadata": {},
   "outputs": [],
   "source": [
    "# Vector Y -> son células sin reprogramar, -1. \n",
    "Y_no_reprogramadas = [-1]*(X_no_reprogramadas.shape[0])"
   ]
  },
  {
   "cell_type": "code",
   "execution_count": 21,
   "metadata": {},
   "outputs": [],
   "source": [
    "np.savetxt(\"C:/matlab scripts/Quimica_Pluripotente_Humano_Guan/fibroblastos_piel_adultos/y_no_reprogramadas.txt.gz\",Y_no_reprogramadas,delimiter = \",\",fmt = '%s')"
   ]
  },
  {
   "cell_type": "markdown",
   "metadata": {},
   "source": [
    "### 1.2 Stage I: creamos el vector Y"
   ]
  },
  {
   "cell_type": "code",
   "execution_count": 29,
   "metadata": {},
   "outputs": [],
   "source": [
    "#X_no_reprogramadas = pd.read_csv(\"C:/matlab scripts/Quimica_Pluripotente_Humano_Guan/fibroblastos_piel_adultos/X_no_reprogramadas.txt\", header = None,sep = ',')\n",
    "gene_id_stage_I = pd.read_csv(\"C:/matlab scripts/Quimica_Pluripotente_Humano_Guan/fibroblastos_piel_adultos/gene_id.txt\", header = None,sep = ',')\n",
    "barcodes_stage_I = pd.read_csv(\"C:/matlab scripts/Quimica_Pluripotente_Humano_Guan/fibroblastos_piel_adultos/barcodes.txt\", header = None,sep = ',')"
   ]
  },
  {
   "cell_type": "code",
   "execution_count": 34,
   "metadata": {},
   "outputs": [],
   "source": [
    "Y_stage_I = [1]*len(barcodes)\n",
    "np.savetxt(\"C:/matlab scripts/Quimica_Pluripotente_Humano_Guan/fibroblastos_piel_adultos/y_stage_I.txt.gz\",Y_stage_I,delimiter = \",\",fmt = '%s')"
   ]
  },
  {
   "cell_type": "markdown",
   "metadata": {},
   "source": [
    "### 1.3 Stage II: creamos vector Y"
   ]
  },
  {
   "cell_type": "code",
   "execution_count": 53,
   "metadata": {},
   "outputs": [],
   "source": [
    "#X_no_reprogramadas = pd.read_csv(\"C:/matlab scripts/Quimica_Pluripotente_Humano_Guan/fibroblastos_piel_adultos/X_no_reprogramadas.txt\", header = None,sep = ',')\n",
    "gene_id_stage_II = pd.read_csv(\"C:/matlab scripts/Quimica_Pluripotente_Humano_Guan/fibroblastos_piel_adultos/gene_id.txt\", header = None,sep = ',')\n",
    "barcodes_stage_II = pd.read_csv(\"C:/matlab scripts/Quimica_Pluripotente_Humano_Guan/fibroblastos_piel_adultos/barcodes.txt\", header = None,sep = ',')"
   ]
  },
  {
   "cell_type": "code",
   "execution_count": 54,
   "metadata": {},
   "outputs": [],
   "source": [
    "Y_stage_II = [1]*len(barcodes_stage_II)\n",
    "np.savetxt(\"C:/matlab scripts/Quimica_Pluripotente_Humano_Guan/fibroblastos_piel_adultos/y_stage_II.txt.gz\",Y_stage_II,delimiter = \",\",fmt = '%s')"
   ]
  },
  {
   "cell_type": "code",
   "execution_count": null,
   "metadata": {},
   "outputs": [],
   "source": []
  }
 ],
 "metadata": {
  "kernelspec": {
   "display_name": "Python 3.9.13 ('env': venv)",
   "language": "python",
   "name": "python3"
  },
  "language_info": {
   "codemirror_mode": {
    "name": "ipython",
    "version": 3
   },
   "file_extension": ".py",
   "mimetype": "text/x-python",
   "name": "python",
   "nbconvert_exporter": "python",
   "pygments_lexer": "ipython3",
   "version": "3.9.13"
  },
  "orig_nbformat": 4,
  "vscode": {
   "interpreter": {
    "hash": "2b46b747b265df9863f4933b259673f008751f908d2a07ed72dcdf0e50f0c1d5"
   }
  }
 },
 "nbformat": 4,
 "nbformat_minor": 2
}
