{
 "cells": [
  {
   "cell_type": "code",
   "execution_count": 1,
   "id": "95bf324b",
   "metadata": {},
   "outputs": [],
   "source": [
    "import os\n",
    "import scanpy as sc\n",
    "import anndata\n",
    "from urllib.request import urlretrieve\n",
    "import matplotlib.pyplot as plt\n",
    "%matplotlib inline\n",
    "import tables as tb\n",
    "import h5py\n",
    "import pandas as pd\n",
    "import numpy as np"
   ]
  },
  {
   "cell_type": "code",
   "execution_count": 2,
   "id": "4957c785",
   "metadata": {},
   "outputs": [],
   "source": [
    "file_path_dox_plus = \"C:\\matlab scripts\\Yamanaka_Parcial_Raton_Izpisua\\GSE144600_liver4F_SC_plusDox_filtered_feature_bc_matrix.h5\""
   ]
  },
  {
   "cell_type": "markdown",
   "id": "60acde49",
   "metadata": {},
   "source": [
    "Tenemos un archivo con la matriz en formato .h5. Tenemos que acceder a esa matriz, para ello primero vemos la estructura de los datos. "
   ]
  },
  {
   "cell_type": "code",
   "execution_count": 3,
   "id": "3a75cb81",
   "metadata": {},
   "outputs": [
    {
     "name": "stdout",
     "output_type": "stream",
     "text": [
      "['matrix']\n"
     ]
    }
   ],
   "source": [
    "f = h5py.File(file_path_dox_plus, 'r')\n",
    "print(list(f.keys()))"
   ]
  },
  {
   "cell_type": "code",
   "execution_count": 7,
   "id": "31086b62",
   "metadata": {},
   "outputs": [],
   "source": [
    "def get_h5_structure(f, level=0):\n",
    "    \"\"\"    prints structure of hdf5 file    \"\"\"\n",
    "    for key in f.keys():\n",
    "        if isinstance(f[key], h5py._hl.dataset.Dataset):\n",
    "            print(f\"'  '*level DATASET: f[key].name\")\n",
    "        elif isinstance(f[key], h5py._hl.group.Group):\n",
    "            print(f\"'  '*level GROUP: key, f[key].name\")\n",
    "            level += 1\n",
    "            get_h5_structure(f[key], level)\n",
    "            level -= 1\n",
    "\n",
    "        if f[key].parent.name == \"/\":\n",
    "            print(\"n\"*2)\n",
    "\n",
    "get_h5_structure(f)"
   ]
  },
  {
   "cell_type": "code",
   "execution_count": 7,
   "id": "3954fe3e",
   "metadata": {},
   "outputs": [],
   "source": [
    "import collections\n",
    "import scipy.sparse as sp_sparse\n",
    "import tables\n",
    " \n",
    "CountMatrix = collections.namedtuple('CountMatrix', ['feature_ref', 'barcodes', 'matrix'])\n",
    " \n",
    "def get_matrix_from_h5(filename):\n",
    "    with tables.open_file(filename, 'r') as f:\n",
    "        mat_group = f.get_node(f.root, 'matrix')\n",
    "        barcodes = f.get_node(mat_group, 'barcodes').read()\n",
    "        data = getattr(mat_group, 'data').read()\n",
    "        indices = getattr(mat_group, 'indices').read()\n",
    "        indptr = getattr(mat_group, 'indptr').read()\n",
    "        shape = getattr(mat_group, 'shape').read()\n",
    "        matrix = sp_sparse.csc_matrix((data, indices, indptr), shape=shape)\n",
    "         \n",
    "        feature_ref = {}\n",
    "        feature_group = f.get_node(mat_group, 'features')\n",
    "        feature_ids = getattr(feature_group, 'id').read()\n",
    "        feature_names = getattr(feature_group, 'name').read()\n",
    "        feature_types = getattr(feature_group, 'feature_type').read()\n",
    "        feature_ref['id'] = feature_ids\n",
    "        feature_ref['name'] = feature_names\n",
    "        feature_ref['feature_type'] = feature_types\n",
    "        tag_keys = getattr(feature_group, '_all_tag_keys').read()\n",
    "        for key in tag_keys:\n",
    "            key = key.decode(\"utf-8\")\n",
    "            feature_ref[key] = getattr(feature_group, key).read()\n",
    "         \n",
    "        return CountMatrix(feature_ref, barcodes, matrix)\n",
    " \n",
    "\n",
    "filtered_feature_bc_matrix = get_matrix_from_h5(file_path_dox_plus)"
   ]
  },
  {
   "cell_type": "code",
   "execution_count": 10,
   "id": "c8fba4bb",
   "metadata": {},
   "outputs": [
    {
     "data": {
      "text/plain": [
       "<27998x7765 sparse matrix of type '<class 'numpy.int32'>'\n",
       "\twith 3372872 stored elements in Compressed Sparse Column format>"
      ]
     },
     "execution_count": 10,
     "metadata": {},
     "output_type": "execute_result"
    }
   ],
   "source": [
    "filtered_feature_bc_matrix.matrix"
   ]
  },
  {
   "cell_type": "code",
   "execution_count": 11,
   "id": "327e6e73",
   "metadata": {},
   "outputs": [],
   "source": [
    "np.savetxt(\"C:\\matlab scripts\\Yamanaka_Parcial_Raton_Izpisua\\X_filtered_dox_plus.txt.gz\",filtered_feature_bc_matrix.matrix.transpose().toarray().astype(np.uint8),delimiter = \",\")"
   ]
  },
  {
   "cell_type": "markdown",
   "id": "3adad9f4",
   "metadata": {},
   "source": [
    "Ahora extraemos la matriz Dox minus. "
   ]
  },
  {
   "cell_type": "code",
   "execution_count": 14,
   "id": "9f99369d",
   "metadata": {},
   "outputs": [],
   "source": [
    "file_path_dox_minus = \"C:\\matlab scripts\\Yamanaka_Parcial_Raton_Izpisua\\GSE144600_liver4F_SC_minusDox_filtered_feature_bc_matrix.h5\"\n",
    "\n",
    "CountMatrix = collections.namedtuple('CountMatrix', ['feature_ref', 'barcodes', 'matrix'])\n",
    "filtered_feature_bc_matrix_minus = get_matrix_from_h5(file_path_dox_minus)\n",
    "    "
   ]
  },
  {
   "cell_type": "code",
   "execution_count": 15,
   "id": "9d5a07e8",
   "metadata": {},
   "outputs": [
    {
     "data": {
      "text/plain": [
       "<27998x8277 sparse matrix of type '<class 'numpy.int32'>'\n",
       "\twith 4429550 stored elements in Compressed Sparse Column format>"
      ]
     },
     "execution_count": 15,
     "metadata": {},
     "output_type": "execute_result"
    }
   ],
   "source": [
    "filtered_feature_bc_matrix_minus.matrix"
   ]
  },
  {
   "cell_type": "code",
   "execution_count": 16,
   "id": "dbf9724b",
   "metadata": {},
   "outputs": [],
   "source": [
    "np.savetxt(\"C:\\matlab scripts\\Yamanaka_Parcial_Raton_Izpisua\\X_filtered_dox_minus.txt.gz\",filtered_feature_bc_matrix_minus.matrix.transpose().toarray().astype(np.uint8),delimiter = \",\")"
   ]
  },
  {
   "cell_type": "markdown",
   "id": "971d61fe",
   "metadata": {},
   "source": [
    "# 1. Matrix Dox + (reprogramadas)"
   ]
  },
  {
   "cell_type": "markdown",
   "id": "c5d7c7c4",
   "metadata": {},
   "source": [
    "Tenemos un archivo .h5 que contiene la matriz (matrix) de conteos. Esta clase tiene 6 grupos: barcodes, data, features, indices, indptr y shape."
   ]
  },
  {
   "cell_type": "code",
   "execution_count": 2,
   "id": "d44fc601",
   "metadata": {},
   "outputs": [],
   "source": [
    "filename = \"C:\\matlab scripts\\Yamanaka_Parcial_Raton_Izpisua\\GSE144600_liver4F_SC_plusDox_filtered_feature_bc_matrix.h5\"\n",
    "\n",
    "dox_plus = h5py.File(filename, \"r\")"
   ]
  },
  {
   "cell_type": "code",
   "execution_count": 4,
   "id": "f5941927",
   "metadata": {},
   "outputs": [
    {
     "name": "stdout",
     "output_type": "stream",
     "text": [
      "matrix\n",
      "<class 'h5py._hl.group.Group'>\n"
     ]
    }
   ],
   "source": [
    "for key in dox_plus.keys():\n",
    "    print(key) #Names of the root level object names in HDF5 file - can be groups or datasets.\n",
    "    print(type(dox_plus[key])) # get the object type: usually group or dataset"
   ]
  },
  {
   "cell_type": "code",
   "execution_count": 5,
   "id": "0acb9ec0",
   "metadata": {},
   "outputs": [
    {
     "name": "stdout",
     "output_type": "stream",
     "text": [
      "barcodes\n",
      "data\n",
      "features\n",
      "indices\n",
      "indptr\n",
      "shape\n"
     ]
    }
   ],
   "source": [
    "# ES UNA CLASE (matrix) QUE TIENE: Barcodes, data, features, indices, indptr y shape\n",
    "\n",
    "#Get the HDF5 group; key needs to be a group name from above\n",
    "matrix_dox_plus = dox_plus[\"matrix\"]\n",
    "\n",
    "#Checkout what keys are inside that group.\n",
    "for key in matrix_dox_plus.keys():\n",
    "    print(key)"
   ]
  },
  {
   "cell_type": "markdown",
   "id": "f6478ad5",
   "metadata": {},
   "source": [
    "### 1.Barcodes"
   ]
  },
  {
   "cell_type": "code",
   "execution_count": 89,
   "id": "a59fcd51",
   "metadata": {},
   "outputs": [
    {
     "name": "stdout",
     "output_type": "stream",
     "text": [
      "[b'AAACCCAAGACTGTTC-1' b'AAACCCAAGGATACGC-1' b'AAACCCAAGGTCTACT-1' ...\n",
      " b'TTTGTTGCAATGACCT-1' b'TTTGTTGCACATACGT-1' b'TTTGTTGTCTCGCAGG-1']\n"
     ]
    }
   ],
   "source": [
    "barcodes_plus = matrix_dox_plus[\"barcodes\"][()]\n",
    "print(barcodes_plus)"
   ]
  },
  {
   "cell_type": "markdown",
   "id": "ec8acb1e",
   "metadata": {},
   "source": [
    "### 2.Features"
   ]
  },
  {
   "cell_type": "code",
   "execution_count": 46,
   "id": "42bd4585",
   "metadata": {},
   "outputs": [],
   "source": [
    "features = matrix_dox_plus[\"features\"].keys()"
   ]
  },
  {
   "cell_type": "code",
   "execution_count": 47,
   "id": "d8455594",
   "metadata": {},
   "outputs": [
    {
     "name": "stdout",
     "output_type": "stream",
     "text": [
      "<KeysViewHDF5 ['_all_tag_keys', 'feature_type', 'genome', 'id', 'name']>\n"
     ]
    }
   ],
   "source": [
    "print(features)"
   ]
  },
  {
   "cell_type": "code",
   "execution_count": 97,
   "id": "45b0d2c5",
   "metadata": {},
   "outputs": [
    {
     "name": "stdout",
     "output_type": "stream",
     "text": [
      "[b'Xkr4' b'Gm1992' b'Gm37381' ... b'DHRSX' b'Vmn2r122' b'CAAA01147332.1']\n"
     ]
    }
   ],
   "source": [
    "ids_plus = matrix_dox_plus[\"features\"][\"id\"][()]\n",
    "tag_keys = matrix_dox_plus[\"features\"][\"_all_tag_keys\"][()]\n",
    "feature_type = matrix_dox_plus[\"features\"][\"feature_type\"][()]\n",
    "genome = matrix_dox_plus[\"features\"][\"genome\"][()]\n",
    "name = matrix_dox_plus[\"features\"][\"name\"][()]\n",
    "print(name)"
   ]
  },
  {
   "cell_type": "markdown",
   "id": "04d86578",
   "metadata": {},
   "source": [
    "### 3.Indices"
   ]
  },
  {
   "cell_type": "code",
   "execution_count": 64,
   "id": "7f1c3979",
   "metadata": {},
   "outputs": [
    {
     "name": "stdout",
     "output_type": "stream",
     "text": [
      "<HDF5 dataset \"indices\": shape (3372872,), type \"<i8\">\n"
     ]
    }
   ],
   "source": [
    "indices = matrix_dox_plus[\"indices\"]\n",
    "print(indices)"
   ]
  },
  {
   "cell_type": "markdown",
   "id": "b05d8ae3",
   "metadata": {},
   "source": [
    "### 4.Indptr"
   ]
  },
  {
   "cell_type": "code",
   "execution_count": 65,
   "id": "0133d6ff",
   "metadata": {},
   "outputs": [
    {
     "name": "stdout",
     "output_type": "stream",
     "text": [
      "<HDF5 dataset \"indptr\": shape (7766,), type \"<i8\">\n"
     ]
    }
   ],
   "source": [
    "indptr = matrix_dox_plus[\"indptr\"]\n",
    "print(indptr)"
   ]
  },
  {
   "cell_type": "markdown",
   "id": "1e870b1c",
   "metadata": {},
   "source": [
    "# 2. Matrix Dox - (control)"
   ]
  },
  {
   "cell_type": "code",
   "execution_count": 71,
   "id": "c9cfe6d0",
   "metadata": {},
   "outputs": [],
   "source": [
    "filename = \"GSE144600_liver4F_SC_minusDox_filtered_feature_bc_matrix.h5\"\n",
    "\n",
    "dox_minus = h5py.File(filename, \"r\")"
   ]
  },
  {
   "cell_type": "code",
   "execution_count": 76,
   "id": "34a2acf4",
   "metadata": {},
   "outputs": [
    {
     "name": "stdout",
     "output_type": "stream",
     "text": [
      "matrix\n",
      "<class 'h5py._hl.group.Group'>\n"
     ]
    }
   ],
   "source": [
    "for key in dox_minus.keys():\n",
    "    print(key) #Names of the root level object names in HDF5 file - can be groups or datasets.\n",
    "    print(type(f[key])) # get the object type: usually group or dataset"
   ]
  },
  {
   "cell_type": "code",
   "execution_count": 77,
   "id": "62c29e44",
   "metadata": {},
   "outputs": [
    {
     "name": "stdout",
     "output_type": "stream",
     "text": [
      "barcodes\n",
      "data\n",
      "features\n",
      "indices\n",
      "indptr\n",
      "shape\n"
     ]
    }
   ],
   "source": [
    "# ES UNA CLASE (matrix) QUE TIENE: Barcodes, data, features, indices, indptr y shape\n",
    "\n",
    "#Get the HDF5 group; key needs to be a group name from above\n",
    "matrix_dox_minus = dox_minus[\"matrix\"]\n",
    "\n",
    "#Checkout what keys are inside that group.\n",
    "for key in matrix_dox_minus.keys():\n",
    "    print(key)"
   ]
  },
  {
   "cell_type": "markdown",
   "id": "676f6e38",
   "metadata": {},
   "source": [
    "### 1.Barcodes"
   ]
  },
  {
   "cell_type": "code",
   "execution_count": 91,
   "id": "27d116b5",
   "metadata": {},
   "outputs": [
    {
     "name": "stdout",
     "output_type": "stream",
     "text": [
      "<HDF5 dataset \"barcodes\": shape (8277,), type \"|S18\">\n"
     ]
    }
   ],
   "source": [
    "barcodes_minus = matrix_dox_minus[\"barcodes\"]\n",
    "print(barcodes_minus)"
   ]
  },
  {
   "cell_type": "markdown",
   "id": "2552e54e",
   "metadata": {},
   "source": [
    "### 2.Features"
   ]
  },
  {
   "cell_type": "code",
   "execution_count": 83,
   "id": "72e97b22",
   "metadata": {},
   "outputs": [
    {
     "name": "stdout",
     "output_type": "stream",
     "text": [
      "<KeysViewHDF5 ['_all_tag_keys', 'feature_type', 'genome', 'id', 'name']>\n"
     ]
    }
   ],
   "source": [
    "features = matrix_dox_minus[\"features\"].keys()\n",
    "print(features)"
   ]
  },
  {
   "cell_type": "code",
   "execution_count": 96,
   "id": "6a421afd",
   "metadata": {},
   "outputs": [
    {
     "name": "stdout",
     "output_type": "stream",
     "text": [
      "<HDF5 dataset \"id\": shape (27998,), type \"|S18\">\n",
      "[b'genome']\n",
      "[b'Gene Expression' b'Gene Expression' b'Gene Expression' ...\n",
      " b'Gene Expression' b'Gene Expression' b'Gene Expression']\n",
      "[b'mm10' b'mm10' b'mm10' ... b'mm10' b'mm10' b'mm10']\n",
      "[b'Xkr4' b'Gm1992' b'Gm37381' ... b'DHRSX' b'Vmn2r122' b'CAAA01147332.1']\n"
     ]
    }
   ],
   "source": [
    "ids_minus = matrix_dox_minus[\"features\"][\"id\"]\n",
    "tag_keys = matrix_dox_minus[\"features\"][\"_all_tag_keys\"][()]\n",
    "feature_type = matrix_dox_minus[\"features\"][\"feature_type\"][()]\n",
    "genome = matrix_dox_minus[\"features\"][\"genome\"][()]\n",
    "name = matrix_dox_minus[\"features\"][\"name\"][()]\n",
    "print(ids_minus)\n",
    "print(tag_keys)\n",
    "print(feature_type)\n",
    "print(genome)\n",
    "print(name)"
   ]
  },
  {
   "cell_type": "markdown",
   "id": "ff4c2c31",
   "metadata": {},
   "source": [
    "### 3.Indices"
   ]
  },
  {
   "cell_type": "code",
   "execution_count": 85,
   "id": "0c3d7786",
   "metadata": {},
   "outputs": [
    {
     "name": "stdout",
     "output_type": "stream",
     "text": [
      "<HDF5 dataset \"indices\": shape (4429550,), type \"<i8\">\n"
     ]
    }
   ],
   "source": [
    "indices = matrix_dox_minus[\"indices\"]\n",
    "print(indices)"
   ]
  },
  {
   "cell_type": "markdown",
   "id": "4bf80be6",
   "metadata": {},
   "source": [
    "### 4.Indptr"
   ]
  },
  {
   "cell_type": "code",
   "execution_count": null,
   "id": "1afcfab8",
   "metadata": {},
   "outputs": [],
   "source": [
    "indptr = matrix_dox_minus[\"indptr\"]\n",
    "print(indptr)"
   ]
  }
 ],
 "metadata": {
  "kernelspec": {
   "display_name": "Python 3.9.13 64-bit (windows store)",
   "language": "python",
   "name": "python3"
  },
  "language_info": {
   "codemirror_mode": {
    "name": "ipython",
    "version": 3
   },
   "file_extension": ".py",
   "mimetype": "text/x-python",
   "name": "python",
   "nbconvert_exporter": "python",
   "pygments_lexer": "ipython3",
   "version": "3.9.13"
  },
  "vscode": {
   "interpreter": {
    "hash": "d9f265969a33235ab4cce3c7520972e97721fcbe1a7425c6391c9ee13c7be8be"
   }
  }
 },
 "nbformat": 4,
 "nbformat_minor": 5
}
