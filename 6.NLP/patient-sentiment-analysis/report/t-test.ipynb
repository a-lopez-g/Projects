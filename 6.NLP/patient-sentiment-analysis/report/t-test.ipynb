{
 "cells": [
  {
   "cell_type": "code",
   "execution_count": 15,
   "metadata": {},
   "outputs": [],
   "source": [
    "import pandas as pd\n",
    "import numpy as np\n",
    "\n",
    "an_xg_m = pd.read_pickle(\"../training_scripts/monograms/AN_XG.pickle\")\n",
    "an_rf_m = pd.read_pickle(\"../training_scripts/monograms/AN_RF.pickle\")"
   ]
  },
  {
   "cell_type": "code",
   "execution_count": 12,
   "metadata": {},
   "outputs": [],
   "source": [
    "import scipy.stats as stats\n",
    "\n",
    "test_auc_A = an_xg_m['tst_score_list']\n",
    "test_auc_B = an_rf_m['tst_score_list']\n",
    "\n",
    "\n",
    "vars = (np.var(test_auc_A), np.var(test_auc_B))\n",
    "equal_var =  max(vars)/min(vars)<2\n",
    "stat, p_val = stats.ttest_ind(a=test_auc_A, b=test_auc_B, equal_var=equal_var)"
   ]
  },
  {
   "cell_type": "code",
   "execution_count": 13,
   "metadata": {},
   "outputs": [
    {
     "name": "stdout",
     "output_type": "stream",
     "text": [
      "-0.75045004584594 0.45478174451515574\n"
     ]
    }
   ],
   "source": [
    "print(stat, p_val)"
   ]
  },
  {
   "cell_type": "code",
   "execution_count": 14,
   "metadata": {},
   "outputs": [
    {
     "name": "stdout",
     "output_type": "stream",
     "text": [
      "True\n"
     ]
    }
   ],
   "source": [
    "print(equal_var)"
   ]
  }
 ],
 "metadata": {
  "kernelspec": {
   "display_name": "env",
   "language": "python",
   "name": "python3"
  },
  "language_info": {
   "codemirror_mode": {
    "name": "ipython",
    "version": 3
   },
   "file_extension": ".py",
   "mimetype": "text/x-python",
   "name": "python",
   "nbconvert_exporter": "python",
   "pygments_lexer": "ipython3",
   "version": "3.10.6 (main, Nov 14 2022, 16:10:14) [GCC 11.3.0]"
  },
  "orig_nbformat": 4,
  "vscode": {
   "interpreter": {
    "hash": "29e954d8a289d90ac34e029376a22148d6c76d8562e572144f5c2dcc6c80e121"
   }
  }
 },
 "nbformat": 4,
 "nbformat_minor": 2
}
